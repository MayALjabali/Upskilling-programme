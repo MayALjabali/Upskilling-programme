{
 "cells": [
  {
   "cell_type": "code",
   "execution_count": 1,
   "metadata": {},
   "outputs": [
    {
     "name": "stdout",
     "output_type": "stream",
     "text": [
      "The total number of Legendary Pokemons is :  4\n",
      "The total number of unique pokemon types is :  18\n",
      "The number of pokemons who get a single type is :  84\n",
      "The number of pokemons who get two types is :  67\n",
      "The highst frequent pokemon type is :  Water, And it appears  28\n"
     ]
    }
   ],
   "source": [
    "import csv\n",
    "from collections import defaultdict\n",
    "\n",
    "columns = defaultdict(list)\n",
    "\n",
    "with open('Pokemon.csv') as f:\n",
    "    reader = csv.DictReader(f)\n",
    "    for row in reader:\n",
    "        for (k,v) in row.items():\n",
    "            columns[k].append(v) \n",
    "c=0\n",
    "for val in columns['Legendary']:\n",
    "    if val=='TRUE':\n",
    "     c+=1\n",
    "print(\"The total number of Legendary Pokemons is : \",c)\n",
    "list1=[]\n",
    "for x in columns['Typea']:\n",
    "    if x not in list1:\n",
    "        list1.append(x)\n",
    "for n in columns['Typeb']:\n",
    "    if n not in list1:\n",
    "        list1.append(n)\n",
    "print('The total number of unique pokemon types is : ',len(list1))\n",
    "list2=[]\n",
    "list3=[]\n",
    "c1=0\n",
    "count1=0\n",
    "for k in columns['Typeb']:\n",
    "    list2.append(k)\n",
    "#for x in columns['Typea']:\n",
    "for x in list2:\n",
    "    if x is \"\":\n",
    "        count1+=1\n",
    "        \n",
    "print(\"The number of pokemons who get a single type is : \",count1)\n",
    "        \n",
    "\n",
    "print(\"The number of pokemons who get two types is : \", len(list2)-count1)\n",
    "\n",
    "\n",
    "x=dict((i, columns['Typea'].count(i)) for i in columns['Typea'])\n",
    "\n",
    "\n",
    "for q in x.keys():\n",
    "    if x[q]> c1:\n",
    "        c1 = x[q]\n",
    "\n",
    "maximum=max(x, key=x.get)\n",
    "print(\"The highst frequent pokemon type is : \",maximum,end='')\n",
    "print(\", And it appears \",c1)\n",
    "\n",
    "list3=[]\n",
    "\n",
    "k=0\n",
    "for val in columns['Typeb']:\n",
    " if val==\"Flying\":\n",
    "  k+=1\n",
    "\n"
   ]
  },
  {
   "cell_type": "code",
   "execution_count": null,
   "metadata": {},
   "outputs": [],
   "source": []
  }
 ],
 "metadata": {
  "kernelspec": {
   "display_name": "Python 3",
   "language": "python",
   "name": "python3"
  },
  "language_info": {
   "codemirror_mode": {
    "name": "ipython",
    "version": 3
   },
   "file_extension": ".py",
   "mimetype": "text/x-python",
   "name": "python",
   "nbconvert_exporter": "python",
   "pygments_lexer": "ipython3",
   "version": "3.7.4"
  }
 },
 "nbformat": 4,
 "nbformat_minor": 2
}
