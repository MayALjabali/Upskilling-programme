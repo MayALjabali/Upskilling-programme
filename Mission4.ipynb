{
 "cells": [
  {
   "cell_type": "markdown",
   "metadata": {},
   "source": [
    "\n",
    "1. Write a Python program to find the second largest number in a list."
   ]
  },
  {
   "cell_type": "markdown",
   "metadata": {},
   "source": [
    "Write a Python program to find the index of the second largest number in a list."
   ]
  },
  {
   "cell_type": "code",
   "execution_count": 7,
   "metadata": {},
   "outputs": [
    {
     "name": "stdout",
     "output_type": "stream",
     "text": [
      "8\n"
     ]
    }
   ],
   "source": [
    "a=[13,5,6,8]\n",
    "a.sort()\n",
    "print(a[-2])\n",
    "\n"
   ]
  },
  {
   "cell_type": "markdown",
   "metadata": {},
   "source": [
    "3. Write a Python program to check a container is empty or not."
   ]
  },
  {
   "cell_type": "code",
   "execution_count": 9,
   "metadata": {},
   "outputs": [
    {
     "name": "stdout",
     "output_type": "stream",
     "text": [
      "not empty\n"
     ]
    }
   ],
   "source": [
    "s=[1,4,6]\n",
    "print('not empty' if s else 'Empty')"
   ]
  },
  {
   "cell_type": "markdown",
   "metadata": {},
   "source": [
    "4. Write a Python program using Sieve of Eratosthenes method for computing primes upto a\n",
    "specified number.\n",
    "Note: In mathematics, the sieve of Eratosthenes,one of a number of prime number sieves, is a\n",
    "simple, ancient algorithm for finding all prime numbers up to any given limit.\n",
    "    "
   ]
  },
  {
   "cell_type": "code",
   "execution_count": 11,
   "metadata": {},
   "outputs": [
    {
     "ename": "IndentationError",
     "evalue": "expected an indented block (<ipython-input-11-09634aaa7e16>, line 7)",
     "output_type": "error",
     "traceback": [
      "\u001b[1;36m  File \u001b[1;32m\"<ipython-input-11-09634aaa7e16>\"\u001b[1;36m, line \u001b[1;32m7\u001b[0m\n\u001b[1;33m    k.append(j)\u001b[0m\n\u001b[1;37m    ^\u001b[0m\n\u001b[1;31mIndentationError\u001b[0m\u001b[1;31m:\u001b[0m expected an indented block\n"
     ]
    }
   ],
   "source": [
    "for i in range(2,11):\n",
    "    k=[]\n",
    "    if i not in k:\n",
    "        k.append(i)\n",
    "    for j in range(i+1,11):\n",
    "        if j%i==0:\n",
    "        k.append(j)###\n",
    "        \n",
    "    \n",
    "    "
   ]
  },
  {
   "cell_type": "markdown",
   "metadata": {},
   "source": [
    "5. Given a list slice it into a 3 equal chunks and print each list."
   ]
  },
  {
   "cell_type": "code",
   "execution_count": 27,
   "metadata": {},
   "outputs": [
    {
     "name": "stdout",
     "output_type": "stream",
     "text": [
      "[[1, 2, 3], [4, 5, 6], [7]]\n"
     ]
    }
   ],
   "source": [
    "def chunk(l):\n",
    "    n=3\n",
    "    for i in range(0,len(l),n):\n",
    "        \n",
    "        yield l[i:i+n] \n",
    "l = [1,2,3,4,5,6,7]\n",
    "print(list(chunk(l)))\n",
    "\n"
   ]
  },
  {
   "cell_type": "markdown",
   "metadata": {},
   "source": [
    "6. Write a Python program to sort a list in descending order. \n",
    "    \n"
   ]
  },
  {
   "cell_type": "code",
   "execution_count": 29,
   "metadata": {},
   "outputs": [
    {
     "name": "stdout",
     "output_type": "stream",
     "text": [
      "[90, 10, 7, 3, 3, 2]\n"
     ]
    }
   ],
   "source": [
    "n=[10,2,3,7,90,3]\n",
    "n.sort(reverse=True)   ## reverse=Flase(incresde)\n",
    "print(n)"
   ]
  },
  {
   "cell_type": "markdown",
   "metadata": {},
   "source": [
    "7. Write a Python program to reverse a list."
   ]
  },
  {
   "cell_type": "code",
   "execution_count": 8,
   "metadata": {},
   "outputs": [
    {
     "name": "stdout",
     "output_type": "stream",
     "text": [
      "[5, 4, 3, 2, 1]\n"
     ]
    }
   ],
   "source": [
    "n=[1,2,3,4,5]\n",
    "n.reverse()\n",
    "print(n)"
   ]
  },
  {
   "cell_type": "markdown",
   "metadata": {},
   "source": [
    "8. Write a Python program to flatten a 2-D list."
   ]
  },
  {
   "cell_type": "code",
   "execution_count": 30,
   "metadata": {},
   "outputs": [
    {
     "name": "stdout",
     "output_type": "stream",
     "text": [
      "[1, 2, 3, 3, 2, 1]\n"
     ]
    }
   ],
   "source": [
    "n=[[1,2,3],[3,2,1]]\n",
    "k=[]\n",
    "for i in range(len(n)):\n",
    "    k+=n[i]\n",
    "print(k)"
   ]
  },
  {
   "cell_type": "markdown",
   "metadata": {},
   "source": [
    "9. Given an input list removes the element at index 4 and add it to the 2nd position and also, at\n",
    "the end of the list\n"
   ]
  },
  {
   "cell_type": "code",
   "execution_count": 31,
   "metadata": {},
   "outputs": [
    {
     "name": "stdout",
     "output_type": "stream",
     "text": [
      "[12, 34, 16, 18, 45]\n"
     ]
    }
   ],
   "source": [
    "n=[12,14,16,18,20,25]\n",
    "fourth=n.pop(4)\n",
    "\n",
    "n[1]+=fourth\n",
    "n[len(n)-1]+=fourth\n",
    "print(n)"
   ]
  },
  {
   "cell_type": "markdown",
   "metadata": {},
   "source": [
    "10. Given a two list of equal size create a set such that it shows the element from both lists in the\n",
    "pair."
   ]
  },
  {
   "cell_type": "code",
   "execution_count": 43,
   "metadata": {},
   "outputs": [
    {
     "name": "stdout",
     "output_type": "stream",
     "text": [
      "{(1, 5), (2, 6), (3, 7), (4, 8)}\n"
     ]
    }
   ],
   "source": [
    "r=[1,2,3,4]\n",
    "h=[5,6,7,8]\n",
    "s = ((a,b) for a in r for b in h if r.index(a)==h.index(b))\n",
    "\n",
    "    \n",
    "print(set(s))    \n",
    "\n"
   ]
  },
  {
   "cell_type": "markdown",
   "metadata": {},
   "source": [
    "11. Iterate a given list and Check if a given element already exists in a dictionary as a key’s value\n",
    "if not delete it from the list."
   ]
  },
  {
   "cell_type": "code",
   "execution_count": 52,
   "metadata": {},
   "outputs": [
    {
     "name": "stdout",
     "output_type": "stream",
     "text": [
      "[2]\n"
     ]
    }
   ],
   "source": [
    "'''li= [ 2,3,4]\n",
    "dic = {'a':1,'b':2,'c':5}\n",
    "\n",
    "for i in li:\n",
    "    for k,v in dic.items():\n",
    "        if v == i:\n",
    "            li.remove(i)\n",
    " print(li)  '''  ## if not        \n",
    "li= [ 2,3,4]\n",
    "dic = {'a':1,'b':2,'c':5}\n",
    "y=[]\n",
    "for i in li:\n",
    "    for k,v in dic.items():\n",
    "        if v == i:\n",
    "            y.append(i)\n",
    "print(y)"
   ]
  },
  {
   "cell_type": "markdown",
   "metadata": {},
   "source": [
    "11. Iterate a given list and Check if a given element already exists in a dictionary as a key’s value\n",
    "if not delete it from the list."
   ]
  },
  {
   "cell_type": "markdown",
   "metadata": {},
   "source": [
    "12. Given a dictionary get all values from the dictionary and add it in a list but don’t add duplicates."
   ]
  },
  {
   "cell_type": "code",
   "execution_count": 53,
   "metadata": {},
   "outputs": [
    {
     "name": "stdout",
     "output_type": "stream",
     "text": [
      "[2, 6, 8]\n"
     ]
    }
   ],
   "source": [
    "dic={'a':2,'c':6,'f':8,'d':8}\n",
    "l=[]\n",
    "for val in dic.values():\n",
    "    if val not in l:\n",
    "        l.append(val)\n",
    "print(l)       \n",
    "    "
   ]
  },
  {
   "cell_type": "code",
   "execution_count": 57,
   "metadata": {},
   "outputs": [
    {
     "name": "stdout",
     "output_type": "stream",
     "text": [
      "1,2,3,4,5,6\n",
      "List :  ['1', '2', '3', '4', '5', '6']\n",
      "Tuple :  ('1', '2', '3', '4', '5', '6')\n"
     ]
    }
   ],
   "source": [
    "'''13. Write a Python program which accepts a sequence of comma-separated numbers from user and\n",
    "generate a list and a tuple with those numbers.\n",
    "Sample data : 3, 5, 7, 23\n",
    "Output :\n",
    "List : [’3’, ’ 5’, ’ 7’, ’ 23’]\n",
    "Tuple : (’3’, ’ 5’, ’ 7’, ’ 23’)'''\n",
    "value=input()\n",
    "l=value.split(',')\n",
    "t=tuple(l)\n",
    "print('List : ',l)\n",
    "print('Tuple : ',t)"
   ]
  },
  {
   "cell_type": "markdown",
   "metadata": {},
   "source": [
    "14. Write a Python program to count the number 4 in a given list."
   ]
  },
  {
   "cell_type": "code",
   "execution_count": 2,
   "metadata": {},
   "outputs": [
    {
     "name": "stdout",
     "output_type": "stream",
     "text": [
      "3\n"
     ]
    }
   ],
   "source": [
    "d=[1,2,4,5,4,6,4]\n",
    "print(d.count(4))"
   ]
  },
  {
   "cell_type": "markdown",
   "metadata": {},
   "source": [
    "15. Write a Python program to concatenate all elements in a list into a string and return it.\n"
   ]
  },
  {
   "cell_type": "code",
   "execution_count": 8,
   "metadata": {},
   "outputs": [
    {
     "name": "stdout",
     "output_type": "stream",
     "text": [
      "123\n",
      "<class 'str'>\n"
     ]
    }
   ],
   "source": [
    "d=[1,2,3]\n",
    "s=\"\"\n",
    "for i in d:\n",
    "    s=s+''.join(str(i))\n",
    "print(s)  \n",
    "print(type(s))\n"
   ]
  },
  {
   "cell_type": "markdown",
   "metadata": {},
   "source": [
    "16. Write a Python program to print all even numbers from a given numbers list in the same order\n",
    "and stop the printing if any numbers that come after 237 in the sequence.\n",
    "Sample numbers list :\n",
    "numbers = [386, 462, 47, 418, 907, 344, 236, 375, 823, 566, 597, 978, 328, 615, 953, 345, 399,\n",
    "162, 758, 219, 918, 237, 412, 566, 826, 248, 866, 950, 626, 949, 687, 217, 815, 67, 104, 58, 512,\n",
    "24, 892, 894, 767, 553, 81, 379, 843, 831, 445, 742, 717, 958, 743, 527]"
   ]
  },
  {
   "cell_type": "code",
   "execution_count": 12,
   "metadata": {},
   "outputs": [
    {
     "name": "stdout",
     "output_type": "stream",
     "text": [
      "386\n",
      "462\n",
      "418\n",
      "344\n",
      "236\n",
      "566\n",
      "978\n",
      "328\n",
      "162\n",
      "758\n",
      "918\n"
     ]
    }
   ],
   "source": [
    " numbers = [386, 462, 47, 418, 907, 344, 236, 375, 823, 566, 597, 978, 328, 615, 953, 345, 399, 162, 758, 219, 918, 237, 412, 566, 826, 248, 866, 950, 626, 949, 687, 217, 815, 67, 104, 58, 512, 24, 892, 894, 767, 553, 81, 379, 843, 831, 445, 742, 717, 958, 743, 527]\n",
    "\n",
    "for i in numbers:\n",
    "    if i%2==0:\n",
    "        print(i)\n",
    "    if i==237:\n",
    "        break\n",
    "        "
   ]
  },
  {
   "cell_type": "markdown",
   "metadata": {},
   "source": [
    "17. Write a Python program to print the length of the series and the series from the given 3rd###\n",
    "term, 3rd last term and the sum of a series"
   ]
  },
  {
   "cell_type": "markdown",
   "metadata": {},
   "source": [
    "18. Write a Python program to get a list, sorted in increasing order by the last element in each\n",
    "tuple from a given list of non-empty tuples.\n",
    "Sample List : [(2, 5), (1, 2), (4, 4), (2, 3), (2, 1)]\n",
    "Expected Result : [(2, 1), (1, 2), (2, 3), (4, 4), (2, 5)]"
   ]
  },
  {
   "cell_type": "code",
   "execution_count": 16,
   "metadata": {},
   "outputs": [
    {
     "ename": "IndexError",
     "evalue": "list index out of range",
     "output_type": "error",
     "traceback": [
      "\u001b[1;31m---------------------------------------------------------------------------\u001b[0m",
      "\u001b[1;31mIndexError\u001b[0m                                Traceback (most recent call last)",
      "\u001b[1;32m<ipython-input-16-118d220f3afc>\u001b[0m in \u001b[0;36m<module>\u001b[1;34m\u001b[0m\n\u001b[0;32m      4\u001b[0m     \u001b[0mg\u001b[0m\u001b[1;33m=\u001b[0m\u001b[0mc\u001b[0m\u001b[1;33m[\u001b[0m\u001b[0mi\u001b[0m\u001b[1;33m]\u001b[0m\u001b[1;33m\u001b[0m\u001b[1;33m\u001b[0m\u001b[0m\n\u001b[0;32m      5\u001b[0m     \u001b[0mh\u001b[0m\u001b[1;33m=\u001b[0m\u001b[0mc\u001b[0m\u001b[1;33m[\u001b[0m\u001b[0mi\u001b[0m\u001b[1;33m]\u001b[0m\u001b[1;33m[\u001b[0m\u001b[0mlen\u001b[0m\u001b[1;33m(\u001b[0m\u001b[0mc\u001b[0m\u001b[1;33m[\u001b[0m\u001b[0mi\u001b[0m\u001b[1;33m]\u001b[0m\u001b[1;33m)\u001b[0m\u001b[1;33m-\u001b[0m\u001b[1;36m1\u001b[0m\u001b[1;33m]\u001b[0m\u001b[1;33m\u001b[0m\u001b[1;33m\u001b[0m\u001b[0m\n\u001b[1;32m----> 6\u001b[1;33m     \u001b[1;32mif\u001b[0m \u001b[0mh\u001b[0m\u001b[1;33m<\u001b[0m \u001b[0ms\u001b[0m\u001b[1;33m[\u001b[0m\u001b[0mi\u001b[0m\u001b[1;33m]\u001b[0m\u001b[1;33m:\u001b[0m\u001b[1;33m\u001b[0m\u001b[1;33m\u001b[0m\u001b[0m\n\u001b[0m\u001b[0;32m      7\u001b[0m         \u001b[0ms\u001b[0m\u001b[1;33m.\u001b[0m\u001b[0minsert\u001b[0m\u001b[1;33m(\u001b[0m\u001b[0mi\u001b[0m\u001b[1;33m,\u001b[0m\u001b[0mc\u001b[0m\u001b[1;33m[\u001b[0m\u001b[0mi\u001b[0m\u001b[1;33m]\u001b[0m\u001b[1;33m)\u001b[0m\u001b[1;33m\u001b[0m\u001b[1;33m\u001b[0m\u001b[0m\n\u001b[0;32m      8\u001b[0m \u001b[0mprint\u001b[0m\u001b[1;33m(\u001b[0m\u001b[0mc\u001b[0m\u001b[1;33m)\u001b[0m\u001b[1;33m\u001b[0m\u001b[1;33m\u001b[0m\u001b[0m\n",
      "\u001b[1;31mIndexError\u001b[0m: list index out of range"
     ]
    }
   ],
   "source": [
    "c=[(2, 5), (1, 2), (4, 4), (2, 3), (2, 1)]\n",
    "for i in range(len(c)):\n",
    "    s=[i]\n",
    "    g=c[i]\n",
    "    h=c[i][len(c[i])-1]\n",
    "    if h< s[i]:\n",
    "        s.insert(i,c[i])########\n",
    "print(c)        "
   ]
  },
  {
   "cell_type": "markdown",
   "metadata": {},
   "source": [
    "19. Write a Python program to create a list by concatenating a given list which range goes from 1\n",
    "to n.\n",
    "Sample list : [’p’, ’q’] „„ n = 5\n",
    "Sample Output : [’p1’, ’q1’, ’p2’, ’q2’, ’p3’, ’q3’, ’p4’, ’q4’, ’p5’, ’q5’]"
   ]
  },
  {
   "cell_type": "code",
   "execution_count": 32,
   "metadata": {},
   "outputs": [
    {
     "name": "stdout",
     "output_type": "stream",
     "text": [
      "['1', '1', '2', '2', '3', '3', '4', '4', '5', '5']\n"
     ]
    }
   ],
   "source": [
    "l=[]\n",
    "s= ['p','q']\n",
    "for i in range(5):\n",
    "    j=i+1\n",
    "    for i  in s:\n",
    "        m =str(t.join(str(j)))\n",
    "        l.append(m)  \n",
    "print(l)        \n",
    "        #####"
   ]
  },
  {
   "cell_type": "markdown",
   "metadata": {},
   "source": [
    "20. Write a Python program to find the biggest row sum of a matrix."
   ]
  },
  {
   "cell_type": "code",
   "execution_count": 50,
   "metadata": {},
   "outputs": [
    {
     "name": "stdout",
     "output_type": "stream",
     "text": [
      "<class 'int'>\n",
      "9\n"
     ]
    }
   ],
   "source": [
    "matrix= [[1,2],\n",
    "         [2,3],\n",
    "         [4,5]]\n",
    "\n",
    "max_sum =sum(matrix[0])\n",
    "\n",
    "\n",
    "for i in range(1,len(matrix)):\n",
    "    k = sum(matrix[i])\n",
    "    max_sum =max(k,max_sum)\n",
    "    \n",
    "print (max_sum)   ## refre to slid 72 in part1 max is bult in fuunction     "
   ]
  },
  {
   "cell_type": "markdown",
   "metadata": {},
   "source": [
    "21. Write a Python program to find the biggest column Multiplication of a matrix."
   ]
  },
  {
   "cell_type": "code",
   "execution_count": 56,
   "metadata": {},
   "outputs": [
    {
     "name": "stdout",
     "output_type": "stream",
     "text": [
      "30\n"
     ]
    }
   ],
   "source": [
    "matrix= [[1,2],\n",
    "         [2,3],\n",
    "         [4,5]]\n",
    "\n",
    "max_mul = 1\n",
    "\n",
    "for j in range(len(matrix[0])):\n",
    "    m=1\n",
    "    for i in range(len(matrix)):\n",
    "        m*=matrix[i][j] \n",
    "    if m > max_mul:\n",
    "        max_mul = m\n",
    "print(max_mul)        \n",
    "        \n",
    "    \n",
    "  "
   ]
  },
  {
   "cell_type": "markdown",
   "metadata": {},
   "source": [
    "22. Write a guessing game where the user must guess a secret number. After every guess the\n",
    "program tells the user whether their number was too large or too small. At the end the number\n",
    "of tries needed should be printed. It counts only as one try if they input the same number\n",
    "multiple times consecutively."
   ]
  },
  {
   "cell_type": "code",
   "execution_count": 57,
   "metadata": {},
   "outputs": [
    {
     "name": "stdout",
     "output_type": "stream",
     "text": [
      "5\n",
      "too low\n",
      "10\n",
      "too high\n",
      "6\n",
      "too low\n",
      "7\n",
      "too low\n",
      "8\n",
      "too low\n",
      "9\n",
      "right\n",
      "you loose\n"
     ]
    }
   ],
   "source": [
    "import random\n",
    "\n",
    "num = random.randint(1,20)\n",
    "\n",
    "tries = 6\n",
    "\n",
    "while tries>0:\n",
    "    \n",
    "    val = int(input ())\n",
    "    \n",
    "    if val > num :\n",
    "        print ('too high')\n",
    "        \n",
    "    if val < num :\n",
    "        print ('too low')  \n",
    "    if val == num:\n",
    "        print('right')\n",
    "        break\n",
    "    tries-=1   \n",
    "if(tries == 0)  :\n",
    "    print('you loose')\n",
    "        "
   ]
  },
  {
   "cell_type": "markdown",
   "metadata": {},
   "source": [
    "23. Write a python program to transpose a matrix."
   ]
  },
  {
   "cell_type": "code",
   "execution_count": 58,
   "metadata": {},
   "outputs": [
    {
     "name": "stdout",
     "output_type": "stream",
     "text": [
      "[[2, 3, 8], [1, 2, 9]]\n"
     ]
    }
   ],
   "source": [
    "\n",
    "x = [[2,1],\n",
    "     [3,2],\n",
    "     [8,9]]\n",
    "t=[[0,0,0],[0,0,0]]\n",
    "for i in range(len(x)):\n",
    "  for j in range(len(x[0])):\n",
    "    t[j][i] =x[i][j]\n",
    "    \n",
    "print(t)\n",
    "\n"
   ]
  },
  {
   "cell_type": "code",
   "execution_count": 59,
   "metadata": {},
   "outputs": [
    {
     "name": "stdout",
     "output_type": "stream",
     "text": [
      "[24, 9, 16]\n",
      "[69, 30, 52]\n"
     ]
    }
   ],
   "source": [
    "#24. Write a python program to perform a 2 matrix multiplication (following the algebra rules of\n",
    "#matrix multiplication).\n",
    "\n",
    "\n",
    "a = [[1,2],  \n",
    "      [4,5]]  \n",
    " \n",
    "b = [[6,5,8],  \n",
    "      [9,2,4]]  \n",
    " \n",
    "c = [[0,0,0],  \n",
    "          [0,0,0]]  \n",
    "\n",
    "for i in range(len(a)):  \n",
    "   for j in range(len(b[0])):  \n",
    "       for k in range(len(b)):  \n",
    "           c[i][j] += a[i][k] * b[k][j]  \n",
    "for i in c:  \n",
    "   print(i) \n",
    "   "
   ]
  },
  {
   "cell_type": "code",
   "execution_count": 60,
   "metadata": {},
   "outputs": [
    {
     "ename": "IndentationError",
     "evalue": "unexpected indent (<ipython-input-60-f44100626ac7>, line 2)",
     "output_type": "error",
     "traceback": [
      "\u001b[1;36m  File \u001b[1;32m\"<ipython-input-60-f44100626ac7>\"\u001b[1;36m, line \u001b[1;32m2\u001b[0m\n\u001b[1;33m    a = [[1, 2], [3, 4]]\u001b[0m\n\u001b[1;37m    ^\u001b[0m\n\u001b[1;31mIndentationError\u001b[0m\u001b[1;31m:\u001b[0m unexpected indent\n"
     ]
    }
   ],
   "source": [
    " #25. Write a python program to inverse a matrix.\n",
    "    a = [[1, 2], [3, 4]]\n",
    "\n",
    "def det(a):\n",
    "    return a[0][0]*a[1][1] - a[0][1]*a[1][0]\n",
    "\n",
    "def inv(n):\n",
    "    d = det(n)\n",
    "    return [[n[1][1]/d, -n[0][1]/d], [-n[1][0]/d, n[0][0]/d]]\n",
    "\n",
    "\n",
    "print(det(a))\n",
    "print(inv(a))\n",
    "\n"
   ]
  },
  {
   "cell_type": "code",
   "execution_count": 64,
   "metadata": {},
   "outputs": [
    {
     "name": "stdout",
     "output_type": "stream",
     "text": [
      "(5,3)\n",
      "(5,9)\n",
      "(5,7)\n",
      "(3,5)\n",
      "(3,9)\n",
      "(3,7)\n",
      "(9,5)\n",
      "(9,3)\n",
      "(9,7)\n",
      "(7,5)\n",
      "(7,3)\n",
      "(7,9)\n"
     ]
    }
   ],
   "source": [
    "#38. Write a Python function to find a distinct pair of numbers whose product is odd from a sequence\n",
    "#of integer values.\n",
    "\n",
    "\n",
    "x = [5,3,9,8,7]\n",
    "def fun(l):\n",
    "  for i in l :\n",
    "    for j in l:\n",
    "      if i!=j and (i*j)%2 ==1:\n",
    "        print('({0},{1})'.format(i,j))\n",
    "\t\t\n",
    "\t\t\n",
    "        \n",
    "fun(x)\n",
    "\n"
   ]
  },
  {
   "cell_type": "code",
   "execution_count": 65,
   "metadata": {},
   "outputs": [
    {
     "name": "stdout",
     "output_type": "stream",
     "text": [
      "[5, 7]\n"
     ]
    }
   ],
   "source": [
    "#36. Write a Python program to remove the first item from a specified list.\n",
    "\n",
    "def rf(l):\n",
    "  l = l[1::]\n",
    "  return l\n",
    "  \n",
    "l= [1,5,7]\n",
    "print(rf(l))\t\n",
    "\n"
   ]
  },
  {
   "cell_type": "code",
   "execution_count": 66,
   "metadata": {},
   "outputs": [
    {
     "name": "stdout",
     "output_type": "stream",
     "text": [
      "8\n"
     ]
    }
   ],
   "source": [
    "#35. Write a Python program to calculate the sum over any given container.\n",
    "\n",
    "\n",
    "def fun(n):\n",
    "  if isinstance(n,dict):\n",
    "    \n",
    "    return sum(n.values())\n",
    "  else:\n",
    "    return sum(n)\n",
    "  \n",
    "print(fun({1:5,1:8})  )\n",
    "\t"
   ]
  },
  {
   "cell_type": "code",
   "execution_count": 67,
   "metadata": {},
   "outputs": [
    {
     "name": "stdout",
     "output_type": "stream",
     "text": [
      "{'Black', 'White'}\n"
     ]
    }
   ],
   "source": [
    "#34. Write a Python program to print out a set containing all the item from list_1 which are not\n",
    "#present in list_2.\n",
    "#Test Data :\n",
    "#list_1 = [”White”, ”Black”, ”Red”]\n",
    "#list_2 = [”Red”, ”Green”]\n",
    "#Expected Output : ’Black’, ’White\n",
    "\n",
    "\n",
    "\n",
    "\n",
    "list_1 = ['White', 'Black', 'Red']\n",
    "list_2 = ['Red', 'Green']\n",
    "\n",
    "print(set(list_1).difference(set(list_2)))\n"
   ]
  },
  {
   "cell_type": "code",
   "execution_count": 68,
   "metadata": {},
   "outputs": [
    {
     "name": "stdout",
     "output_type": "stream",
     "text": [
      "s1 is subset\n",
      "{1, 2, 3, 4, 5}\n",
      "set()\n"
     ]
    }
   ],
   "source": [
    "#33. Given two sets, Checks if One Set is Subset or superset of Another Set. if it is a subset, delete\n",
    "#all elements from that set.\n",
    "\n",
    "\n",
    "s1={1,2,3,4,5}\n",
    "s2 = {2,5}\n",
    "\n",
    "if s1.issubset(s2):\n",
    "  print('s1 is subset')\n",
    "  s1.clear()\n",
    "if s2.issubset(s1):\n",
    "  print('s1 is subset')\n",
    "  s2.clear()\n",
    "  \n",
    "print(s1)\n",
    "print(s2)"
   ]
  },
  {
   "cell_type": "code",
   "execution_count": 69,
   "metadata": {},
   "outputs": [
    {
     "name": "stdout",
     "output_type": "stream",
     "text": [
      "{2, 5}\n",
      "{1, 3, 4}\n"
     ]
    }
   ],
   "source": [
    "#32. Given two sets find the intersection and remove those elements from the first set.\n",
    "s1={1,2,3,4,5}\n",
    "s2 = {2,5}\n",
    "\n",
    "inter = s1.intersection(s2)\n",
    "print(inter)\n",
    "r_inter=s1.difference(s2)\n",
    "print(r_inter)"
   ]
  },
  {
   "cell_type": "code",
   "execution_count": 70,
   "metadata": {},
   "outputs": [
    {
     "name": "stdout",
     "output_type": "stream",
     "text": [
      "{'hello': 1, 'world': 2, 'hi': 2}\n"
     ]
    }
   ],
   "source": [
    "#31. Given a list iterate it and count the occurrence of each element and create a dictionary to show\n",
    "#the count of each element.\n",
    "\n",
    "\n",
    "x = ['hello',\"world\",'hi','hi','world']\n",
    "\n",
    "d = {i:x.count(i) for i in x}\n",
    "\n",
    "print (d)\n"
   ]
  },
  {
   "cell_type": "code",
   "execution_count": 71,
   "metadata": {},
   "outputs": [
    {
     "name": "stdout",
     "output_type": "stream",
     "text": [
      " b  = 7\n",
      " c  = 18\n",
      " e  = 55\n"
     ]
    }
   ],
   "source": [
    "#30. Write a Python program to find the keys of the highest 3 values in a dictionary\n",
    "\n",
    "dic = {'a':3,'b':7,'c': 18,'d':2,'e':55}\n",
    "k = []\n",
    "for key,val in dic.items():\n",
    "  k.append(val)\n",
    "k.sort(reverse=True)  \n",
    "for key,val in dic.items():\n",
    "  if val == k[0] or val == k[1] or val == k[2]:\n",
    "    print(' {0}  = {1}'.format(key,val))\n",
    "\t"
   ]
  },
  {
   "cell_type": "code",
   "execution_count": 72,
   "metadata": {},
   "outputs": [
    {
     "name": "stdout",
     "output_type": "stream",
     "text": [
      "['p1', 'q1', 'p2', 'q2', 'p3', 'q3', 'p4', 'q4', 'p5', 'q5']\n"
     ]
    }
   ],
   "source": [
    "#19. Write a Python program to create a list by concatenating a given list which range goes from 1\n",
    "#to n.\n",
    "#Sample list : [’p’, ’q’] „„ n = 5\n",
    "#Sample Output : [’p1’, ’q1’, ’p2’, ’q2’, ’p3’, ’q3’, ’p4’, ’q4’, ’p5’, ’q5’]\n",
    "\n",
    "\n",
    "def fun(x,n):\n",
    "  k=[]\n",
    "  for i in range(n):\n",
    "    for j in x:\n",
    "      k.append(j+str(i+1))\n",
    "  print(k)    \n",
    "fun(['p','q'],5)"
   ]
  },
  {
   "cell_type": "code",
   "execution_count": null,
   "metadata": {},
   "outputs": [],
   "source": []
  }
 ],
 "metadata": {
  "kernelspec": {
   "display_name": "Python 3",
   "language": "python",
   "name": "python3"
  },
  "language_info": {
   "codemirror_mode": {
    "name": "ipython",
    "version": 3
   },
   "file_extension": ".py",
   "mimetype": "text/x-python",
   "name": "python",
   "nbconvert_exporter": "python",
   "pygments_lexer": "ipython3",
   "version": "3.7.4"
  }
 },
 "nbformat": 4,
 "nbformat_minor": 2
}
