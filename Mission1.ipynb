{
 "cells": [
  {
   "cell_type": "markdown",
   "metadata": {},
   "source": [
    "1. Write a Python program to parse a string to Float or Integer. and print the type of them"
   ]
  },
  {
   "cell_type": "code",
   "execution_count": 1,
   "metadata": {},
   "outputs": [
    {
     "name": "stdout",
     "output_type": "stream",
     "text": [
      "4\n",
      "4\n",
      "<class 'int'>\n",
      "4.0\n",
      "<class 'float'>\n"
     ]
    }
   ],
   "source": [
    "n = input()\n",
    "print(int(n))\n",
    "print(type(int(n)))\n",
    "print(float(n))\n",
    "print(type(float(n)))"
   ]
  },
  {
   "cell_type": "markdown",
   "metadata": {},
   "source": [
    "2. Write a Python program to print two values without newline or space"
   ]
  },
  {
   "cell_type": "code",
   "execution_count": 2,
   "metadata": {},
   "outputs": [
    {
     "name": "stdout",
     "output_type": "stream",
     "text": [
      "5\n",
      "6\n",
      "5 6\n"
     ]
    }
   ],
   "source": [
    "n1 = input()\n",
    "n2 = input()\n",
    "print(str(n1) + \" \" + str(n2))\n"
   ]
  },
  {
   "cell_type": "markdown",
   "metadata": {},
   "source": [
    "Write a program that takes an input from the user and checks if it’s divisible by 3 or not."
   ]
  },
  {
   "cell_type": "code",
   "execution_count": 4,
   "metadata": {},
   "outputs": [
    {
     "name": "stdout",
     "output_type": "stream",
     "text": [
      "8\n",
      "False\n"
     ]
    }
   ],
   "source": [
    "n = int(input())\n",
    "if n%3 == 0:\n",
    "    print(True)\n",
    "else:\n",
    "    print(False)"
   ]
  },
  {
   "cell_type": "markdown",
   "metadata": {},
   "source": [
    "Write a program that reads three integers (a, b, and c), computes the following formulas and\n",
    "stores the results in the variables x1, x2 and prints the results of the program"
   ]
  },
  {
   "cell_type": "code",
   "execution_count": 5,
   "metadata": {},
   "outputs": [
    {
     "name": "stdout",
     "output_type": "stream",
     "text": [
      "2\n",
      "4\n",
      "2\n",
      "x1= -27.0\n",
      "x2= -2178.0\n"
     ]
    }
   ],
   "source": [
    "a = int(input())\n",
    "b = int(input())\n",
    "c = int(input())\n",
    "x1 = ((-b)+(c**4)/(2*a)) - ((3*(a+(b**2)))/c)\n",
    "x2 = ((a+(b**3))**2)/(c-(a**2))\n",
    "print(\"x1= \" + str(x1))\n",
    "print(\"x2= \" + str(x2))"
   ]
  },
  {
   "cell_type": "markdown",
   "metadata": {},
   "source": [
    "Write a program that reads two numbers a and b. Print the maximum value of the two numbers."
   ]
  },
  {
   "cell_type": "code",
   "execution_count": 6,
   "metadata": {},
   "outputs": [
    {
     "name": "stdout",
     "output_type": "stream",
     "text": [
      "6\n",
      "8\n",
      "Max = 8\n"
     ]
    }
   ],
   "source": [
    "a = int(input())\n",
    "b = int(input())\n",
    "if a>b:\n",
    "    print(\"Max = \" + str(a))\n",
    "else:\n",
    "    print(\"Max = \" + str(b))"
   ]
  },
  {
   "cell_type": "markdown",
   "metadata": {},
   "source": [
    "6. Write a program that reads three input values. Output the maximum value of the three."
   ]
  },
  {
   "cell_type": "code",
   "execution_count": 8,
   "metadata": {},
   "outputs": [
    {
     "name": "stdout",
     "output_type": "stream",
     "text": [
      "2\n",
      "4\n",
      "7\n",
      "Max = 7\n"
     ]
    }
   ],
   "source": [
    "a = int(input())\n",
    "b = int(input())\n",
    "c = int(input())\n",
    "if a>b and a>c:\n",
    "    print(\"Max = \" + str(a))\n",
    "elif b>a and b>c:\n",
    "    print(\"Max = \" + str(b))\n",
    "else:\n",
    "    print(\"Max = \" + str(c))"
   ]
  },
  {
   "cell_type": "markdown",
   "metadata": {},
   "source": [
    "Write a program that reads two values a and b. If b is 0, output ”b is 0”. Otherwise output"
   ]
  },
  {
   "cell_type": "code",
   "execution_count": 1,
   "metadata": {},
   "outputs": [
    {
     "name": "stdout",
     "output_type": "stream",
     "text": [
      "4\n",
      "0\n",
      "b is 0\n"
     ]
    }
   ],
   "source": [
    "a = int(input())\n",
    "b = int(input())\n",
    "if b==0:\n",
    "    print(\"b is 0\")\n",
    "else:\n",
    "    print(a/b)"
   ]
  },
  {
   "cell_type": "markdown",
   "metadata": {},
   "source": [
    "Write a program to convert days into years, weeks and days."
   ]
  },
  {
   "cell_type": "code",
   "execution_count": 4,
   "metadata": {},
   "outputs": [
    {
     "name": "stdout",
     "output_type": "stream",
     "text": [
      "48\n",
      "0 Year 1 Month 18 Days\n"
     ]
    }
   ],
   "source": [
    "n = int(input())\n",
    "y = int(n/365)\n",
    "m = int((n%365)/30)\n",
    "d = int((n%365)%30)\n",
    "print(str(y) + \" Year \" + str(m) + \" Month \" + str(d) + \" Days\")\n"
   ]
  },
  {
   "cell_type": "markdown",
   "metadata": {},
   "source": [
    "Write a program to read temperature in Celsius and convert it into Fahrenheit."
   ]
  },
  {
   "cell_type": "code",
   "execution_count": 5,
   "metadata": {},
   "outputs": [
    {
     "name": "stdout",
     "output_type": "stream",
     "text": [
      "2\n",
      "35.6\n"
     ]
    }
   ],
   "source": [
    "c = int(input())\n",
    "f = (c * 1.8) + 32\n",
    "print(str(f))\n"
   ]
  },
  {
   "cell_type": "markdown",
   "metadata": {},
   "source": [
    "Write a program that reads two oat number and stores their values in variable x and y. the\n",
    "program then computes the value (x2 −y2) = (x−y) , stores the result in stores the result in a\n",
    "float named z and print the value of z. if the computation division by zero, the program must\n",
    "avoid that by printing an error message and exiting before computing the formula."
   ]
  },
  {
   "cell_type": "code",
   "execution_count": 6,
   "metadata": {},
   "outputs": [
    {
     "name": "stdout",
     "output_type": "stream",
     "text": [
      "8\n",
      "9\n",
      "17.0\n"
     ]
    }
   ],
   "source": [
    "x = int(input())\n",
    "y = int(input())\n",
    "if x-y == 0:\n",
    "    print(\"Error\")\n",
    "else:\n",
    "    z = (x**2 - y**2)/(x-y)\n",
    "    print(z)"
   ]
  },
  {
   "cell_type": "markdown",
   "metadata": {},
   "source": [
    "As you know Python has no switch statements so, Write a complete Python application that\n",
    "asks the user to enter an integer Q-Range (”deviation IQ”) and output the IQ Classification\n",
    "according to the following table:\n",
    "Q Range (”deviation IQ”) -> IQ Classification\n",
    "130 and above -> Very Superior\n",
    "120 - 129 -> Superior\n",
    "110 - 119 -> High Average\n",
    "90 - 109 -> Average\n",
    "80 - 89 -> Low Average\n",
    "70 - 79 -> Borderline\n",
    "69 and below -> Extremely Low"
   ]
  },
  {
   "cell_type": "code",
   "execution_count": 9,
   "metadata": {},
   "outputs": [
    {
     "name": "stdout",
     "output_type": "stream",
     "text": [
      "140\n",
      "Very Superior\n"
     ]
    }
   ],
   "source": [
    "n = int(input())\n",
    "if n >= 130:\n",
    "    print(\"Very Superior\")\n",
    "elif n >= 120 and n <= 129:\n",
    "    print(\"Superior\")\n",
    "elif n >= 110 and n <= 119:\n",
    "    print(\"High Average\")\n",
    "elif n >= 90 and n <= 109:\n",
    "    print(\"Average\")\n",
    "elif n >= 80 and n <= 89:\n",
    "    print(\"Low Average\")\n",
    "elif n >= 70 and n <= 79:\n",
    "    print(\"Borderline\")\n",
    "else:\n",
    "    print(\"Extremely Low\")"
   ]
  },
  {
   "cell_type": "markdown",
   "metadata": {},
   "source": [
    "12. Write a program that classifies a student marks as follows:\n",
    "[90 − 100] : A\n",
    "[80 − 90] : B\n",
    "[70 − 80] : C\n",
    "[60 − 70] : D\n",
    "[50 − 60] : E\n",
    "[0 − 50] : F"
   ]
  },
  {
   "cell_type": "code",
   "execution_count": 11,
   "metadata": {},
   "outputs": [
    {
     "name": "stdout",
     "output_type": "stream",
     "text": [
      "100\n",
      "A\n"
     ]
    }
   ],
   "source": [
    "n = int(input())\n",
    "if n >= 90 and n <= 100:\n",
    "    print(\"A\")\n",
    "elif n >= 80 and n < 90:\n",
    "    print(\"B\")\n",
    "elif n >= 70 and n < 80:\n",
    "    print(\"C\")\n",
    "elif n >= 60 and n < 70:\n",
    "    print(\"D\")\n",
    "elif n >= 50 and n < 60:\n",
    "    print(\"E\")\n",
    "else:\n",
    "    print(\"F\")"
   ]
  },
  {
   "cell_type": "markdown",
   "metadata": {},
   "source": [
    "14. Write a Python program to check whether an alphabet is vowel or consonant"
   ]
  },
  {
   "cell_type": "markdown",
   "metadata": {},
   "source": [
    "13. Write a program that tests whether the formula a2 + b2 = c2 is true for three integers entered\n",
    "as input.\n"
   ]
  },
  {
   "cell_type": "code",
   "execution_count": 12,
   "metadata": {},
   "outputs": [
    {
     "name": "stdout",
     "output_type": "stream",
     "text": [
      "6\n",
      "6\n",
      "6\n",
      "False\n"
     ]
    }
   ],
   "source": [
    "a = int(input())\n",
    "b = int(input())\n",
    "c = int(input())\n",
    "if a**2 + b**2 == c**2:\n",
    "    print(True)\n",
    "else:\n",
    "    print(False)"
   ]
  },
  {
   "cell_type": "markdown",
   "metadata": {},
   "source": [
    "14. Write a Python program to check whether an alphabet is vowel or consonant."
   ]
  },
  {
   "cell_type": "code",
   "execution_count": 3,
   "metadata": {},
   "outputs": [
    {
     "name": "stdout",
     "output_type": "stream",
     "text": [
      "a\n",
      "vowel\n"
     ]
    }
   ],
   "source": [
    "n = input()\n",
    "if n in ('a', 'e', 'i', 'o', 'u'):\n",
    "    print('vowel')\n",
    "else:\n",
    "    print('consonat')\n"
   ]
  },
  {
   "cell_type": "markdown",
   "metadata": {},
   "source": [
    "Write a Python program to check whether a number is even or odd."
   ]
  },
  {
   "cell_type": "code",
   "execution_count": 4,
   "metadata": {},
   "outputs": [
    {
     "name": "stdout",
     "output_type": "stream",
     "text": [
      "8\n",
      "Even\n"
     ]
    }
   ],
   "source": [
    "n = int(input())\n",
    "if n%2==0:\n",
    "    print(\"Even\")\n",
    "else:\n",
    "    print(\"Odd\")"
   ]
  },
  {
   "cell_type": "markdown",
   "metadata": {},
   "source": [
    "16. Write a Python program to display the current date and time. Sample Output :\n",
    "Current date and time : 2019-07-05 21:25:48"
   ]
  },
  {
   "cell_type": "code",
   "execution_count": 6,
   "metadata": {},
   "outputs": [
    {
     "name": "stdout",
     "output_type": "stream",
     "text": [
      "Current date and time: 2019-10-21 16:57:47.414246\n"
     ]
    }
   ],
   "source": [
    "import datetime\n",
    "now = datetime.datetime.now()\n",
    "print(\"Current date and time: \" + str(now))\n",
    "#"
   ]
  },
  {
   "cell_type": "markdown",
   "metadata": {},
   "source": [
    "17. Write a Python program which accepts the radius of a circle from the user and compute the\n",
    "area; Sample Output :\n",
    "r = 1.1\n",
    "Area = 3.8013271108436504"
   ]
  },
  {
   "cell_type": "code",
   "execution_count": 7,
   "metadata": {},
   "outputs": [
    {
     "name": "stdout",
     "output_type": "stream",
     "text": [
      "r= 5\n",
      "Area= 78.5\n"
     ]
    }
   ],
   "source": [
    "17\n",
    "\n",
    "r = float(input(\"r= \"))\n",
    "print(\"Area= \" + str(3.14*r**2))"
   ]
  },
  {
   "cell_type": "markdown",
   "metadata": {},
   "source": [
    "18. Write a Python program which accepts the user’s first and last name and print them in reverse\n",
    "order."
   ]
  },
  {
   "cell_type": "code",
   "execution_count": 8,
   "metadata": {},
   "outputs": [
    {
     "name": "stdout",
     "output_type": "stream",
     "text": [
      "Input your First Name : may\n",
      "Input your Last Name : Fawaz\n",
      "Hello  Fawaz may\n"
     ]
    }
   ],
   "source": [
    "fname = input(\"Input your First Name : \")\n",
    "lname = input(\"Input your Last Name : \")\n",
    "print (\"Hello  \" + lname + \" \" + fname)\n"
   ]
  },
  {
   "cell_type": "markdown",
   "metadata": {},
   "source": [
    "19. Write a Python program to read a three numbers from the user and display them as follow.\n",
    "Sample Input = (11, 12, 2019) Sample Output : The examination will start from : 11 / 12 /\n",
    "2019"
   ]
  },
  {
   "cell_type": "code",
   "execution_count": 11,
   "metadata": {},
   "outputs": [
    {
     "name": "stdout",
     "output_type": "stream",
     "text": [
      "12/12/2019\n"
     ]
    },
    {
     "ename": "IndexError",
     "evalue": "list index out of range",
     "output_type": "error",
     "traceback": [
      "\u001b[1;31m---------------------------------------------------------------------------\u001b[0m",
      "\u001b[1;31mIndexError\u001b[0m                                Traceback (most recent call last)",
      "\u001b[1;32m<ipython-input-11-34fa0ebb654e>\u001b[0m in \u001b[0;36m<module>\u001b[1;34m\u001b[0m\n\u001b[0;32m      5\u001b[0m \u001b[0mn\u001b[0m \u001b[1;33m=\u001b[0m \u001b[0mn\u001b[0m\u001b[1;33m.\u001b[0m\u001b[0mstrip\u001b[0m\u001b[1;33m(\u001b[0m\u001b[1;34m','\u001b[0m\u001b[1;33m)\u001b[0m\u001b[1;33m\u001b[0m\u001b[1;33m\u001b[0m\u001b[0m\n\u001b[0;32m      6\u001b[0m \u001b[0mn\u001b[0m \u001b[1;33m=\u001b[0m \u001b[0mn\u001b[0m\u001b[1;33m.\u001b[0m\u001b[0msplit\u001b[0m\u001b[1;33m(\u001b[0m\u001b[1;34m','\u001b[0m\u001b[1;33m)\u001b[0m\u001b[1;33m\u001b[0m\u001b[1;33m\u001b[0m\u001b[0m\n\u001b[1;32m----> 7\u001b[1;33m \u001b[0mprint\u001b[0m\u001b[1;33m(\u001b[0m\u001b[0mstr\u001b[0m\u001b[1;33m(\u001b[0m\u001b[0mn\u001b[0m\u001b[1;33m[\u001b[0m\u001b[1;36m0\u001b[0m\u001b[1;33m]\u001b[0m\u001b[1;33m)\u001b[0m\u001b[1;33m+\u001b[0m\u001b[1;34m'/'\u001b[0m\u001b[1;33m+\u001b[0m\u001b[0mstr\u001b[0m\u001b[1;33m(\u001b[0m\u001b[0mn\u001b[0m\u001b[1;33m[\u001b[0m\u001b[1;36m1\u001b[0m\u001b[1;33m]\u001b[0m\u001b[1;33m)\u001b[0m\u001b[1;33m+\u001b[0m\u001b[1;34m'/'\u001b[0m\u001b[1;33m+\u001b[0m\u001b[0mstr\u001b[0m\u001b[1;33m(\u001b[0m\u001b[0mn\u001b[0m\u001b[1;33m[\u001b[0m\u001b[1;36m2\u001b[0m\u001b[1;33m]\u001b[0m\u001b[1;33m)\u001b[0m\u001b[1;33m)\u001b[0m\u001b[1;33m\u001b[0m\u001b[1;33m\u001b[0m\u001b[0m\n\u001b[0m",
      "\u001b[1;31mIndexError\u001b[0m: list index out of range"
     ]
    }
   ],
   "source": [
    "19\n",
    "\n",
    "n = input()\n",
    "n = n.strip(',')\n",
    "n = n.strip(',')\n",
    "n = n.split(',')\n",
    "print(str(n[0])+'/'+str(n[1])+'/'+str(n[2]))\n"
   ]
  },
  {
   "cell_type": "markdown",
   "metadata": {},
   "source": [
    "20. Write a Python program that accepts an integer (n) and computes the value of n + nn + nnn.\n",
    "Sample value of n is 5\n",
    "Expected Result : 615"
   ]
  },
  {
   "cell_type": "code",
   "execution_count": 12,
   "metadata": {},
   "outputs": [
    {
     "name": "stdout",
     "output_type": "stream",
     "text": [
      "6\n",
      "258\n"
     ]
    }
   ],
   "source": [
    "n = int(input())\n",
    "print(n+n**2+n**3)\n"
   ]
  },
  {
   "cell_type": "markdown",
   "metadata": {},
   "source": [
    "21. Write a Python program to print the documentation of a Python built-in function(s)."
   ]
  },
  {
   "cell_type": "code",
   "execution_count": 13,
   "metadata": {},
   "outputs": [
    {
     "name": "stdout",
     "output_type": "stream",
     "text": [
      "Return the absolute value of the argument.\n"
     ]
    }
   ],
   "source": [
    "print(abs.__doc__)"
   ]
  },
  {
   "cell_type": "markdown",
   "metadata": {},
   "source": [
    "22. Write a Python program to print the following here document. Go to the editor; Sample string\n",
    ":\n",
    "”a string that you ”don’t” have to escape\n",
    "This\n",
    "is a ....... multi-line\n",
    "heredoc string ——–> example"
   ]
  },
  {
   "cell_type": "code",
   "execution_count": 14,
   "metadata": {},
   "outputs": [
    {
     "name": "stdout",
     "output_type": "stream",
     "text": [
      "\n",
      "a string that you \"don't\" have to escape\n",
      "This\n",
      "is a  ....... multi-line\n",
      "heredoc string --------> example\n",
      "\n"
     ]
    }
   ],
   "source": [
    "print(\"\"\"\n",
    "a string that you \"don't\" have to escape\n",
    "This\n",
    "is a  ....... multi-line\n",
    "heredoc string --------> example\n",
    "\"\"\")"
   ]
  },
  {
   "cell_type": "markdown",
   "metadata": {},
   "source": [
    "23. Write a Python program to calculate number of days between two dates; Sample dates : (2014,\n",
    "7, 2), (2014, 7, 11)\n",
    "Expected output : 9 days"
   ]
  },
  {
   "cell_type": "code",
   "execution_count": 15,
   "metadata": {},
   "outputs": [
    {
     "name": "stdout",
     "output_type": "stream",
     "text": [
      "9\n"
     ]
    }
   ],
   "source": [
    "from datetime import date\n",
    "f_date = date(2014, 7, 2)\n",
    "l_date = date(2014, 7, 11)\n",
    "delta = l_date - f_date\n",
    "print(delta.days)"
   ]
  },
  {
   "cell_type": "markdown",
   "metadata": {},
   "source": [
    "###### 24. Write a Python program to get the volume of a sphere with a given radius."
   ]
  },
  {
   "cell_type": "code",
   "execution_count": 16,
   "metadata": {},
   "outputs": [
    {
     "name": "stdout",
     "output_type": "stream",
     "text": [
      "6\n",
      "The volume of the sphere is:  904.7786842338603\n"
     ]
    }
   ],
   "source": [
    "r = int(input())\n",
    "pi = 3.1415926535897931\n",
    "V= 4.0/3.0*pi* r**3\n",
    "print('The volume of the sphere is: ',V)\n"
   ]
  },
  {
   "cell_type": "markdown",
   "metadata": {},
   "source": [
    "25. Write a Python program to get the difference between a given number and 17, if the number\n",
    "is greater than 17 return double the absolute difference"
   ]
  },
  {
   "cell_type": "code",
   "execution_count": 22,
   "metadata": {},
   "outputs": [
    {
     "name": "stdout",
     "output_type": "stream",
     "text": [
      "19\n",
      "4\n"
     ]
    }
   ],
   "source": [
    "n = int(input())\n",
    "if n <= 17:\n",
    "    print(17 - n)\n",
    "else:\n",
    "    print((n - 17) * 2)\n"
   ]
  },
  {
   "cell_type": "markdown",
   "metadata": {},
   "source": [
    "26. Write a Python program to test whether a number is within (less than) 100 or 1000 or 2000\n",
    "and print the value divided by 5 and multiplied by 25."
   ]
  },
  {
   "cell_type": "code",
   "execution_count": 23,
   "metadata": {},
   "outputs": [
    {
     "name": "stdout",
     "output_type": "stream",
     "text": [
      "150\n",
      "750.0\n"
     ]
    }
   ],
   "source": [
    "n = int(input())\n",
    "if n<=100 or n<=1000 or n<=2000:\n",
    "     print((n/5) *25)\n"
   ]
  },
  {
   "cell_type": "markdown",
   "metadata": {},
   "source": [
    "27. Write a Python program to calculate the sum of three given numbers, if the values are equal\n",
    "then return three times of their sum"
   ]
  },
  {
   "cell_type": "code",
   "execution_count": 24,
   "metadata": {},
   "outputs": [
    {
     "name": "stdout",
     "output_type": "stream",
     "text": [
      "2\n",
      "3\n",
      "4\n",
      "9\n"
     ]
    }
   ],
   "source": [
    "n1 = int(input())\n",
    "n2 = int(input())\n",
    "n3 = int(input())\n",
    "print(str(n1+n2+n3))"
   ]
  },
  {
   "cell_type": "markdown",
   "metadata": {},
   "source": [
    "28. Write a Python program to swap the values of two given numbers"
   ]
  },
  {
   "cell_type": "code",
   "execution_count": 25,
   "metadata": {},
   "outputs": [
    {
     "name": "stdout",
     "output_type": "stream",
     "text": [
      "2\n",
      "3\n",
      "n1= 3\n",
      "n2= 2\n"
     ]
    }
   ],
   "source": [
    "n1 = int(input())\n",
    "n2 = int(input())\n",
    "n3 = n1\n",
    "n1 = n2\n",
    "n2 = n3\n",
    "print(\"n1= \" + str(n1))\n",
    "print(\"n2= \" + str(n2))"
   ]
  },
  {
   "cell_type": "markdown",
   "metadata": {},
   "source": [
    "29. Write a Python program to check whether a specified value is contained in a group of values\n",
    "or if a character is given in a string; Test Data :\n",
    "3 -> [1, 5, 8, 3] : True\n",
    "-1 -> [1, 5, 8, 3] : False"
   ]
  },
  {
   "cell_type": "code",
   "execution_count": 26,
   "metadata": {},
   "outputs": [
    {
     "name": "stdout",
     "output_type": "stream",
     "text": [
      "True\n",
      "False\n"
     ]
    }
   ],
   "source": [
    "a = [1,5,8,3]\n",
    "print(3 in a)\n",
    "print(-1 in a)\n"
   ]
  },
  {
   "cell_type": "markdown",
   "metadata": {},
   "source": [
    "30. Write a Python program that will accept the base and height of a triangle and compute the\n",
    "area.\n"
   ]
  },
  {
   "cell_type": "code",
   "execution_count": 27,
   "metadata": {},
   "outputs": [
    {
     "name": "stdout",
     "output_type": "stream",
     "text": [
      "Input the base : 2\n",
      "Input the height : 4\n",
      "area =  4.0\n"
     ]
    }
   ],
   "source": [
    "b = int(input(\"Input the base : \"))\n",
    "h = int(input(\"Input the height : \"))\n",
    "\n",
    "area = b*h/2\n",
    "\n",
    "print(\"area = \", area)"
   ]
  },
  {
   "cell_type": "markdown",
   "metadata": {},
   "source": [
    "32. Write a Python program to sum of two given integers. However, if the sum is between\n",
    "15 to 20 it will return 20. 30 to 40 it will return 50. 150 to 167 it will return 210.\n"
   ]
  },
  {
   "cell_type": "code",
   "execution_count": 28,
   "metadata": {},
   "outputs": [
    {
     "name": "stdout",
     "output_type": "stream",
     "text": [
      "1\n",
      "1\n",
      "1\n",
      "0\n"
     ]
    }
   ],
   "source": [
    "n1 = int(input())\n",
    "n2 = int(input())\n",
    "n3 = int(input())\n",
    "if n1 == n2 or n1 == n3 or n2 == n3:\n",
    "    print(0)\n",
    "else:\n",
    "    print(n1+n2+n3)"
   ]
  },
  {
   "cell_type": "markdown",
   "metadata": {},
   "source": [
    "33. Write a Python program that will return true if the two given integer values are equal or their\n",
    "sum or difference is 5.\n"
   ]
  },
  {
   "cell_type": "code",
   "execution_count": 29,
   "metadata": {},
   "outputs": [
    {
     "name": "stdout",
     "output_type": "stream",
     "text": [
      "15\n",
      "12\n"
     ]
    }
   ],
   "source": [
    "n1 = int(input())\n",
    "n2 = int(input())\n",
    "\n",
    "if n1+n2 >= 15 and n1+n2<=20:\n",
    "    print(20)\n",
    "elif n1+n2 >= 30 and n1+n2<=40:\n",
    "    print(50)\n",
    "elif n1+n2 >= 150 and n1+n2<=167:\n",
    "    print(210)"
   ]
  },
  {
   "cell_type": "markdown",
   "metadata": {},
   "source": [
    "34. Write a Python program to solve (x + y) ∗ (x + y), x and y are an inputs; Expected Output :\n",
    "((4 + 3)2) = 49\n"
   ]
  },
  {
   "cell_type": "code",
   "execution_count": 30,
   "metadata": {},
   "outputs": [
    {
     "name": "stdout",
     "output_type": "stream",
     "text": [
      "(4 + 3) ^ 2) = 49\n"
     ]
    }
   ],
   "source": [
    "x, y = 4, 3\n",
    "result = x * x + 2 * x * y + y * y\n",
    "print(\"({} + {}) ^ 2) = {}\".format(x, y, result))"
   ]
  },
  {
   "cell_type": "code",
   "execution_count": null,
   "metadata": {},
   "outputs": [],
   "source": []
  }
 ],
 "metadata": {
  "kernelspec": {
   "display_name": "Python 3",
   "language": "python",
   "name": "python3"
  }
 },
 "nbformat": 4,
 "nbformat_minor": 2
}
