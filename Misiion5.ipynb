{
 "cells": [
  {
   "cell_type": "markdown",
   "metadata": {},
   "source": [
    "\n",
    "q1 Write a Python function to check whether a number is perfect or not.\n",
    "According to Wikipedia : In number theory, a perfect number is a positive integer that is equal\n",
    "to the sum of its proper positive divisors, that is, the sum of its positive divisors excluding the\n",
    "number itself (also known as its aliquot sum). Equivalently, a perfect number is a number that\n",
    "is half the sum of all of its positive divisors (including itself).\n",
    "Example : 6, because 1, 2, and 3 are its proper positive divisors, and 1 + 2 + 3 = 6.'''\n"
   ]
  },
  {
   "cell_type": "code",
   "execution_count": 2,
   "metadata": {},
   "outputs": [
    {
     "name": "stdout",
     "output_type": "stream",
     "text": [
      "87 is not a Perfect Number\n"
     ]
    }
   ],
   "source": [
    "def is_perfect(n):\n",
    "  sum_div =0\n",
    "  for i in range(n,0,-1):\n",
    "    if n%i == 0:\n",
    "      sum_div+=i\n",
    "  if n == (sum_div //2 ):\n",
    "    print(\"{0} is a Perfect Number\".format(n))\n",
    "  else:\n",
    "    print(\"{0} is not a Perfect Number\".format(n))\n",
    "    \n",
    "is_perfect(87)    \n",
    "\n"
   ]
  },
  {
   "cell_type": "markdown",
   "metadata": {},
   "source": [
    "2. Write a Python function that accepts a hyphen-separated sequence of words as input and prints\n",
    "the words in a hyphen-separated sequence after sorting them alphabetically.\n",
    "Sample Items : green-red-yellow-black-white\n",
    "Expected Result : black-green-red-white-yellow\n"
   ]
  },
  {
   "cell_type": "code",
   "execution_count": 4,
   "metadata": {},
   "outputs": [
    {
     "name": "stdout",
     "output_type": "stream",
     "text": [
      "green red black\n",
      "green red black\n"
     ]
    }
   ],
   "source": [
    "def sort_alpha(n):\n",
    "  x=n.split('-')\n",
    "  x.sort()\n",
    "  return ('-'.join(x))\n",
    "n = input()\n",
    "print(sort_alpha(n))\n"
   ]
  },
  {
   "cell_type": "markdown",
   "metadata": {},
   "source": [
    "3. Write a Python function to check whether a string is a pangram or not.\n",
    "Note : Pangrams are words or sentences containing every letter of the alphabet at least once.\n",
    "For example : ”The quick brown fox jumps over the lazy dog”\n"
   ]
  },
  {
   "cell_type": "code",
   "execution_count": 5,
   "metadata": {},
   "outputs": [
    {
     "name": "stdout",
     "output_type": "stream",
     "text": [
      "this sentence is pangram\n"
     ]
    }
   ],
   "source": [
    "string = 'The quick brown fox jumps over the lazy dog'\n",
    "\n",
    "def is_pangram(s):\n",
    "  pangram = True\n",
    "  y = ''.join(s.upper().split())\n",
    "  x = [ord(i) for i in y]\n",
    "  for i in range(65,91):\n",
    "    if i in x:\n",
    "      continue\n",
    "    else:\n",
    "      pangram = False\n",
    "  if pangram:\n",
    "    return 'this sentence is pangram'\n",
    "  else:\n",
    "    return 'this sentence is not pangram'\n",
    "print(is_pangram(string))  \n"
   ]
  },
  {
   "cell_type": "markdown",
   "metadata": {},
   "source": [
    "4. Write a Python function that accepts a string and calculate the number of upper case letters\n",
    "and lower case letters.\n",
    "Sample String : ’The quick Brow Fox’\n",
    "Expected Output :\n",
    "No. of Upper case characters : 3\n",
    "No. of Lower case Characters : 12\"\"\"\n",
    "  "
   ]
  },
  {
   "cell_type": "code",
   "execution_count": 12,
   "metadata": {},
   "outputs": [
    {
     "ename": "IndentationError",
     "evalue": "unindent does not match any outer indentation level (<tokenize>, line 15)",
     "output_type": "error",
     "traceback": [
      "\u001b[1;36m  File \u001b[1;32m\"<tokenize>\"\u001b[1;36m, line \u001b[1;32m15\u001b[0m\n\u001b[1;33m    num_up_low(x)\u001b[0m\n\u001b[1;37m    ^\u001b[0m\n\u001b[1;31mIndentationError\u001b[0m\u001b[1;31m:\u001b[0m unindent does not match any outer indentation level\n"
     ]
    }
   ],
   "source": [
    "x = 'The quick Brow Fox'\n",
    "def num_up_low(s):\n",
    "    up = 0\n",
    "    low=0\n",
    "    for i in s:\n",
    "      if ord(i) in range(65,91):\n",
    "        up+=1\n",
    "      if ord(i) in range(97,123) :\n",
    "        low+=1\n",
    "        print('No. of Upper Case Characters :'+str(up)+'\\n'+'No. of Lower Case Characters :'+str(low))  \n",
    "\n",
    "\n",
    "  \n",
    "    \n",
    "   num_up_low(x) \n"
   ]
  },
  {
   "cell_type": "markdown",
   "metadata": {},
   "source": [
    "5. Write a Python function to get the sum of a non-negative integer. (using recursion); Test Data:\n",
    "sumDigits(345) = 12\n",
    "sumDigits(45) = 9\n"
   ]
  },
  {
   "cell_type": "code",
   "execution_count": 8,
   "metadata": {},
   "outputs": [
    {
     "name": "stdout",
     "output_type": "stream",
     "text": [
      "9\n"
     ]
    }
   ],
   "source": [
    "def sum_int(n):\n",
    "  if n // 10 == 0:\n",
    "    return n\n",
    "  else:\n",
    "    return (n %10) + sum_int((n-n%10)//10)\n",
    "  \n",
    "print(sum_int(45))\n",
    "\n"
   ]
  },
  {
   "cell_type": "markdown",
   "metadata": {},
   "source": [
    "6. Write a Python function to find the greatest common divisor (gcd) of two integers. (using\n",
    "recursion)"
   ]
  },
  {
   "cell_type": "code",
   "execution_count": 10,
   "metadata": {},
   "outputs": [
    {
     "name": "stdout",
     "output_type": "stream",
     "text": [
      "2\n"
     ]
    }
   ],
   "source": [
    "def gcd(p,q):\n",
    "  if q == 0:\n",
    "    return p\n",
    "  else:\n",
    "    return gcd(q,p%q)\n",
    "\n",
    "print(gcd(16,10)) \n"
   ]
  },
  {
   "cell_type": "markdown",
   "metadata": {},
   "source": [
    "7. Write a Python function to find the (LCM) of two integers.\n",
    "\n"
   ]
  },
  {
   "cell_type": "code",
   "execution_count": 13,
   "metadata": {},
   "outputs": [
    {
     "name": "stdout",
     "output_type": "stream",
     "text": [
      "600\n"
     ]
    }
   ],
   "source": [
    "def lcm(p,q):\n",
    "  b = True\n",
    "  small = min(p,q)\n",
    "  l = small\n",
    "  large= max(p,q)\n",
    "  i= 1\n",
    "  while b:\n",
    "    l=small*i\n",
    "    if (l % large)  == 0:\n",
    "      return l\n",
    "      break\n",
    "    else:\n",
    "      i+=1\n",
    "print(lcm(300,24))\n"
   ]
  },
  {
   "cell_type": "markdown",
   "metadata": {},
   "source": [
    "8. Write a Python function that prints out the first n rows of Pascal’s triangle. (using recursion)\n",
    "\n"
   ]
  },
  {
   "cell_type": "code",
   "execution_count": null,
   "metadata": {},
   "outputs": [],
   "source": []
  },
  {
   "cell_type": "markdown",
   "metadata": {},
   "source": [
    "0. Write a Python program to get numbers divisible by fifteen from a list using an anonymous\n",
    "function."
   ]
  },
  {
   "cell_type": "code",
   "execution_count": 15,
   "metadata": {},
   "outputs": [
    {
     "name": "stdout",
     "output_type": "stream",
     "text": [
      "[15, 30, 60, 45]\n"
     ]
    }
   ],
   "source": [
    "l = [15,20,30,84,60,45,88]\n",
    "\n",
    "x = list(filter(lambda i:(i % 15 ==0),l)) ##lambda function from slide\n",
    "\n",
    "print(x)"
   ]
  },
  {
   "cell_type": "markdown",
   "metadata": {},
   "source": [
    "11. Write a Python function to filter the positive numbers from a list.\n"
   ]
  },
  {
   "cell_type": "code",
   "execution_count": 16,
   "metadata": {},
   "outputs": [
    {
     "name": "stdout",
     "output_type": "stream",
     "text": [
      "[8, 9, 1, 0]\n"
     ]
    }
   ],
   "source": [
    "def f_positive(l):\n",
    "  return list(filter(lambda i: (i >= 0),l))\n",
    "\n",
    "print(f_positive([-2,-5,8,9,1,-1,0]))      \n",
    "\n",
    "\n"
   ]
  },
  {
   "cell_type": "markdown",
   "metadata": {},
   "source": [
    "13. A palindromic number reads the same both ways. The largest palindrome made from the\n",
    "product of two 2-digit numbers is 9009 = 91 × 99.\n",
    "Write a Python function to find the largest palindrome made from the product of two 3-digit\n",
    "numbers.\n"
   ]
  },
  {
   "cell_type": "code",
   "execution_count": 17,
   "metadata": {},
   "outputs": [
    {
     "name": "stdout",
     "output_type": "stream",
     "text": [
      "580085\n"
     ]
    }
   ],
   "source": [
    "def l_palindromic_3():\n",
    "  b = True\n",
    "  for i in range(999,101,-1):\n",
    "    l = 1\n",
    "    if  b == False:\n",
    "      break\n",
    "    for j in range(999,101,-1):\n",
    "      l = i*j\n",
    "      x = list(str(l))\n",
    "      if x[0::] == x[::-1]:\n",
    "        return ''.join(x)\n",
    "        b = False\n",
    "        break\n",
    "        \n",
    "        \n",
    "print(l_palindromic_3()) \n"
   ]
  },
  {
   "cell_type": "code",
   "execution_count": null,
   "metadata": {},
   "outputs": [],
   "source": []
  }
 ],
 "metadata": {
  "kernelspec": {
   "display_name": "Python 3",
   "language": "python",
   "name": "python3"
  },
  "language_info": {
   "codemirror_mode": {
    "name": "ipython",
    "version": 3
   },
   "file_extension": ".py",
   "mimetype": "text/x-python",
   "name": "python",
   "nbconvert_exporter": "python",
   "pygments_lexer": "ipython3",
   "version": "3.7.4"
  }
 },
 "nbformat": 4,
 "nbformat_minor": 2
}
