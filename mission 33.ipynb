{
 "cells": [
  {
   "cell_type": "code",
   "execution_count": 1,
   "metadata": {},
   "outputs": [
    {
     "name": "stdout",
     "output_type": "stream",
     "text": [
      "heelo\n",
      "5\n"
     ]
    }
   ],
   "source": [
    "n=input()\n",
    "print(len(n))"
   ]
  },
  {
   "cell_type": "markdown",
   "metadata": {},
   "source": [
    "loop over a string and each time delete the last two character until no characters left."
   ]
  },
  {
   "cell_type": "code",
   "execution_count": 6,
   "metadata": {},
   "outputs": [
    {
     "name": "stdout",
     "output_type": "stream",
     "text": [
      "testtest\n",
      "testtest\n",
      "testte\n",
      "test\n",
      "te\n"
     ]
    }
   ],
   "source": [
    "n = input()\n",
    "for x in range(int(len(n)/2)):\n",
    "    print(n)\n",
    "    n = n[:-2]\n",
    "    \n",
    "    \n"
   ]
  },
  {
   "cell_type": "markdown",
   "metadata": {},
   "source": [
    "Write a Python program to create a string contains the unique characters in a string"
   ]
  },
  {
   "cell_type": "code",
   "execution_count": 1,
   "metadata": {},
   "outputs": [
    {
     "name": "stdout",
     "output_type": "stream",
     "text": [
      "aabbboooba\n",
      "aob\n"
     ]
    }
   ],
   "source": [
    "n=input()\n",
    "print(''.join(set(n)))"
   ]
  },
  {
   "cell_type": "code",
   "execution_count": null,
   "metadata": {},
   "outputs": [],
   "source": [
    "n=input()\n",
    "print(''.join(set(n)))"
   ]
  },
  {
   "cell_type": "markdown",
   "metadata": {},
   "source": [
    "Write a Python program to get a string made of the first 2 and the last 2 chars from a given a\n",
    "string. If the string length is less than 2, return instead of the empty string.\n"
   ]
  },
  {
   "cell_type": "code",
   "execution_count": 2,
   "metadata": {},
   "outputs": [
    {
     "name": "stdout",
     "output_type": "stream",
     "text": [
      "wearereerer\n",
      "weer\n"
     ]
    }
   ],
   "source": [
    "n=input()\n",
    "print(n[:2]+n[-2:])"
   ]
  },
  {
   "cell_type": "markdown",
   "metadata": {},
   "source": [
    "Write a Python program to get a string from a given string where all occurrences of its first\n",
    "char have been changed to ’$’, except the first char itself.\n"
   ]
  },
  {
   "cell_type": "code",
   "execution_count": 5,
   "metadata": {},
   "outputs": [
    {
     "name": "stdout",
     "output_type": "stream",
     "text": [
      "restart\n",
      "resta$t\n"
     ]
    }
   ],
   "source": [
    "n = input()\n",
    "char = n[0]  \n",
    "length = len(n)  \n",
    "n = n.replace(char, '$')  \n",
    "n = char + n[1:]\n",
    "print(n)\n"
   ]
  },
  {
   "cell_type": "markdown",
   "metadata": {},
   "source": [
    "9. Write a Python program that takes a string split it into list of words and returns the length of\n",
    "each one."
   ]
  },
  {
   "cell_type": "code",
   "execution_count": 6,
   "metadata": {},
   "outputs": [
    {
     "name": "stdout",
     "output_type": "stream",
     "text": [
      "my name is \n",
      "['my', 'name', 'is']\n"
     ]
    }
   ],
   "source": [
    "n=input()\n",
    "n = n.split()\n",
    "print(n)"
   ]
  },
  {
   "cell_type": "markdown",
   "metadata": {},
   "source": [
    "10. Write a Python program to check whether a string starts with specified characters"
   ]
  },
  {
   "cell_type": "code",
   "execution_count": 8,
   "metadata": {},
   "outputs": [
    {
     "name": "stdout",
     "output_type": "stream",
     "text": [
      "maymay\n",
      "may\n",
      "True\n"
     ]
    }
   ],
   "source": [
    "n=input()\n",
    "x=input()\n",
    "print(n.startswith(x))"
   ]
  },
  {
   "cell_type": "markdown",
   "metadata": {},
   "source": [
    "Write a Python program to get the last part of a string before a specified character.\n"
   ]
  },
  {
   "cell_type": "code",
   "execution_count": 3,
   "metadata": {},
   "outputs": [
    {
     "name": "stdout",
     "output_type": "stream",
     "text": [
      "wear\n",
      "e\n",
      "ear\n"
     ]
    }
   ],
   "source": [
    "n=input()\n",
    "x=input()\n",
    "print(n[n.index(x):])"
   ]
  },
  {
   "cell_type": "code",
   "execution_count": null,
   "metadata": {},
   "outputs": [],
   "source": [
    "Write a Python program to print the following integers with zeros on the left of specified width."
   ]
  },
  {
   "cell_type": "code",
   "execution_count": 9,
   "metadata": {},
   "outputs": [
    {
     "name": "stdout",
     "output_type": "stream",
     "text": [
      "1234567\n",
      "01\n",
      "002\n",
      "0003\n",
      "00004\n",
      "000005\n",
      "0000006\n",
      "00000007\n"
     ]
    }
   ],
   "source": [
    "n = input()\n",
    "for x in range(len(n)):\n",
    "    a = str('0') * int(x+1)\n",
    "    print(str(a)+n[x])"
   ]
  },
  {
   "cell_type": "markdown",
   "metadata": {},
   "source": [
    "Write a Python program to print the following floating numbers with no decimal places."
   ]
  },
  {
   "cell_type": "code",
   "execution_count": 10,
   "metadata": {},
   "outputs": [
    {
     "name": "stdout",
     "output_type": "stream",
     "text": [
      "3\n",
      "3.0\n"
     ]
    }
   ],
   "source": [
    "n = input()\n",
    "print(float(n))"
   ]
  },
  {
   "cell_type": "markdown",
   "metadata": {},
   "source": [
    "Write a Python program to display a number with a comma separator"
   ]
  },
  {
   "cell_type": "code",
   "execution_count": 13,
   "metadata": {},
   "outputs": [
    {
     "name": "stdout",
     "output_type": "stream",
     "text": [
      "1,1,1,1,\n",
      "['1', '1', '1', '1', '']\n"
     ]
    }
   ],
   "source": [
    "n = input()\n",
    "print(n.split(','))"
   ]
  },
  {
   "cell_type": "markdown",
   "metadata": {},
   "source": [
    "Write a Python program to strip a set of characters from a string.\n"
   ]
  },
  {
   "cell_type": "code",
   "execution_count": 15,
   "metadata": {},
   "outputs": [
    {
     "name": "stdout",
     "output_type": "stream",
     "text": [
      "      h       k\n",
      "h       k\n"
     ]
    }
   ],
   "source": [
    "n = input()\n",
    "print(n.strip())"
   ]
  },
  {
   "cell_type": "code",
   "execution_count": null,
   "metadata": {},
   "outputs": [],
   "source": [
    "Write a Python program to swap comma and dot in a string.\n",
    "Sample string: ”32.054,23”\n",
    "Expected Output: ”32,054.23”"
   ]
  },
  {
   "cell_type": "code",
   "execution_count": 21,
   "metadata": {},
   "outputs": [
    {
     "name": "stdout",
     "output_type": "stream",
     "text": [
      "32.054,5\n",
      "32,054.5\n"
     ]
    }
   ],
   "source": [
    "n = input()\n",
    "n = n.replace('.','dot')\n",
    "n = n.replace(',','com')\n",
    "n = n.replace('dot',',')\n",
    "n = n.replace('com','.')\n",
    "print(n)"
   ]
  },
  {
   "cell_type": "markdown",
   "metadata": {},
   "source": [
    "Write a Python program to find the second most repeated word in a given string."
   ]
  },
  {
   "cell_type": "code",
   "execution_count": 30,
   "metadata": {},
   "outputs": [
    {
     "name": "stdout",
     "output_type": "stream",
     "text": [
      "3\n"
     ]
    }
   ],
   "source": [
    "s = 'stringsdsadsd'\n",
    "freq = {}\n",
    "for x in s:\n",
    "    if x in freq:\n",
    "        freq[x] += 1\n",
    "    else:\n",
    "        freq[x] = 1\n",
    "print(list(sorted(freq.values()))[-2])"
   ]
  },
  {
   "cell_type": "markdown",
   "metadata": {},
   "source": [
    "18. Write a Python program to capitalize first and last letters of each word of a given string."
   ]
  },
  {
   "cell_type": "code",
   "execution_count": 2,
   "metadata": {},
   "outputs": [
    {
     "name": "stdout",
     "output_type": "stream",
     "text": [
      "string\n",
      "StrinG\n"
     ]
    }
   ],
   "source": [
    "n = input()\n",
    "n = n[0].upper() + n[1:-1] + n[int(len(n)-1)].upper()\n",
    "print(n)"
   ]
  },
  {
   "cell_type": "markdown",
   "metadata": {},
   "source": [
    "52. Write a Python program to remove leading zeros from an IP address.\n",
    "Input:\n",
    "”255.024.01.01”\n",
    "”127.0.0.01 ”\n",
    "Output:\n",
    "255.24.1.1\n",
    "127.0.0.1"
   ]
  },
  {
   "cell_type": "code",
   "execution_count": 9,
   "metadata": {},
   "outputs": [
    {
     "name": "stdout",
     "output_type": "stream",
     "text": [
      "255.024.01.01\n",
      "255.24.1.1\n"
     ]
    }
   ],
   "source": [
    "n = input()\n",
    "a = n.split('.')\n",
    "for x in range(len(a)):\n",
    "    a[x] = a[x].strip('0')\n",
    "print('.'.join(a)) #this convert from list to this case : x.x.x.x"
   ]
  },
  {
   "cell_type": "markdown",
   "metadata": {},
   "source": [
    "51. Write a Python program to find the first appearance of the substring ’not’ and ’poor’ from a\n",
    "given string, if ’not’ follows the ’poor’, replace the whole ’not’...’poor’ substring with ’good’.\n",
    "Return the resulting string.\n",
    "Sample String : ’The lyrics is not that poor!’\n",
    "Expected Result : ’The lyrics is good!’"
   ]
  },
  {
   "cell_type": "code",
   "execution_count": 5,
   "metadata": {},
   "outputs": [
    {
     "name": "stdout",
     "output_type": "stream",
     "text": [
      "the lyric not poor\n",
      "the lyric good\n"
     ]
    }
   ],
   "source": [
    "n = input()\n",
    "n = n.split() # split is make the words in listr : 'string ' to ['s','t','r'...]\n",
    "if 'not' in n:\n",
    "    if 'poor' in n:\n",
    "        a = n.index('poor')\n",
    "        n[a] = 'good'\n",
    "        a = n.index('not')\n",
    "        del n[a]\n",
    "        \n",
    "print(' '.join(n))"
   ]
  },
  {
   "cell_type": "markdown",
   "metadata": {},
   "source": [
    "Write a Python program to calculate the length of a string."
   ]
  },
  {
   "cell_type": "code",
   "execution_count": 6,
   "metadata": {},
   "outputs": [
    {
     "name": "stdout",
     "output_type": "stream",
     "text": [
      "dafdznfsjgf\n",
      "11\n"
     ]
    }
   ],
   "source": [
    "n=input()\n",
    "print(len(n))"
   ]
  },
  {
   "cell_type": "markdown",
   "metadata": {},
   "source": [
    "\n",
    "\n",
    "Reverse a given number loops and equations and return true if it is the same as the original number\n",
    "\n"
   ]
  },
  {
   "cell_type": "code",
   "execution_count": null,
   "metadata": {},
   "outputs": [],
   "source": [
    "n = input()\n",
    "if n==n[::-1]:\n",
    "    print(True)\n",
    "else:\n",
    "    print(False)"
   ]
  },
  {
   "cell_type": "markdown",
   "metadata": {},
   "source": [
    "19. Write a Python program that takes a string split it into list of words and returns the length of\n",
    "the longest one."
   ]
  },
  {
   "cell_type": "code",
   "execution_count": 1,
   "metadata": {},
   "outputs": [
    {
     "name": "stdout",
     "output_type": "stream",
     "text": [
      "dearmay\n",
      "dearmay\n"
     ]
    }
   ],
   "source": [
    "n = input()\n",
    "n = n.split()\n",
    "m = len(n[0])\n",
    "o = n[0]\n",
    "for i in n:\n",
    "    if len(i) > m:\n",
    "        m=len(i)\n",
    "        o = i\n",
    "print(o)"
   ]
  },
  {
   "cell_type": "markdown",
   "metadata": {},
   "source": [
    "20. on the previous exercise add all the list strings into one string adding the letters ’Y!’ before\n",
    "each."
   ]
  },
  {
   "cell_type": "code",
   "execution_count": 2,
   "metadata": {},
   "outputs": [
    {
     "name": "stdout",
     "output_type": "stream",
     "text": [
      "dearmay\n",
      "dearmay\n"
     ]
    }
   ],
   "source": [
    "n = input()\n",
    "n = n.split()\n",
    "n = 'Y!'.join(n)\n",
    "print(n)"
   ]
  },
  {
   "cell_type": "markdown",
   "metadata": {},
   "source": [
    "21. Write a Python program to remove a newline in the beginning and ending of a string."
   ]
  },
  {
   "cell_type": "code",
   "execution_count": 3,
   "metadata": {},
   "outputs": [
    {
     "name": "stdout",
     "output_type": "stream",
     "text": [
      "kll\n",
      "kll\n"
     ]
    }
   ],
   "source": [
    "n = input()\n",
    "n = n.strip()\n",
    "print(n)"
   ]
  },
  {
   "cell_type": "markdown",
   "metadata": {},
   "source": [
    "22. Write a Python program to sort a string lexicographically."
   ]
  },
  {
   "cell_type": "code",
   "execution_count": 4,
   "metadata": {},
   "outputs": [
    {
     "name": "stdout",
     "output_type": "stream",
     "text": [
      "zsgfgf\n",
      "['f', 'f', 'g', 'g', 's', 'z']\n"
     ]
    }
   ],
   "source": [
    "n = input()\n",
    "n = sorted(sorted(n), key=str.upper)\n",
    "print(n)"
   ]
  },
  {
   "cell_type": "markdown",
   "metadata": {},
   "source": [
    "23. Write a Python program to convert a given string to all uppercase if it contains at least 2\n",
    "uppercase characters in the first 4 characters else convert it to lower case"
   ]
  },
  {
   "cell_type": "code",
   "execution_count": 5,
   "metadata": {},
   "outputs": [
    {
     "name": "stdout",
     "output_type": "stream",
     "text": [
      "sasdsd\n",
      "sasdsd\n"
     ]
    }
   ],
   "source": [
    "n = input()\n",
    "num_upper = 0\n",
    "for letter in n[:4]:\n",
    "    if letter.upper() == letter:\n",
    "        num_upper += 1\n",
    "if num_upper >= 2:\n",
    "    print(n.upper())\n",
    "else:\n",
    "    print(n)"
   ]
  },
  {
   "cell_type": "markdown",
   "metadata": {},
   "source": [
    "24. Write a Python program to get a string made of 4 copies of the last two characters of a specified\n",
    "string (length must be at least 2).\n",
    "Sample function and result :\n",
    "insert_end(’Python’) : onononon\n",
    "insert_end(’Exercises’) : eseseses"
   ]
  },
  {
   "cell_type": "code",
   "execution_count": 6,
   "metadata": {},
   "outputs": [
    {
     "name": "stdout",
     "output_type": "stream",
     "text": [
      "joioopi\n",
      "pipipipi\n"
     ]
    }
   ],
   "source": [
    "n = input()\n",
    "if len(n) >= 2:\n",
    "    print(str(n[len(n)-2]+n[len(n)-1])*4)"
   ]
  },
  {
   "cell_type": "markdown",
   "metadata": {},
   "source": [
    "25. Write a Python program to create a Caesar cipher."
   ]
  },
  {
   "cell_type": "code",
   "execution_count": 1,
   "metadata": {},
   "outputs": [],
   "source": [
    "def caesar_encrypt(realText, step):\n",
    "\toutText = []\n",
    "\tcryptText = []\n",
    "\n",
    "\tuppercase = ['A', 'B', 'C', 'D', 'E', 'F', 'G', 'H', 'I', 'J', 'K', 'L', 'M', 'N', 'O', 'P', 'Q', 'R', 'S', 'T', 'U', 'V', 'W', 'X', 'Y', 'Z']\n",
    "\tlowercase = ['a', 'b', 'c', 'd', 'e', 'f', 'g', 'h', 'i', 'j', 'k', 'l', 'm', 'n', 'o', 'p', 'q', 'r', 's', 't', 'u', 'v', 'w', 'x', 'y', 'z']\n",
    "\n",
    "\tfor eachLetter in realText:\n",
    "\t\tif eachLetter in uppercase:\n",
    "\t\t\tindex = uppercase.index(eachLetter)\n",
    "\t\t\tcrypting = (index + step) % 26\n",
    "\t\t\tcryptText.append(crypting)\n",
    "\t\t\tnewLetter = uppercase[crypting]\n",
    "\t\t\toutText.append(newLetter)\n",
    "\t\telif eachLetter in lowercase:\n",
    "\t\t\tindex = lowercase.index(eachLetter)\n",
    "\t\t\tcrypting = (index + step) % 26\n",
    "\t\t\tcryptText.append(crypting)\n",
    "\t\t\tnewLetter = lowercase[crypting]\n",
    "\t\t\toutText.append(newLetter)\n",
    "\treturn outText"
   ]
  },
  {
   "cell_type": "code",
   "execution_count": 8,
   "metadata": {},
   "outputs": [
    {
     "ename": "SyntaxError",
     "evalue": "invalid syntax (<ipython-input-8-0c1f6671d0ab>, line 1)",
     "output_type": "error",
     "traceback": [
      "\u001b[1;36m  File \u001b[1;32m\"<ipython-input-8-0c1f6671d0ab>\"\u001b[1;36m, line \u001b[1;32m1\u001b[0m\n\u001b[1;33m    may get here susessfull\u001b[0m\n\u001b[1;37m          ^\u001b[0m\n\u001b[1;31mSyntaxError\u001b[0m\u001b[1;31m:\u001b[0m invalid syntax\n"
     ]
    }
   ],
   "source": []
  },
  {
   "cell_type": "markdown",
   "metadata": {},
   "source": [
    "26. Write a Python program to check if a string contains only letters of the English alphabet"
   ]
  },
  {
   "cell_type": "code",
   "execution_count": 3,
   "metadata": {},
   "outputs": [
    {
     "name": "stdout",
     "output_type": "stream",
     "text": [
      "ADSADA\n",
      "False\n"
     ]
    }
   ],
   "source": [
    "import string\n",
    "n = input()\n",
    "alphabet = set(string.ascii_lowercase)\n",
    "print(set(n.lower()) >= alphabet)"
   ]
  },
  {
   "cell_type": "markdown",
   "metadata": {},
   "source": [
    "27. Write a Python program to check if a string contains all letters of the alphabet"
   ]
  },
  {
   "cell_type": "code",
   "execution_count": null,
   "metadata": {},
   "outputs": [],
   "source": [
    "import string\n",
    "n = input()\n",
    "alphabet = set(string.ascii_lowercase)\n",
    "print(set(n.lower()) >= alphabet)"
   ]
  },
  {
   "cell_type": "markdown",
   "metadata": {},
   "source": [
    "28. Write a Python program converting even indexed characters to upper and odd index characters\n",
    "to lower."
   ]
  },
  {
   "cell_type": "code",
   "execution_count": null,
   "metadata": {},
   "outputs": [],
   "source": [
    "n = input()\n",
    "\n",
    "o = ''\n",
    "\n",
    "for x in range(len(n)):\n",
    "    if (x+1)%2==0:\n",
    "        o+=n[x].upper()\n",
    "    else:\n",
    "        o+=n[x].lower()\n",
    "print(o)"
   ]
  },
  {
   "cell_type": "markdown",
   "metadata": {},
   "source": [
    "29. Write a Python program to create a string from two given strings concatenating uncommon\n",
    "characters of the two strings."
   ]
  },
  {
   "cell_type": "code",
   "execution_count": 1,
   "metadata": {},
   "outputs": [],
   "source": [
    "def concatenetedString(s1, s2):\n",
    "    res = \"\"\n",
    "    m = {}\n",
    "    for i in range(0, len(s2)):\n",
    "        m[s2[i]] = 1\n",
    "    for i in range(0, len(s1)):\n",
    "        if(not s1[i] in m):\n",
    "            res = res + s1[i]\n",
    "        else:\n",
    "            m[s1[i]] = 2\n",
    "    for i in range(0, len(s2)):\n",
    "        if(m[s2[i]] == 1):\n",
    "            res = res + s2[i]\n",
    "    return res"
   ]
  },
  {
   "cell_type": "markdown",
   "metadata": {},
   "source": [
    "30. Write a Python program to chick if a string is Palindrome ."
   ]
  },
  {
   "cell_type": "code",
   "execution_count": 3,
   "metadata": {},
   "outputs": [
    {
     "name": "stdout",
     "output_type": "stream",
     "text": [
      "37575\n",
      "False\n"
     ]
    }
   ],
   "source": [
    "n = input()\n",
    "if n == n[::-1]:\n",
    "    print(True)\n",
    "else:\n",
    "    print(False)"
   ]
  },
  {
   "cell_type": "markdown",
   "metadata": {},
   "source": [
    "31. Write a Python program to display a floating number in specified numbers (specified number\n",
    "of digits after the ’.’)."
   ]
  },
  {
   "cell_type": "code",
   "execution_count": null,
   "metadata": {},
   "outputs": [],
   "source": [
    "n = input()\n",
    "print(n[n.index('.')+1:])"
   ]
  },
  {
   "cell_type": "markdown",
   "metadata": {},
   "source": [
    "32. Write a Python program to format a specified string to limit the number of characters to 6\n",
    "always"
   ]
  },
  {
   "cell_type": "code",
   "execution_count": 1,
   "metadata": {},
   "outputs": [
    {
     "name": "stdout",
     "output_type": "stream",
     "text": [
      "erte\n",
      "erte\n"
     ]
    }
   ],
   "source": [
    "n = input()\n",
    "print('%.6s' % n)"
   ]
  },
  {
   "cell_type": "markdown",
   "metadata": {},
   "source": [
    "33. Write a Python program to split a variable length string into variables"
   ]
  },
  {
   "cell_type": "code",
   "execution_count": 2,
   "metadata": {},
   "outputs": [
    {
     "name": "stdout",
     "output_type": "stream",
     "text": [
      "a b c\n",
      "a b\n"
     ]
    }
   ],
   "source": [
    "l = ['a', 'b', 'c']\n",
    "x, y, z = (l + [None] * 3)[:3]\n",
    "print(x, y, z)\n",
    "var_list = [100, 20.25]\n",
    "x, y = (l + [None] * 2)[:2]\n",
    "print(x, y)"
   ]
  },
  {
   "cell_type": "markdown",
   "metadata": {},
   "source": [
    "34. Write a Python program to create all possible strings by using ’a’, ’e’, ’i’, ’o’, ’u’. Use the\n",
    "characters exactly once."
   ]
  },
  {
   "cell_type": "code",
   "execution_count": 3,
   "metadata": {},
   "outputs": [
    {
     "name": "stdout",
     "output_type": "stream",
     "text": [
      "[('a', 'e', 'i', 'o', 'u'), ('a', 'e', 'i', 'u', 'o'), ('a', 'e', 'o', 'i', 'u'), ('a', 'e', 'o', 'u', 'i'), ('a', 'e', 'u', 'i', 'o'), ('a', 'e', 'u', 'o', 'i'), ('a', 'i', 'e', 'o', 'u'), ('a', 'i', 'e', 'u', 'o'), ('a', 'i', 'o', 'e', 'u'), ('a', 'i', 'o', 'u', 'e'), ('a', 'i', 'u', 'e', 'o'), ('a', 'i', 'u', 'o', 'e'), ('a', 'o', 'e', 'i', 'u'), ('a', 'o', 'e', 'u', 'i'), ('a', 'o', 'i', 'e', 'u'), ('a', 'o', 'i', 'u', 'e'), ('a', 'o', 'u', 'e', 'i'), ('a', 'o', 'u', 'i', 'e'), ('a', 'u', 'e', 'i', 'o'), ('a', 'u', 'e', 'o', 'i'), ('a', 'u', 'i', 'e', 'o'), ('a', 'u', 'i', 'o', 'e'), ('a', 'u', 'o', 'e', 'i'), ('a', 'u', 'o', 'i', 'e'), ('e', 'a', 'i', 'o', 'u'), ('e', 'a', 'i', 'u', 'o'), ('e', 'a', 'o', 'i', 'u'), ('e', 'a', 'o', 'u', 'i'), ('e', 'a', 'u', 'i', 'o'), ('e', 'a', 'u', 'o', 'i'), ('e', 'i', 'a', 'o', 'u'), ('e', 'i', 'a', 'u', 'o'), ('e', 'i', 'o', 'a', 'u'), ('e', 'i', 'o', 'u', 'a'), ('e', 'i', 'u', 'a', 'o'), ('e', 'i', 'u', 'o', 'a'), ('e', 'o', 'a', 'i', 'u'), ('e', 'o', 'a', 'u', 'i'), ('e', 'o', 'i', 'a', 'u'), ('e', 'o', 'i', 'u', 'a'), ('e', 'o', 'u', 'a', 'i'), ('e', 'o', 'u', 'i', 'a'), ('e', 'u', 'a', 'i', 'o'), ('e', 'u', 'a', 'o', 'i'), ('e', 'u', 'i', 'a', 'o'), ('e', 'u', 'i', 'o', 'a'), ('e', 'u', 'o', 'a', 'i'), ('e', 'u', 'o', 'i', 'a'), ('i', 'a', 'e', 'o', 'u'), ('i', 'a', 'e', 'u', 'o'), ('i', 'a', 'o', 'e', 'u'), ('i', 'a', 'o', 'u', 'e'), ('i', 'a', 'u', 'e', 'o'), ('i', 'a', 'u', 'o', 'e'), ('i', 'e', 'a', 'o', 'u'), ('i', 'e', 'a', 'u', 'o'), ('i', 'e', 'o', 'a', 'u'), ('i', 'e', 'o', 'u', 'a'), ('i', 'e', 'u', 'a', 'o'), ('i', 'e', 'u', 'o', 'a'), ('i', 'o', 'a', 'e', 'u'), ('i', 'o', 'a', 'u', 'e'), ('i', 'o', 'e', 'a', 'u'), ('i', 'o', 'e', 'u', 'a'), ('i', 'o', 'u', 'a', 'e'), ('i', 'o', 'u', 'e', 'a'), ('i', 'u', 'a', 'e', 'o'), ('i', 'u', 'a', 'o', 'e'), ('i', 'u', 'e', 'a', 'o'), ('i', 'u', 'e', 'o', 'a'), ('i', 'u', 'o', 'a', 'e'), ('i', 'u', 'o', 'e', 'a'), ('o', 'a', 'e', 'i', 'u'), ('o', 'a', 'e', 'u', 'i'), ('o', 'a', 'i', 'e', 'u'), ('o', 'a', 'i', 'u', 'e'), ('o', 'a', 'u', 'e', 'i'), ('o', 'a', 'u', 'i', 'e'), ('o', 'e', 'a', 'i', 'u'), ('o', 'e', 'a', 'u', 'i'), ('o', 'e', 'i', 'a', 'u'), ('o', 'e', 'i', 'u', 'a'), ('o', 'e', 'u', 'a', 'i'), ('o', 'e', 'u', 'i', 'a'), ('o', 'i', 'a', 'e', 'u'), ('o', 'i', 'a', 'u', 'e'), ('o', 'i', 'e', 'a', 'u'), ('o', 'i', 'e', 'u', 'a'), ('o', 'i', 'u', 'a', 'e'), ('o', 'i', 'u', 'e', 'a'), ('o', 'u', 'a', 'e', 'i'), ('o', 'u', 'a', 'i', 'e'), ('o', 'u', 'e', 'a', 'i'), ('o', 'u', 'e', 'i', 'a'), ('o', 'u', 'i', 'a', 'e'), ('o', 'u', 'i', 'e', 'a'), ('u', 'a', 'e', 'i', 'o'), ('u', 'a', 'e', 'o', 'i'), ('u', 'a', 'i', 'e', 'o'), ('u', 'a', 'i', 'o', 'e'), ('u', 'a', 'o', 'e', 'i'), ('u', 'a', 'o', 'i', 'e'), ('u', 'e', 'a', 'i', 'o'), ('u', 'e', 'a', 'o', 'i'), ('u', 'e', 'i', 'a', 'o'), ('u', 'e', 'i', 'o', 'a'), ('u', 'e', 'o', 'a', 'i'), ('u', 'e', 'o', 'i', 'a'), ('u', 'i', 'a', 'e', 'o'), ('u', 'i', 'a', 'o', 'e'), ('u', 'i', 'e', 'a', 'o'), ('u', 'i', 'e', 'o', 'a'), ('u', 'i', 'o', 'a', 'e'), ('u', 'i', 'o', 'e', 'a'), ('u', 'o', 'a', 'e', 'i'), ('u', 'o', 'a', 'i', 'e'), ('u', 'o', 'e', 'a', 'i'), ('u', 'o', 'e', 'i', 'a'), ('u', 'o', 'i', 'a', 'e'), ('u', 'o', 'i', 'e', 'a')]\n"
     ]
    }
   ],
   "source": [
    "import itertools\n",
    "n = ['a', 'e', 'i', 'o', 'u']\n",
    "print(list(itertools.permutations(n)))"
   ]
  },
  {
   "cell_type": "markdown",
   "metadata": {},
   "source": [
    "35. Write a Python program to print a long text, convert the string to a list and print all the words\n",
    "and their frequencies"
   ]
  },
  {
   "cell_type": "code",
   "execution_count": 4,
   "metadata": {},
   "outputs": [
    {
     "name": "stdout",
     "output_type": "stream",
     "text": [
      "iiiioiiop\n",
      "[('iiiioiiop', 1)]\n"
     ]
    }
   ],
   "source": [
    "n = input()\n",
    "word_list = n.split()\n",
    "word_freq = [word_list.count(n) for n in word_list]\n",
    "print(format(str(list(zip(word_list, word_freq)))))\n"
   ]
  },
  {
   "cell_type": "markdown",
   "metadata": {},
   "source": [
    "36. Write a Python program to replace each character of a given text with the appropriate number\n",
    "between 0 and 25."
   ]
  },
  {
   "cell_type": "markdown",
   "metadata": {},
   "source": [
    "37. Write a Python program to find the number of digits at the result of factorizing a given positive\n",
    "numbers n.\n",
    "Range of the number(n): (n = 5; 1*2*3*4*5 = 120; result = 3)."
   ]
  },
  {
   "cell_type": "code",
   "execution_count": null,
   "metadata": {},
   "outputs": [],
   "source": [
    "n = int(input())\n",
    "out = 1\n",
    "for x in range(1,n+1):\n",
    "    out *= x\n",
    "print(len(str(out)))"
   ]
  },
  {
   "cell_type": "markdown",
   "metadata": {},
   "source": [
    "38. Write a Python program to find the value of n where n degrees of number 2 are written\n",
    "sequentially in a line without spaces"
   ]
  },
  {
   "cell_type": "code",
   "execution_count": 1,
   "metadata": {},
   "outputs": [],
   "source": [
    "def ndegrees(num):\n",
    "  ans = True\n",
    "  n, tempn, i = 2, 2, 2\n",
    "  while ans:\n",
    "    if str(tempn) in num:\n",
    "      i += 1\n",
    "      tempn = pow(n, i)\n",
    "    else:\n",
    "      ans = False\n",
    "  return i-1;"
   ]
  },
  {
   "cell_type": "markdown",
   "metadata": {},
   "source": [
    "43. Write a Python program to compute the sum the count of digit number of two given integers;\n",
    "Input two integers(a b): 5 7\n",
    "Sum of two integers a and b: 2"
   ]
  },
  {
   "cell_type": "code",
   "execution_count": null,
   "metadata": {},
   "outputs": [],
   "source": [
    "a,b = map(int,input().split(\" \"))\n",
    "print(len(str(a+b)))"
   ]
  },
  {
   "cell_type": "code",
   "execution_count": null,
   "metadata": {},
   "outputs": [],
   "source": []
  }
 ],
 "metadata": {
  "kernelspec": {
   "display_name": "Python 3",
   "language": "python",
   "name": "python3"
  },
  "language_info": {
   "codemirror_mode": {
    "name": "ipython",
    "version": 3
   },
   "file_extension": ".py",
   "mimetype": "text/x-python",
   "name": "python",
   "nbconvert_exporter": "python",
   "pygments_lexer": "ipython3",
   "version": "3.7.4"
  }
 },
 "nbformat": 4,
 "nbformat_minor": 2
}
