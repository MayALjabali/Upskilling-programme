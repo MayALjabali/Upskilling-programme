{
 "cells": [
  {
   "cell_type": "code",
   "execution_count": 1,
   "metadata": {},
   "outputs": [
    {
     "name": "stdout",
     "output_type": "stream",
     "text": [
      "heelo\n",
      "5\n"
     ]
    }
   ],
   "source": [
    "n=input()\n",
    "print(len(n))\n",
    "\n",
    "####3. Write a Python program to calculate the length of a string. from slide\n"
   ]
  },
  {
   "cell_type": "markdown",
   "metadata": {},
   "source": [
    "loop over a string and each time delete the last two character until no characters left."
   ]
  },
  {
   "cell_type": "code",
   "execution_count": 6,
   "metadata": {},
   "outputs": [
    {
     "name": "stdout",
     "output_type": "stream",
     "text": [
      "testtest\n",
      "testtest\n",
      "testte\n",
      "test\n",
      "te\n"
     ]
    }
   ],
   "source": [
    "n = input()\n",
    "for x in range(int(len(n)/2)):\n",
    "    print(n)\n",
    "    n = n[:-2]\n",
    "    \n",
    "    \n"
   ]
  },
  {
   "cell_type": "markdown",
   "metadata": {},
   "source": [
    "Write a Python program to create a string contains the unique characters in a string.Q5"
   ]
  },
  {
   "cell_type": "code",
   "execution_count": 1,
   "metadata": {},
   "outputs": [
    {
     "name": "stdout",
     "output_type": "stream",
     "text": [
      "hello\n",
      "lohe\n"
     ]
    }
   ],
   "source": [
    "n=input()\n",
    "print(''.join(set(n)))"
   ]
  },
  {
   "cell_type": "code",
   "execution_count": 2,
   "metadata": {},
   "outputs": [
    {
     "name": "stdout",
     "output_type": "stream",
     "text": [
      "hello\n",
      "hoel\n"
     ]
    }
   ],
   "source": [
    "n=input()\n",
    "print(''.join(set(n)))\n"
   ]
  },
  {
   "cell_type": "markdown",
   "metadata": {},
   "source": [
    "Write a Python program to get a string made of the first 2 and the last 2 chars from a given a\n",
    "string. If the string length is less than 2, return instead of the empty string.\n",
    " "
   ]
  },
  {
   "cell_type": "code",
   "execution_count": 3,
   "metadata": {},
   "outputs": [
    {
     "name": "stdout",
     "output_type": "stream",
     "text": [
      "FUULY\n",
      "FULY\n"
     ]
    }
   ],
   "source": [
    "n=input()\n",
    "print(n[:2]+n[-2:])"
   ]
  },
  {
   "cell_type": "markdown",
   "metadata": {},
   "source": [
    "Write a Python program to get a string from a given string where all occurrences of its first\n",
    "char have been changed to ’$’, except the first char itself.Q.8\n"
   ]
  },
  {
   "cell_type": "code",
   "execution_count": 5,
   "metadata": {},
   "outputs": [
    {
     "name": "stdout",
     "output_type": "stream",
     "text": [
      "restart\n",
      "resta$t\n"
     ]
    }
   ],
   "source": [
    "n = input()\n",
    "char = n[0]  \n",
    "length = len(n)  \n",
    "n = n.replace(char, '$')  \n",
    "n = char + n[1:]\n",
    "print(n)\n"
   ]
  },
  {
   "cell_type": "markdown",
   "metadata": {},
   "source": [
    "9. Write a Python program that takes a string split it into list of words and returns the length of\n",
    "each one."
   ]
  },
  {
   "cell_type": "code",
   "execution_count": 6,
   "metadata": {},
   "outputs": [
    {
     "name": "stdout",
     "output_type": "stream",
     "text": [
      "my name is \n",
      "['my', 'name', 'is']\n"
     ]
    }
   ],
   "source": [
    "n=input()\n",
    "n = n.split()\n",
    "print(n)"
   ]
  },
  {
   "cell_type": "markdown",
   "metadata": {},
   "source": [
    "10. Write a Python program to check whether a string starts with specified characters"
   ]
  },
  {
   "cell_type": "code",
   "execution_count": 6,
   "metadata": {},
   "outputs": [
    {
     "name": "stdout",
     "output_type": "stream",
     "text": [
      "MAY\n",
      "SOMA\n",
      "False\n"
     ]
    }
   ],
   "source": [
    "n=input()\n",
    "x=input()\n",
    "print(n.startswith(x))"
   ]
  },
  {
   "cell_type": "markdown",
   "metadata": {},
   "source": [
    "Write a Python program to get the last part of a string before a specified character.Q.11\n"
   ]
  },
  {
   "cell_type": "code",
   "execution_count": 17,
   "metadata": {},
   "outputs": [
    {
     "name": "stdout",
     "output_type": "stream",
     "text": [
      "TERE\n",
      "TERE\n",
      "TERE\n"
     ]
    }
   ],
   "source": [
    "n=input()\n",
    "x=input()\n",
    "print(n[n.index(x):])"
   ]
  },
  {
   "cell_type": "markdown",
   "metadata": {},
   "source": [
    "Write a Python program to print the following integers with zeros on the left of specified width.12"
   ]
  },
  {
   "cell_type": "code",
   "execution_count": 7,
   "metadata": {},
   "outputs": [
    {
     "name": "stdout",
     "output_type": "stream",
     "text": [
      "5656777\n",
      "05\n",
      "006\n",
      "0005\n",
      "00006\n",
      "000007\n",
      "0000007\n",
      "00000007\n"
     ]
    }
   ],
   "source": [
    "n = input()\n",
    "for x in range(len(n)):\n",
    "    a = str('0') * int(x+1)\n",
    "    print(str(a)+n[x])"
   ]
  },
  {
   "cell_type": "markdown",
   "metadata": {},
   "source": [
    "Write a Python program to print the following floating numbers with no decimal places.Q13"
   ]
  },
  {
   "cell_type": "code",
   "execution_count": 10,
   "metadata": {},
   "outputs": [
    {
     "name": "stdout",
     "output_type": "stream",
     "text": [
      "3\n",
      "3.0\n"
     ]
    }
   ],
   "source": [
    "n = input()\n",
    "print(float(n))"
   ]
  },
  {
   "cell_type": "markdown",
   "metadata": {},
   "source": [
    "Write a Python program to display a number with a comma separatorQ.14"
   ]
  },
  {
   "cell_type": "code",
   "execution_count": 13,
   "metadata": {},
   "outputs": [
    {
     "name": "stdout",
     "output_type": "stream",
     "text": [
      "1,1,1,1,\n",
      "['1', '1', '1', '1', '']\n"
     ]
    }
   ],
   "source": [
    "n = input()\n",
    "print(n.split(','))"
   ]
  },
  {
   "cell_type": "markdown",
   "metadata": {},
   "source": [
    "Write a Python program to strip a set of characters from a string.Q.15\n"
   ]
  },
  {
   "cell_type": "code",
   "execution_count": 15,
   "metadata": {},
   "outputs": [
    {
     "name": "stdout",
     "output_type": "stream",
     "text": [
      "      h       k\n",
      "h       k\n"
     ]
    }
   ],
   "source": [
    "n = input()\n",
    "print(n.strip())"
   ]
  },
  {
   "cell_type": "code",
   "execution_count": null,
   "metadata": {},
   "outputs": [],
   "source": [
    "Write a Python program to swap comma and dot in a string.Q16\n",
    "Sample string: ”32.054,23”\n",
    "Expected Output: ”32,054.23”"
   ]
  },
  {
   "cell_type": "code",
   "execution_count": 21,
   "metadata": {},
   "outputs": [
    {
     "name": "stdout",
     "output_type": "stream",
     "text": [
      "32.054,5\n",
      "32,054.5\n"
     ]
    }
   ],
   "source": [
    "n = input()\n",
    "n = n.replace('.','dot')\n",
    "n = n.replace(',','com')\n",
    "n = n.replace('dot',',')\n",
    "n = n.replace('com','.')\n",
    "print(n)"
   ]
  },
  {
   "cell_type": "markdown",
   "metadata": {},
   "source": [
    "Write a Python program to find the second most repeated word in a given string."
   ]
  },
  {
   "cell_type": "code",
   "execution_count": 30,
   "metadata": {},
   "outputs": [
    {
     "name": "stdout",
     "output_type": "stream",
     "text": [
      "3\n"
     ]
    }
   ],
   "source": [
    "s = 'stringsdsadsd'\n",
    "freq = {}\n",
    "for x in s:\n",
    "    if x in freq:\n",
    "        freq[x] += 1\n",
    "    else:\n",
    "        freq[x] = 1\n",
    "print(list(sorted(freq.values()))[-2])"
   ]
  },
  {
   "cell_type": "markdown",
   "metadata": {},
   "source": [
    "18. Write a Python program to capitalize first and last letters of each word of a given string."
   ]
  },
  {
   "cell_type": "code",
   "execution_count": 2,
   "metadata": {},
   "outputs": [
    {
     "name": "stdout",
     "output_type": "stream",
     "text": [
      "string\n",
      "StrinG\n"
     ]
    }
   ],
   "source": [
    "n = input()\n",
    "n = n[0].upper() + n[1:-1] + n[int(len(n)-1)].upper()\n",
    "print(n)"
   ]
  },
  {
   "cell_type": "markdown",
   "metadata": {},
   "source": [
    "52. Write a Python program to remove leading zeros from an IP address.\n",
    "Input:\n",
    "”255.024.01.01”\n",
    "”127.0.0.01 ”\n",
    "Output:\n",
    "255.24.1.1\n",
    "127.0.0.1"
   ]
  },
  {
   "cell_type": "code",
   "execution_count": 9,
   "metadata": {},
   "outputs": [
    {
     "name": "stdout",
     "output_type": "stream",
     "text": [
      "255.024.01.01\n",
      "255.24.1.1\n"
     ]
    }
   ],
   "source": [
    "n = input()\n",
    "a = n.split('.')\n",
    "for x in range(len(a)):\n",
    "    a[x] = a[x].strip('0')\n",
    "print('.'.join(a)) #this convert from list to this case : x.x.x.x"
   ]
  },
  {
   "cell_type": "markdown",
   "metadata": {},
   "source": [
    "51. Write a Python program to find the first appearance of the substring ’not’ and ’poor’ from a\n",
    "given string, if ’not’ follows the ’poor’, replace the whole ’not’...’poor’ substring with ’good’.\n",
    "Return the resulting string.\n",
    "Sample String : ’The lyrics is not that poor!’\n",
    "Expected Result : ’The lyrics is good!’"
   ]
  },
  {
   "cell_type": "code",
   "execution_count": 5,
   "metadata": {},
   "outputs": [
    {
     "name": "stdout",
     "output_type": "stream",
     "text": [
      "the lyric not poor\n",
      "the lyric good\n"
     ]
    }
   ],
   "source": [
    "n = input()\n",
    "n = n.split() # split is make the words in listr : 'string ' to ['s','t','r'...]\n",
    "if 'not' in n:\n",
    "    if 'poor' in n:\n",
    "        a = n.index('poor')\n",
    "        n[a] = 'good'\n",
    "        a = n.index('not')\n",
    "        del n[a]\n",
    "        \n",
    "print(' '.join(n))"
   ]
  },
  {
   "cell_type": "markdown",
   "metadata": {},
   "source": [
    "Write a Python program to calculate the length of a string."
   ]
  },
  {
   "cell_type": "code",
   "execution_count": 6,
   "metadata": {},
   "outputs": [
    {
     "name": "stdout",
     "output_type": "stream",
     "text": [
      "dafdznfsjgf\n",
      "11\n"
     ]
    }
   ],
   "source": [
    "n=input()\n",
    "print(len(n))"
   ]
  },
  {
   "cell_type": "markdown",
   "metadata": {},
   "source": [
    "\n",
    "\n",
    "Reverse a given number loops and equations and return true if it is the same as the original number\n",
    "\n"
   ]
  },
  {
   "cell_type": "code",
   "execution_count": null,
   "metadata": {},
   "outputs": [],
   "source": [
    "n = input()\n",
    "if n==n[::-1]:\n",
    "    print(True)\n",
    "else:\n",
    "    print(False)"
   ]
  },
  {
   "cell_type": "markdown",
   "metadata": {},
   "source": [
    "19. Write a Python program that takes a string split it into list of words and returns the length of\n",
    "the longest one."
   ]
  },
  {
   "cell_type": "code",
   "execution_count": 19,
   "metadata": {},
   "outputs": [
    {
     "ename": "SyntaxError",
     "evalue": "EOL while scanning string literal (<ipython-input-19-d91a6fa2bfee>, line 9)",
     "output_type": "error",
     "traceback": [
      "\u001b[1;36m  File \u001b[1;32m\"<ipython-input-19-d91a6fa2bfee>\"\u001b[1;36m, line \u001b[1;32m9\u001b[0m\n\u001b[1;33m    print(o)''''\u001b[0m\n\u001b[1;37m                   \n^\u001b[0m\n\u001b[1;31mSyntaxError\u001b[0m\u001b[1;31m:\u001b[0m EOL while scanning string literal\n"
     ]
    }
   ],
   "source": [
    "'''n = input()\n",
    "n = n.split()\n",
    "m = len(n[0])\n",
    "o = n[0]\n",
    "for i in n:\n",
    "    if len(i) > m:\n",
    "        m=len(i)\n",
    "        o = i\n",
    "print(o)''''   \n",
    "##### n = input()\n",
    "\n",
    "def fun(s):\n",
    "s =s.split()\n",
    "  maxx = max([len(i) for i in s])\n",
    "print (\"The list is :{0} and the max length is {1}:\".format(s,str(maxx)))\n",
    "  \n",
    "  \n",
    " fun(n) \n",
    "\n"
   ]
  },
  {
   "cell_type": "markdown",
   "metadata": {},
   "source": [
    "20. on the previous exercise add all the list strings into one string adding the letters ’Y!’ before\n",
    "each."
   ]
  },
  {
   "cell_type": "code",
   "execution_count": 22,
   "metadata": {},
   "outputs": [
    {
     "data": {
      "text/plain": [
       "'n = input()\\n\\ndef fun(s):\\ns =s.split()\\n  maxx = max([len(i) for i in s])\\nprint (\"The list is :{0} and the max length is {1}:\".format(s,str(maxx)))\\n  print(\\'Y!\\'+\\'Y!\\'.join(s))\\n  \\n fun(n) '"
      ]
     },
     "execution_count": 22,
     "metadata": {},
     "output_type": "execute_result"
    }
   ],
   "source": [
    "'''n = input()\n",
    "n = n.split()\n",
    "n = 'Y!'.join(n)\n",
    "print(n)'''\n",
    "\n",
    "\n",
    "\n",
    "n = input()\n",
    "\n",
    "def fun(s):\n",
    "s =s.split()\n",
    "  maxx = max([len(i) for i in s])\n",
    "print (\"The list is :{0} and the max length is {1}:\".format(s,str(maxx)))\n",
    "  print('Y!'+'Y!'.join(s))\n",
    "  \n",
    " fun(n) "
   ]
  },
  {
   "cell_type": "markdown",
   "metadata": {},
   "source": [
    "21. Write a Python program to remove a newline in the beginning and ending of a string."
   ]
  },
  {
   "cell_type": "code",
   "execution_count": 3,
   "metadata": {},
   "outputs": [
    {
     "name": "stdout",
     "output_type": "stream",
     "text": [
      "kll\n",
      "kll\n"
     ]
    }
   ],
   "source": [
    "'''n = input()\n",
    "n = n.strip()\n",
    "print(n)'''\n",
    "\n",
    "n = \"\\nhello the world \\nmy name\\n\"\n",
    "n=n.lstrip('\\n').rstrip('\\n')\n",
    "print(n)"
   ]
  },
  {
   "cell_type": "markdown",
   "metadata": {},
   "source": [
    "22. Write a Python program to sort a string lexicographically."
   ]
  },
  {
   "cell_type": "code",
   "execution_count": 4,
   "metadata": {},
   "outputs": [
    {
     "name": "stdout",
     "output_type": "stream",
     "text": [
      "zsgfgf\n",
      "['f', 'f', 'g', 'g', 's', 'z']\n"
     ]
    }
   ],
   "source": [
    "n = input()\n",
    "n = sorted(sorted(n), key=str.upper)\n",
    "print(n)"
   ]
  },
  {
   "cell_type": "markdown",
   "metadata": {},
   "source": [
    "23. Write a Python program to convert a given string to all uppercase if it contains at least 2\n",
    "uppercase characters in the first 4 characters else convert it to lower case"
   ]
  },
  {
   "cell_type": "code",
   "execution_count": 5,
   "metadata": {},
   "outputs": [
    {
     "name": "stdout",
     "output_type": "stream",
     "text": [
      "sasdsd\n",
      "sasdsd\n"
     ]
    }
   ],
   "source": [
    "n = input()\n",
    "num_upper = 0\n",
    "for letter in n[:4]:\n",
    "    if letter.upper() == letter:\n",
    "        num_upper += 1\n",
    "if num_upper >= 2:\n",
    "    print(n.upper())\n",
    "else:\n",
    "    print(n) \n",
    "    #### other solution \n",
    "x =\"TtE world \"\n",
    "count=0\n",
    "for i in range(4):\n",
    "    if ord(x[i]) in range(65,91):\n",
    "    count+=1\n",
    "    \n",
    "if count>=2:\n",
    "    print(x.upper())\n",
    "else:\n",
    "    print(x.lower())"
   ]
  },
  {
   "cell_type": "markdown",
   "metadata": {},
   "source": [
    "24. Write a Python program to get a string made of 4 copies of the last two characters of a specified\n",
    "string (length must be at least 2).\n",
    "Sample function and result :\n",
    "insert_end(’Python’) : onononon\n",
    "insert_end(’Exercises’) : eseseses"
   ]
  },
  {
   "cell_type": "code",
   "execution_count": 6,
   "metadata": {},
   "outputs": [
    {
     "name": "stdout",
     "output_type": "stream",
     "text": [
      "joioopi\n",
      "pipipipi\n"
     ]
    }
   ],
   "source": [
    "###n = input()\n",
    "###if len(n) >= 2:\n",
    "#print(str(n[len(n)-2]+n[len(n)-1])*4)###\n",
    "\n",
    "x=\"Python\"\n",
    "k=''\n",
    "if len(x)>=2:\n",
    "    for i in range(4):\n",
    "    k+=x[len(x)-2:len(x)]\n",
    "print(k)\n",
    "\n"
   ]
  },
  {
   "cell_type": "markdown",
   "metadata": {},
   "source": []
  },
  {
   "cell_type": "code",
   "execution_count": 1,
   "metadata": {},
   "outputs": [],
   "source": []
  },
  {
   "cell_type": "code",
   "execution_count": null,
   "metadata": {},
   "outputs": [],
   "source": []
  },
  {
   "cell_type": "markdown",
   "metadata": {},
   "source": [
    "26. Write a Python program to check if a string contains only letters of the English alphabet"
   ]
  },
  {
   "cell_type": "code",
   "execution_count": 3,
   "metadata": {},
   "outputs": [
    {
     "name": "stdout",
     "output_type": "stream",
     "text": [
      "ADSADA\n",
      "False\n"
     ]
    }
   ],
   "source": [
    "x =\"the number 17 is prime!\"\n",
    "y=\"hello word\"\n",
    "\n",
    "def fun(n):\n",
    "    b =True\n",
    "for i in n:\n",
    "    if (ord(i) not in range(65,91)) and (ord(i) not in range(97,123)) and (ord(i)!=32):\n",
    "        b=False\n",
    "        break\n",
    "      \n",
    "      if b:\n",
    "        print('\"{0}\" contains only alphabet:'.format(n))\n",
    "    else:\n",
    "        print('\"{0}\" contains  alphabet and other:'.format(n))\n",
    "    \n",
    "\n",
    "fun(x) \n",
    "\n"
   ]
  },
  {
   "cell_type": "markdown",
   "metadata": {},
   "source": [
    "27. Write a Python program to check if a string contains all letters of the alphabet"
   ]
  },
  {
   "cell_type": "code",
   "execution_count": null,
   "metadata": {},
   "outputs": [],
   "source": [
    "tring = 'The quick brown fox jumps over the lazy dog'\n",
    "\n",
    "def is_pangram(s):\n",
    "    pangram = True\n",
    "    y = ''.join(s.upper().split())\n",
    "    x = [ord(i) for i in y]\n",
    "    for i in range(65,91):\n",
    "        if i in x:\n",
    "    continue\n",
    "    else:\n",
    "        pangram = False\n",
    "    if pangram:\n",
    "    return 'this sentence is pangram'\n",
    "  else:\n",
    "    return 'this sentence is not pangram'\n",
    "\t\n",
    "print(is_pangram(string))  \n"
   ]
  },
  {
   "cell_type": "markdown",
   "metadata": {},
   "source": [
    "28. Write a Python program converting even indexed characters to upper and odd index characters\n",
    "to lower."
   ]
  },
  {
   "cell_type": "code",
   "execution_count": null,
   "metadata": {},
   "outputs": [],
   "source": [
    "x=input()\n",
    "x=[i for i in x]\n",
    "for i in range(len(x)):\n",
    "  \n",
    "  if i % 2 ==0:\n",
    "    x[i] =x[i].upper()\n",
    "    else:\n",
    "    x[i] =x[i].lower()\n",
    "print(''.join(x)) "
   ]
  },
  {
   "cell_type": "markdown",
   "metadata": {},
   "source": [
    "29. Write a Python program to create a string from two given strings concatenating uncommon\n",
    "characters of the two strings."
   ]
  },
  {
   "cell_type": "code",
   "execution_count": 23,
   "metadata": {},
   "outputs": [
    {
     "name": "stdout",
     "output_type": "stream",
     "text": [
      "hwerd\n"
     ]
    }
   ],
   "source": [
    "x=\"hello\"\n",
    "y='world'\n",
    "\n",
    "x=set(x)\n",
    "y=set(y)\n",
    "\n",
    "x = x.symmetric_difference(y)\n",
    "print(''.join(x))"
   ]
  },
  {
   "cell_type": "markdown",
   "metadata": {},
   "source": [
    "30. Write a Python program to chick if a string is Palindrome ."
   ]
  },
  {
   "cell_type": "code",
   "execution_count": 3,
   "metadata": {},
   "outputs": [
    {
     "name": "stdout",
     "output_type": "stream",
     "text": [
      "37575\n",
      "False\n"
     ]
    }
   ],
   "source": []
  },
  {
   "cell_type": "markdown",
   "metadata": {},
   "source": [
    "31. Write a Python program to display a floating number in specified numbers (specified number\n",
    "of digits after the ’.’)."
   ]
  },
  {
   "cell_type": "code",
   "execution_count": null,
   "metadata": {},
   "outputs": [],
   "source": [
    "n = input()\n",
    "print(n[n.index('.')+1:])"
   ]
  },
  {
   "cell_type": "markdown",
   "metadata": {},
   "source": [
    "32. Write a Python program to format a specified string to limit the number of characters to 6\n",
    "always"
   ]
  },
  {
   "cell_type": "code",
   "execution_count": 1,
   "metadata": {},
   "outputs": [
    {
     "name": "stdout",
     "output_type": "stream",
     "text": [
      "erte\n",
      "erte\n"
     ]
    }
   ],
   "source": [
    "n = input()\n",
    "print('%.6s' % n)"
   ]
  },
  {
   "cell_type": "markdown",
   "metadata": {},
   "source": [
    "33. Write a Python program to split a variable length string into variables"
   ]
  },
  {
   "cell_type": "code",
   "execution_count": 5,
   "metadata": {},
   "outputs": [
    {
     "name": "stdout",
     "output_type": "stream",
     "text": [
      "ugfj yughnb nu\n",
      "ugf\n",
      "j y\n",
      "ugh\n",
      "nb \n",
      "nu\n"
     ]
    }
   ],
   "source": [
    "\n",
    "n= input()\n",
    "def dev_(n,b):\n",
    "    for i  in range(0,len(n),b):\n",
    "        print (n[i:b+i])\n",
    "        \n",
    "        \n",
    "        \n",
    "dev_(n,3)        \n",
    "    "
   ]
  },
  {
   "cell_type": "markdown",
   "metadata": {},
   "source": [
    "34. Write a Python program to create all possible strings by using ’a’, ’e’, ’i’, ’o’, ’u’. Use the\n",
    "characters exactly once."
   ]
  },
  {
   "cell_type": "code",
   "execution_count": 9,
   "metadata": {},
   "outputs": [
    {
     "name": "stdout",
     "output_type": "stream",
     "text": [
      "['aeiou', 'eaiou', 'iaeou', 'oaeiu', 'uaeio']\n"
     ]
    }
   ],
   "source": [
    "x =['a','e','i','o','u']\n",
    "k=[]\n",
    "for i in range(len(x)):\n",
    "    b=x[i]\n",
    "    for j in range(len(x)):\n",
    "        if i!=j:\n",
    "            b+=x[j]\n",
    "    k.append(b)   \n",
    "print(k)\n",
    "\n"
   ]
  },
  {
   "cell_type": "markdown",
   "metadata": {},
   "source": [
    "35. Write a Python program to print a long text, convert the string to a list and print all the words\n",
    "and their frequencies"
   ]
  },
  {
   "cell_type": "code",
   "execution_count": 12,
   "metadata": {},
   "outputs": [
    {
     "name": "stdout",
     "output_type": "stream",
     "text": [
      "['hello', 'my', 'friends', 'this', 'is', 'my', 'code', 'for', 'this', 'problem']\n",
      "hello:1\n",
      "my:2\n",
      "friends:1\n",
      "this:2\n",
      "is:1\n",
      "my:2\n",
      "code:1\n",
      "for:1\n",
      "this:2\n",
      "problem:1\n"
     ]
    }
   ],
   "source": [
    "\n",
    "x =\"hello my friends this is my code for this problem\"\n",
    "\n",
    "x= x.split()\n",
    "\n",
    "print(x)\n",
    "for i in x:\n",
    "    print(i,x.count(i),sep=\":\")\n",
    "\n"
   ]
  },
  {
   "cell_type": "markdown",
   "metadata": {},
   "source": [
    "36. Write a Python program to replace each character of a given text with the appropriate number\n",
    "between 0 and 25."
   ]
  },
  {
   "cell_type": "markdown",
   "metadata": {},
   "source": [
    "37. Write a Python program to find the number of digits at the result of factorizing a given positive\n",
    "numbers n.\n",
    "Range of the number(n): (n = 5; 1*2*3*4*5 = 120; result = 3)."
   ]
  },
  {
   "cell_type": "code",
   "execution_count": 18,
   "metadata": {},
   "outputs": [
    {
     "name": "stdout",
     "output_type": "stream",
     "text": [
      "5\n",
      "3\n"
     ]
    }
   ],
   "source": [
    "def fun(n):\n",
    "  x=1\n",
    "  for i in range(n):\n",
    "    x*=(i+1)\n",
    "  return(len(str(x)))\n",
    "n=int(input())\n",
    "print(fun(n))\n"
   ]
  },
  {
   "cell_type": "markdown",
   "metadata": {},
   "source": [
    "38. Write a Python program to find the value of n where n degrees of number 2 are written\n",
    "sequentially in a line without spaces"
   ]
  },
  {
   "cell_type": "code",
   "execution_count": 19,
   "metadata": {},
   "outputs": [
    {
     "name": "stdout",
     "output_type": "stream",
     "text": [
      "7\n"
     ]
    }
   ],
   "source": [
    "x = \"1248163264\"\n",
    "j=0\n",
    "b= True\n",
    "\n",
    "while b :\n",
    "  if str((pow(2,j))) in x:\n",
    "    j+=1\n",
    "  else:\n",
    "    b=False\n",
    "print(j)"
   ]
  },
  {
   "cell_type": "markdown",
   "metadata": {},
   "source": [
    "43. Write a Python program to compute the sum the count of digit number of two given integers;\n",
    "Input two integers(a b): 5 7\n",
    "Sum of two integers a and b: 2"
   ]
  },
  {
   "cell_type": "code",
   "execution_count": 20,
   "metadata": {},
   "outputs": [
    {
     "name": "stdout",
     "output_type": "stream",
     "text": [
      "6\n"
     ]
    }
   ],
   "source": [
    "def fun(a,b):\n",
    "  d_a =0\n",
    "  d_b = 0\n",
    "  while a!=0:\n",
    "    a = (a - a%10) //10\n",
    "    d_a+=1\n",
    "    \n",
    "  while b!=0:\n",
    "    b = (b - b%10) //10\n",
    "    d_b+=1  \n",
    "  return d_a+d_b\n",
    "\n",
    "print(fun(555,747))"
   ]
  },
  {
   "cell_type": "markdown",
   "metadata": {},
   "source": [
    "36.Write a Python program to replace each character of a given text with the appropriate number between 0 and 25."
   ]
  },
  {
   "cell_type": "code",
   "execution_count": 14,
   "metadata": {},
   "outputs": [
    {
     "name": "stdout",
     "output_type": "stream",
     "text": [
      "7 4 11 11 14 7 4 11 11 14 25 0 \n"
     ]
    }
   ],
   "source": [
    "x = \"hello hello z a\"\n",
    "x = x.upper()\n",
    "k =\"\"\n",
    "for i in x:\n",
    "    if(ord(i) in range(65,91)):\n",
    "        k+=str(ord(i)-65)+\" \"\n",
    "print(k)  \n"
   ]
  },
  {
   "cell_type": "markdown",
   "metadata": {},
   "source": [
    " 39.Write a Python program to find the number of notes (Sample of notes: 10, 20, 50, 100, 200\n",
    "and 500 ) against an given amount."
   ]
  },
  {
   "cell_type": "code",
   "execution_count": 1,
   "metadata": {},
   "outputs": [
    {
     "name": "stdout",
     "output_type": "stream",
     "text": [
      "1\n"
     ]
    }
   ],
   "source": [
    "def num_notes(l,amount):\n",
    "  x = 0\n",
    "  for i in l:\n",
    "    x+=amount//i\n",
    "    amount = amount % i\n",
    "    if(amount % i == 0):\n",
    "      break\n",
    "  return x\n",
    "print(num_notes([500,200,100,50,20,10],100) ) "
   ]
  },
  {
   "cell_type": "markdown",
   "metadata": {},
   "source": [
    "40. Write a Python program to find the type of the progression (arithmetic progression/geometric\n",
    "progression) and the next successive member of a given three successive members of a sequence.\n",
    "Sample Input: 2, 6, 18\n",
    "Sample Output:\n",
    "ratio: 3.\n",
    "next number: 54"
   ]
  },
  {
   "cell_type": "code",
   "execution_count": 2,
   "metadata": {},
   "outputs": [
    {
     "name": "stdout",
     "output_type": "stream",
     "text": [
      "type is arithmetic  and ratio is 2 and next numbers is  13\n"
     ]
    }
   ],
   "source": [
    "\n",
    "x =[2,6,18]\n",
    "y=[3,5,7,9,11]\n",
    "type=\"\"\n",
    "def pro_type(l):\n",
    "  \n",
    "  k=[]\n",
    "  b = True\n",
    "  j =1\n",
    "  for i in range(1,len(l)):\n",
    "    k.append(l[i]-l[i-1])\n",
    "  for i in range(len(k)-1):\n",
    "    if(k[i]!=k[i+1]):\n",
    "      b=False\n",
    "  if b:\n",
    "    ratio =l[len(l)-1] - l[len(l)-2]\n",
    "    type = \"arithmetic\"\n",
    "    print((\"type is {0}  and ratio is {1} and next numbers is  {2}\".format(type,ratio,l[len(l)-1]+ratio)))\n",
    "     \n",
    "  else:\n",
    "    type = \"geometric\"\n",
    "    ratio =(l[len(l)-1] //l[len(l)-2])\n",
    "    print((\"type is {0}  and ratio is {1} and next numbers is  {2}\".format(type,ratio,l[len(l)-1]*ratio)))\n",
    "    \n",
    "pro_type(y)  \n",
    "\n",
    "\n"
   ]
  },
  {
   "cell_type": "markdown",
   "metadata": {},
   "source": [
    "42. Write a Python program to count the number of carry operations for each of a set of addition\n",
    "problems.\n",
    "According to Wikipedia ” In elementary arithmetic, a carry is a digit that is transferred from\n",
    "one column of digits to another column of more significant digits. It is part of the standard\n",
    "algorithm to add numbers together by starting with the rightmost digits and working to the\n",
    "left. For example, when 6 and 7 are added to make 13, the ”3” is written to the same column\n",
    "and the ”1” is carried to the left”.\"\"\"\n"
   ]
  },
  {
   "cell_type": "code",
   "execution_count": 5,
   "metadata": {},
   "outputs": [
    {
     "name": "stdout",
     "output_type": "stream",
     "text": [
      "7 6 9975546 77789\n",
      "1\n",
      "6 9 997554 7778\n",
      "1\n",
      "4 8 99755 777\n",
      "1\n",
      "5 7 9975 77\n",
      "1\n",
      "5 7 997 7\n",
      "1\n",
      "7 7 99 0\n",
      "1\n",
      "9 0 9 0\n",
      "1\n",
      "9 0 0 0\n",
      "1\n",
      "number of cary is : 8\n"
     ]
    }
   ],
   "source": [
    "x=   777896\n",
    "y= 99755467\n",
    "\n",
    "maxx = max(x,y)\n",
    "minn = min(x,y)\n",
    "count = 0\n",
    "cary = 0\n",
    "while maxx !=0 :\n",
    "  \n",
    "  a = maxx %10\n",
    "  b =minn %10\n",
    "  \n",
    "  maxx = (maxx-a) //10\n",
    "  minn = (minn-b) //10\n",
    "  \n",
    "  print (a,b,maxx,minn)\n",
    "  if (a+b+cary) >= 10:\n",
    "    cary = (a+b+cary) //10\n",
    "    print(cary)\n",
    "    count+=1\n",
    "    \n",
    "    \n",
    "print ('number of cary is : '+str(count))"
   ]
  },
  {
   "cell_type": "markdown",
   "metadata": {},
   "source": [
    "45. Write a Python program which reads a text (only alphabetical characters and spaces.) and\n",
    "prints two words. The first one is the word which is arise most frequently in the text. The\n",
    "second one is the word which has the maximum number of letters."
   ]
  },
  {
   "cell_type": "code",
   "execution_count": 6,
   "metadata": {},
   "outputs": [
    {
     "name": "stdout",
     "output_type": "stream",
     "text": [
      "most frequently word is this and word which has max num of letters is question\n"
     ]
    }
   ],
   "source": [
    "x = \"this is the question 45 in this mission\"\n",
    "\n",
    "\n",
    "def fun(x):\n",
    "  x=x.split()\n",
    "  k = [x.count(y) for y in x]\n",
    "  t = [i.split() for i in x]\n",
    "  max_w_l = len(t[0][0])\n",
    "  max_w = t[0][0]\n",
    "  for j in range(len(t)):\n",
    "     \n",
    "      if len(t[j][0]) > max_w_l:\n",
    "        #print(max_w_l ,max_w)\n",
    "        max_w_l = len(t[j][0])\n",
    "        max_w = t[j][0]  \n",
    "  val = x[k.index(max(k))]\n",
    "  print (\"most frequently word is {0} and word which has max num of letters is {1}\".format(val,max_w))\n",
    "  \n",
    "fun(x) \n",
    "\n"
   ]
  },
  {
   "cell_type": "markdown",
   "metadata": {},
   "source": [
    "46. Write a Python program which reads the two adjoined sides and the diagonal of a parallelogram\n",
    "and check whether the parallelogram is a rectangle or a rhombus."
   ]
  },
  {
   "cell_type": "code",
   "execution_count": 9,
   "metadata": {},
   "outputs": [
    {
     "name": "stdout",
     "output_type": "stream",
     "text": [
      " enter ai\n",
      "3\n",
      " enter bi\n",
      "4\n",
      " enter ci\n",
      "5\n",
      "rectangle\n"
     ]
    }
   ],
   "source": [
    "print(\" enter ai\")\n",
    "ai=int(input())\n",
    "print(\" enter bi\")\n",
    "bi=int(input())\n",
    "print(\" enter ci\")\n",
    "ci=int(input())\n",
    "\n",
    "if pow(ci,2) == (pow(ai,2)+pow(bi,2)):\n",
    "  print(\"rectangle\")\n",
    "if bi == ai:\n",
    "  print(\"rhombus\")\n"
   ]
  },
  {
   "cell_type": "markdown",
   "metadata": {},
   "source": [
    "47. Write a Python program to replace a string ”Python” with ”Java” and ”Java” with ”Python”\n",
    "in a given string at the same time.\n",
    "Python is popular than Java\n",
    "Java is popular than Python\"\"\"\n",
    "\n"
   ]
  },
  {
   "cell_type": "code",
   "execution_count": 10,
   "metadata": {},
   "outputs": [
    {
     "name": "stdout",
     "output_type": "stream",
     "text": [
      "Java is popular than Python\n",
      "Python is popular than Java\n"
     ]
    }
   ],
   "source": [
    "x= \"Java is popular than Python\"\n",
    "print(x)\n",
    "x =x.split()\n",
    "\n",
    "for i in range(len(x)) :\n",
    "  if x[i] == 'Java':\n",
    "    x[i] = \"Python\"\n",
    "    continue\n",
    "  \n",
    "  if x[i] == 'Python':\n",
    "    x[i] = \"Java\"\n",
    "    continue\n",
    "print(' '.join(x)) \n"
   ]
  },
  {
   "cell_type": "markdown",
   "metadata": {},
   "source": [
    "52. Write a Python program to remove leading zeros from an IP address.\n",
    "Input:\n",
    "”255.024.01.01”\n",
    "”127.0.0.01 ”\n",
    "Output:\n",
    "255.24.1.1\n",
    "127.0.0.1\"\"\"\n"
   ]
  },
  {
   "cell_type": "code",
   "execution_count": 11,
   "metadata": {},
   "outputs": [
    {
     "name": "stdout",
     "output_type": "stream",
     "text": [
      "['127', '001', '010', '005']\n",
      "127.1.10.5.\n"
     ]
    }
   ],
   "source": [
    "def r_zeros(ip):\n",
    "  ip =ip.split('.')\n",
    "  print(ip)\n",
    "  k=''\n",
    "  for i in range(len(ip)):\n",
    "    k+= str(int(ip[i]))+'.'\n",
    "    \n",
    "  print(k) \n",
    "r_zeros(\"127.001.010.005\") \n",
    "\n"
   ]
  },
  {
   "cell_type": "markdown",
   "metadata": {},
   "source": [
    "51. Write a Python program to find the first appearance of the substring ’not’ and ’poor’ from a\n",
    "given string, if ’not’ follows the ’poor’, replace the whole ’not’...’poor’ substring with ’good’.\n",
    "Return the resulting string.\n",
    "Sample String : ’The lyrics is not that poor!’\n",
    "Expected Result : ’The lyrics is good!’\"\"\"\n"
   ]
  },
  {
   "cell_type": "code",
   "execution_count": 15,
   "metadata": {},
   "outputs": [
    {
     "name": "stdout",
     "output_type": "stream",
     "text": [
      "The lyrics is good!KJIJM JKNK \n"
     ]
    }
   ],
   "source": [
    "\n",
    "x='The lyrics is not that poor!KJIJM JKNK '\n",
    "ind_not=x.find('not')\n",
    "ind_poor  = x.find('poor')\n",
    "if (ind_not>0 and ind_poor >0):\n",
    "    if(ind_poor > ind_not):\n",
    "\n",
    "      print(x[0:ind_not]+'good'+x[ind_poor+4:])\n",
    "else:\n",
    "  print(x)"
   ]
  },
  {
   "cell_type": "code",
   "execution_count": null,
   "metadata": {},
   "outputs": [],
   "source": []
  }
 ],
 "metadata": {
  "kernelspec": {
   "display_name": "Python 3",
   "language": "python",
   "name": "python3"
  },
  "language_info": {
   "codemirror_mode": {
    "name": "ipython",
    "version": 3
   },
   "file_extension": ".py",
   "mimetype": "text/x-python",
   "name": "python",
   "nbconvert_exporter": "python",
   "pygments_lexer": "ipython3",
   "version": "3.7.4"
  }
 },
 "nbformat": 4,
 "nbformat_minor": 2
}
