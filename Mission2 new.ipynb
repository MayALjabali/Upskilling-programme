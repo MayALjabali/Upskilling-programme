{
 "cells": [
  {
   "cell_type": "markdown",
   "metadata": {},
   "source": [
    "31. Given a string, return the sum and average of the digits that appear in the string, ignoring all\n",
    "other characters."
   ]
  },
  {
   "cell_type": "code",
   "execution_count": 2,
   "metadata": {},
   "outputs": [
    {
     "name": "stdout",
     "output_type": "stream",
     "text": [
      "sum is 9 and avg is 3.0\n"
     ]
    }
   ],
   "source": [
    "x= \"7 and 11 are primes \"\n",
    "summ=0\n",
    "count=0\n",
    "for i in x:\n",
    "  if ord(i) in range(48,58):\n",
    "    count+=1\n",
    "    summ+=int(i)\n",
    "print('sum is {0} and avg is {1}'.format(summ,summ/count))"
   ]
  },
  {
   "cell_type": "markdown",
   "metadata": {},
   "source": [
    "32. Find all occurrences of “USA” in given string ignoring the case.\n"
   ]
  },
  {
   "cell_type": "code",
   "execution_count": 3,
   "metadata": {},
   "outputs": [
    {
     "name": "stdout",
     "output_type": "stream",
     "text": [
      "5\n"
     ]
    }
   ],
   "source": [
    "x = ' usa Usa USA is usa USa'\n",
    "\n",
    "c= x.upper().count('USA')\n",
    "print(c)\n"
   ]
  },
  {
   "cell_type": "markdown",
   "metadata": {},
   "source": [
    "35. Accept string from the user and display only those characters which are present at an even\n",
    "index"
   ]
  },
  {
   "cell_type": "code",
   "execution_count": 7,
   "metadata": {},
   "outputs": [
    {
     "ename": "IndentationError",
     "evalue": "expected an indented block (<ipython-input-7-101d8de6a75d>, line 5)",
     "output_type": "error",
     "traceback": [
      "\u001b[1;36m  File \u001b[1;32m\"<ipython-input-7-101d8de6a75d>\"\u001b[1;36m, line \u001b[1;32m5\u001b[0m\n\u001b[1;33m    print(x[i])\u001b[0m\n\u001b[1;37m        ^\u001b[0m\n\u001b[1;31mIndentationError\u001b[0m\u001b[1;31m:\u001b[0m expected an indented block\n"
     ]
    }
   ],
   "source": [
    "x = input()\n",
    "\n",
    "for i in range(len(x)):\n",
    "    if i % 2 ==0:\n",
    "    print(x[i]) \n",
    "\n",
    "\n",
    "Remove duplicate from a string and print the results.'\n",
    "x = 'the hhh the ooo hhh oo the'\n",
    "\n",
    "x= x.split()\n",
    "for i in x:\n",
    "    if x.count(i)>1:\n",
    "    x.remove(i)\n",
    "print(' '.join(x))"
   ]
  },
  {
   "cell_type": "markdown",
   "metadata": {},
   "source": [
    "36. Remove duplicate from a string and print the results."
   ]
  },
  {
   "cell_type": "code",
   "execution_count": 8,
   "metadata": {},
   "outputs": [
    {
     "name": "stdout",
     "output_type": "stream",
     "text": [
      "ooo hhh oo the\n"
     ]
    }
   ],
   "source": [
    "x = 'the hhh the ooo hhh oo the'\n",
    "\n",
    "x= x.split()\n",
    "for i in x:\n",
    "  if x.count(i)>1:\n",
    "    x.remove(i)\n",
    "print(' '.join(x))"
   ]
  },
  {
   "cell_type": "markdown",
   "metadata": {},
   "source": [
    "38. Find all unique character, numbers, ...etc. in a string and print them.\n"
   ]
  },
  {
   "cell_type": "code",
   "execution_count": 9,
   "metadata": {},
   "outputs": [
    {
     "name": "stdout",
     "output_type": "stream",
     "text": [
      "t\n",
      "h\n",
      "d\n",
      "z\n",
      "x\n",
      "c\n",
      "f\n",
      "g\n",
      "r\n",
      "7\n",
      "o\n"
     ]
    }
   ],
   "source": [
    "x ='the sdzx ce ssfg er7 o '\n",
    "\n",
    "x=[i for i in x]\n",
    "\n",
    "for i in x:\n",
    "  if x.count(i) == 1:\n",
    "    print(i)"
   ]
  },
  {
   "cell_type": "markdown",
   "metadata": {},
   "source": [
    "39. Write a Python program to accept a filename from the user as a string and print the extension\n",
    "of that file.\n",
    "Sample filename : abc.java\n",
    "Output : java"
   ]
  },
  {
   "cell_type": "code",
   "execution_count": null,
   "metadata": {},
   "outputs": [],
   "source": [
    "n = input()\n",
    "\n",
    "n= n.split('.')\n",
    "print(n[-1])"
   ]
  },
  {
   "cell_type": "markdown",
   "metadata": {},
   "source": [
    "40. Write a Python program to get a new string from a given string where ”Is” has been added to\n",
    "the front. If the given string already begins with ”Is” then return the string unchanged.\n"
   ]
  },
  {
   "cell_type": "code",
   "execution_count": null,
   "metadata": {},
   "outputs": [],
   "source": [
    "x = \"Is hgv kuyg jyfg\"\n",
    "\n",
    "x= x.split()\n",
    "\n",
    "if(x[0]=='Is'):\n",
    "  print(' '.join(x))\n",
    "else:\n",
    "  print('Is '+' '.join(x))"
   ]
  },
  {
   "cell_type": "markdown",
   "metadata": {},
   "source": [
    "41. Write a Python program to get a string which is n (non-negative integer) copies of a given\n",
    "string\n",
    "  "
   ]
  },
  {
   "cell_type": "code",
   "execution_count": null,
   "metadata": {},
   "outputs": [],
   "source": [
    "def copy(s,n):\n",
    "  return s*n\n",
    "\n",
    "print(copy('hello world ',5))  \n",
    "\n",
    "\n"
   ]
  },
  {
   "cell_type": "markdown",
   "metadata": {},
   "source": [
    "42. Write a Python program to get the n (non-negative integer) copies of the first 2 characters of\n",
    "a given string. Return the n copies of the whole string if the length is less than 2.\n",
    "\n"
   ]
  },
  {
   "cell_type": "code",
   "execution_count": null,
   "metadata": {},
   "outputs": [],
   "source": [
    "def copy(s,n):\n",
    "  if len(s)>=2:\n",
    "    return s[0:2]*n\n",
    "  else:\n",
    "    return s*n\n",
    "\n",
    "\n",
    "print(copy('hello world ',5)"
   ]
  },
  {
   "cell_type": "markdown",
   "metadata": {},
   "source": [
    "43. Write a Python program to print out the set of all the characters from St1 which are not present\n",
    "in St2"
   ]
  },
  {
   "cell_type": "code",
   "execution_count": null,
   "metadata": {},
   "outputs": [],
   "source": [
    "x=\"hello\"\n",
    "y='world'\n",
    "\n",
    "x=set(x)\n",
    "y=set(y)\n",
    "\n",
    "print(x.difference(y))\n",
    "\n"
   ]
  },
  {
   "cell_type": "markdown",
   "metadata": {},
   "source": [
    "45. Write a Python program to sort three integers without using conditional statements, loops or\n",
    "strings.\n"
   ]
  },
  {
   "cell_type": "code",
   "execution_count": 1,
   "metadata": {},
   "outputs": [],
   "source": [
    "x = [5,7,0]\n",
    "y=[0,0,0]\n",
    "a=max(x)\n",
    "b=min(x)\n",
    "\n",
    "y[0]=b\n",
    "y[1]= sum(x) -a+b\n",
    "y[2]=a\n"
   ]
  },
  {
   "cell_type": "code",
   "execution_count": null,
   "metadata": {},
   "outputs": [],
   "source": [
    "46. Write a Python program to get the summation of the ASCII values of aaa characters in a string.\n"
   ]
  },
  {
   "cell_type": "code",
   "execution_count": 3,
   "metadata": {},
   "outputs": [
    {
     "name": "stdout",
     "output_type": "stream",
     "text": [
      "kk\n",
      "0\n",
      "[0, 5, 7]\n"
     ]
    }
   ],
   "source": [
    "def summ(n):\n",
    "  sum =0\n",
    "  for i in n:\n",
    "    if ord(i) == 97:\n",
    "      sum+=ord(i)\n",
    "      \n",
    "  return sum \n",
    "\n",
    "print(summ(input()))\n",
    "\n",
    "print(y)\n",
    "\n"
   ]
  },
  {
   "cell_type": "code",
   "execution_count": 4,
   "metadata": {},
   "outputs": [],
   "source": [
    "#47. Write a Python program to convert a byte string to a list of integers."
   ]
  },
  {
   "cell_type": "code",
   "execution_count": 5,
   "metadata": {},
   "outputs": [
    {
     "name": "stdout",
     "output_type": "stream",
     "text": [
      "[65, 66, 67, 32, 104, 118, 32]\n",
      "\n"
     ]
    }
   ],
   "source": [
    "x=b'ABC hv '\n",
    "x=[i for i in x]\n",
    "print(x)\n",
    "print()\n"
   ]
  },
  {
   "cell_type": "markdown",
   "metadata": {},
   "source": [
    "48. Write a Python program to get the identity of an object.\n",
    "print(id(\"hello\"))\n",
    "\n"
   ]
  },
  {
   "cell_type": "code",
   "execution_count": null,
   "metadata": {},
   "outputs": [],
   "source": []
  },
  {
   "cell_type": "markdown",
   "metadata": {},
   "source": [
    "50. Write a Python program to find the ASCII string of a given number.\n"
   ]
  },
  {
   "cell_type": "code",
   "execution_count": 6,
   "metadata": {},
   "outputs": [
    {
     "name": "stdout",
     "output_type": "stream",
     "text": [
      "9\n"
     ]
    }
   ],
   "source": [
    "def asci(n):\n",
    "  return chr(n)\n",
    "\n",
    "print(asci(57))"
   ]
  },
  {
   "cell_type": "markdown",
   "metadata": {},
   "source": [
    "51. Write a Python program to prove that two string variables of same value point same memory\n",
    "location."
   ]
  },
  {
   "cell_type": "code",
   "execution_count": 8,
   "metadata": {},
   "outputs": [
    {
     "name": "stdout",
     "output_type": "stream",
     "text": [
      "1443634645488   1443634645488 True\n"
     ]
    }
   ],
   "source": [
    "s1 = \"hello\"\n",
    "s2='hello'\n",
    "print(str(id(s1))+'   '+str(id(s2)), id(s1) == id(s2))\n"
   ]
  },
  {
   "cell_type": "markdown",
   "metadata": {},
   "source": [
    "52. Write a Python function that takes a positive integer and returns the sum of the cube of all\n",
    "the positive integers smaller than the specified number.\n"
   ]
  },
  {
   "cell_type": "code",
   "execution_count": 9,
   "metadata": {},
   "outputs": [
    {
     "name": "stdout",
     "output_type": "stream",
     "text": [
      "36\n"
     ]
    }
   ],
   "source": [
    "def fun(n):\n",
    "  return sum([i*i*i for i in  range(0,n)])\n",
    "\n",
    "print(fun(4))"
   ]
  },
  {
   "cell_type": "markdown",
   "metadata": {},
   "source": [
    "#55. Write a Python program to find the median among n given numbers."
   ]
  },
  {
   "cell_type": "code",
   "execution_count": 10,
   "metadata": {},
   "outputs": [
    {
     "name": "stdout",
     "output_type": "stream",
     "text": [
      "6\n"
     ]
    }
   ],
   "source": [
    "n = [5,6,7,20,0,3]\n",
    "n.sort()\n",
    "print(n[len(n)//2])\n"
   ]
  },
  {
   "cell_type": "markdown",
   "metadata": {},
   "source": [
    "56. Write a Python program to find all the divisors of a given number.\n"
   ]
  },
  {
   "cell_type": "code",
   "execution_count": 11,
   "metadata": {},
   "outputs": [
    {
     "name": "stdout",
     "output_type": "stream",
     "text": [
      "[1, 3, 9, 11, 33, 99]\n"
     ]
    }
   ],
   "source": [
    "def div(n):\n",
    "  li=range(1,n+1)\n",
    "  return list(filter(lambda x:(n%x==0),li))\n",
    "\n",
    "print(div(99))"
   ]
  },
  {
   "cell_type": "markdown",
   "metadata": {},
   "source": [
    "57. Write a Python program to find the number of divisors of a given integer is even or odd.\n"
   ]
  },
  {
   "cell_type": "code",
   "execution_count": 12,
   "metadata": {},
   "outputs": [
    {
     "name": "stdout",
     "output_type": "stream",
     "text": [
      "True\n"
     ]
    }
   ],
   "source": [
    "def div(n):\n",
    "  li=range(1,n+1)\n",
    "  return len(list(filter(lambda x:(n%x==0),li))) % 2 ==0\n",
    "\n",
    "print(div(99))\n"
   ]
  },
  {
   "cell_type": "markdown",
   "metadata": {},
   "source": [
    "58. Write a Python program to create a sequence where the first four members of the sequence are\n",
    "equal to one, and each successive term of the sequence is equal to the sum of the four previous\n",
    "ones. Find the Nth member of the sequence"
   ]
  },
  {
   "cell_type": "code",
   "execution_count": 13,
   "metadata": {},
   "outputs": [
    {
     "name": "stdout",
     "output_type": "stream",
     "text": [
      "[1, 1, 1, 1, 4, 7, 13, 25]\n"
     ]
    }
   ],
   "source": [
    "def fun(n):\n",
    "  k=[1,1,1,1]\n",
    "  if n <= 4:\n",
    "    return k\n",
    "  else:\n",
    "    for i in range(4,n):\n",
    "      k.append(sum(k[i-4:i+1]))\n",
    "    return k\n",
    "print(fun(8))\n"
   ]
  },
  {
   "cell_type": "markdown",
   "metadata": {},
   "source": [
    "59. Write a Python program that accept a positive number and subtract from this number the sum\n",
    "of its digits and so on. Continues this operation until the number is positive\n"
   ]
  },
  {
   "cell_type": "code",
   "execution_count": 14,
   "metadata": {},
   "outputs": [
    {
     "name": "stdout",
     "output_type": "stream",
     "text": [
      "3\n"
     ]
    }
   ],
   "source": [
    "def summ(n):\n",
    "  sum=0\n",
    "  while n!=0:\n",
    "    a = n %10\n",
    "    sum+=a\n",
    "    n = (n -a)//10\n",
    "  return  sum \n",
    "\n",
    "def fun(n):\n",
    "  x = n\n",
    "  while x>0:\n",
    "    x = x-summ(n)\n",
    "    if x-summ(n)<0:\n",
    "      break\n",
    "    \n",
    "  return x\n",
    "\n",
    "\n",
    "print(fun(15))\n"
   ]
  },
  {
   "cell_type": "markdown",
   "metadata": {},
   "source": [
    "61. Write a Python program to check whether three given lengths (integers) of three sides form a\n",
    "right triangle. Print ”Yes” if the given sides form a right triangle otherwise print ”No”.\n",
    "Input: Integers separated by a single space."
   ]
  },
  {
   "cell_type": "code",
   "execution_count": 15,
   "metadata": {},
   "outputs": [
    {
     "ename": "SyntaxError",
     "evalue": "invalid syntax (<ipython-input-15-500e8a3813d7>, line 1)",
     "output_type": "error",
     "traceback": [
      "\u001b[1;36m  File \u001b[1;32m\"<ipython-input-15-500e8a3813d7>\"\u001b[1;36m, line \u001b[1;32m1\u001b[0m\n\u001b[1;33m    1 = length of the side = 1,000\u001b[0m\n\u001b[1;37m                ^\u001b[0m\n\u001b[1;31mSyntaxError\u001b[0m\u001b[1;31m:\u001b[0m invalid syntax\n"
     ]
    }
   ],
   "source": [
    "1 = length of the side = 1,000\n",
    "Input three integers(sides of a triangle)\n",
    "8 6 7\n",
    "No\n",
    "\n",
    "\n",
    "x,y,z = input().split(' ')\n",
    "x = int(x)\n",
    "y= int(y)\n",
    "z=int(z)\n",
    "print(x,y,z)\n",
    "\n",
    "minn = min(x,y,z)\n",
    "maxx = max(x,y,z)\n",
    "\n",
    "mid=x+y+z-minn-maxx\n",
    "\n",
    "if minn**2+mid**2 == maxx**2:\n",
    "  print('yes')\n",
    "  \n",
    "  \n",
    "  \n",
    "  \n",
    "else:\n",
    "  print('no')"
   ]
  },
  {
   "cell_type": "markdown",
   "metadata": {},
   "source": [
    "Write a python program to find heights of the top three building in descending order from eight\n",
    "given buildings.\n",
    "Input: 0 = height of building (integer) = 10,000\n",
    "Input the heights of eight buildings:\n",
    "25 35 15 16 30 45 37 39\n",
    "Heights of the top three buildings:\n",
    "45 39 37"
   ]
  },
  {
   "cell_type": "code",
   "execution_count": 1,
   "metadata": {},
   "outputs": [
    {
     "name": "stdout",
     "output_type": "stream",
     "text": [
      "[100, 98, 98]\n"
     ]
    }
   ],
   "source": [
    "l =[90,87,98,100,48,58,98,78]\n",
    "l.sort(reverse=True)\n",
    "print(l[0:3])\n"
   ]
  },
  {
   "cell_type": "code",
   "execution_count": null,
   "metadata": {},
   "outputs": [],
   "source": []
  }
 ],
 "metadata": {
  "kernelspec": {
   "display_name": "Python 3",
   "language": "python",
   "name": "python3"
  },
  "language_info": {
   "codemirror_mode": {
    "name": "ipython",
    "version": 3
   },
   "file_extension": ".py",
   "mimetype": "text/x-python",
   "name": "python",
   "nbconvert_exporter": "python",
   "pygments_lexer": "ipython3",
   "version": "3.7.4"
  }
 },
 "nbformat": 4,
 "nbformat_minor": 2
}
