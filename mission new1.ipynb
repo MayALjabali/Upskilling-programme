{
 "cells": [
  {
   "cell_type": "markdown",
   "metadata": {},
   "source": [
    "1. Write a Python program to parse a string to Float or Integer. and print the type of them"
   ]
  },
  {
   "cell_type": "code",
   "execution_count": 22,
   "metadata": {},
   "outputs": [
    {
     "name": "stdout",
     "output_type": "stream",
     "text": [
      "5\n",
      "<class 'int'>\n",
      "5.22\n",
      "<class 'float'>\n"
     ]
    },
    {
     "data": {
      "text/plain": [
       "'\\n\\nn = \"12.25\"\\nx=float(n)\\ny=int(float(n))\\nprint(n,end=\" \")\\nprint(type(n))\\nprint(x,end=\" \")\\nprint(type(x))\\nprint(y,end=\" \")\\nprint(type(y))\\n\\n\\n\\n'"
      ]
     },
     "execution_count": 22,
     "metadata": {},
     "output_type": "execute_result"
    }
   ],
   "source": [
    "\n",
    "print(int(5))\n",
    "print(type(int('5')))\n",
    "print(float('5.22'))\n",
    "print(type(6.55)) ### these was explen in slid 27 \n",
    "\n",
    "\n",
    "\n",
    "'''\n",
    "\n",
    "n = \"12.25\"\n",
    "x=float(n)\n",
    "y=int(float(n))\n",
    "print(n,end=\" \")\n",
    "print(type(n))\n",
    "print(x,end=\" \")\n",
    "print(type(x))\n",
    "print(y,end=\" \")\n",
    "print(type(y))\n",
    "\n",
    "\n",
    "\n",
    "'''"
   ]
  },
  {
   "cell_type": "markdown",
   "metadata": {},
   "source": [
    "2. Write a Python program to print two values without newline or space"
   ]
  },
  {
   "cell_type": "code",
   "execution_count": 23,
   "metadata": {},
   "outputs": [
    {
     "name": "stdout",
     "output_type": "stream",
     "text": [
      "7 18 "
     ]
    }
   ],
   "source": [
    "\n",
    "#print(str('5') + \"\" + str('6'))\n",
    "x=7\n",
    "y=18\n",
    "print(x, end=\" \")\n",
    "print(y, end=\" \")\n",
    "\n"
   ]
  },
  {
   "cell_type": "markdown",
   "metadata": {},
   "source": [
    "Write a program that takes an input from the user and checks if it’s divisible by 3 or not."
   ]
  },
  {
   "cell_type": "code",
   "execution_count": null,
   "metadata": {},
   "outputs": [],
   "source": [
    "#n = int(15)\n",
    "#if n%3 == 0:\n",
    "   # print(True)\n",
    "#else:\n",
    "   # print(False)''''''\n",
    "x=input(\" x : \")\n",
    "x=int(x)\n",
    "if x%3==0 :\n",
    " print(\"It is divisible by 3 \")\n",
    "else:\n",
    " print(\"It is not divisible by 3\")\n",
    "\n",
    "\n",
    "    "
   ]
  },
  {
   "cell_type": "markdown",
   "metadata": {},
   "source": [
    "Write a program that reads three integers (a, b, and c), computes the following formulas and\n",
    "stores the results in the variables x1, x2 and prints the results of the program"
   ]
  },
  {
   "cell_type": "code",
   "execution_count": 6,
   "metadata": {},
   "outputs": [
    {
     "name": "stdout",
     "output_type": "stream",
     "text": [
      "x1= -27.0\n",
      "x2= -2178.0\n"
     ]
    }
   ],
   "source": [
    "a = int((2))\n",
    "b = int((4))\n",
    "c = int((2))\n",
    "x1 = ((-b)+(c**4)/(2*a)) - ((3*(a+(b**2)))/c)\n",
    "x2 = ((a+(b**3))**2)/(c-(a**2))\n",
    "print(\"x1= \" + str(x1))\n",
    "print(\"x2= \" + str(x2))"
   ]
  },
  {
   "cell_type": "markdown",
   "metadata": {},
   "source": [
    "Write a program that reads two numbers a and b. Print the maximum value of the two numbers."
   ]
  },
  {
   "cell_type": "code",
   "execution_count": 7,
   "metadata": {},
   "outputs": [
    {
     "data": {
      "text/plain": [
       "75"
      ]
     },
     "execution_count": 7,
     "metadata": {},
     "output_type": "execute_result"
    }
   ],
   "source": [
    "max(75,52,63,9)"
   ]
  },
  {
   "cell_type": "markdown",
   "metadata": {},
   "source": [
    "6. Write a program that reads three input values. Output the maximum value of the three."
   ]
  },
  {
   "cell_type": "code",
   "execution_count": 1,
   "metadata": {},
   "outputs": [
    {
     "name": "stdout",
     "output_type": "stream",
     "text": [
      "Max = 3000\n"
     ]
    }
   ],
   "source": [
    "a = 1500\n",
    "b = 2000        #### int( input()) if i want to enter value from user \n",
    "c = 3000\n",
    "if a>b and a>c:\n",
    "    print(\"Max = \" + str(a))\n",
    "elif b>a and b>c:\n",
    "    print(\"Max = \" + str(b))\n",
    "else:\n",
    "    print(\"Max = \" + str(c))  ##### \n",
    "    "
   ]
  },
  {
   "cell_type": "markdown",
   "metadata": {},
   "source": [
    "Write a program that reads two values a and b. If b is 0, output ”b is 0”. Otherwise output"
   ]
  },
  {
   "cell_type": "code",
   "execution_count": 1,
   "metadata": {},
   "outputs": [
    {
     "name": "stdout",
     "output_type": "stream",
     "text": [
      "4\n",
      "0\n",
      "b is 0\n"
     ]
    }
   ],
   "source": [
    "\n",
    "    \n",
    "    a=input(\"a :\")\n",
    "b=input(\"b :\")\n",
    "a=int(a)\n",
    "b=int(b)\n",
    "if b==0:\n",
    " print(\" b is \",b)\n",
    "else:\n",
    "    print(\"a / b : \",a/b)\n"
   ]
  },
  {
   "cell_type": "markdown",
   "metadata": {},
   "source": [
    "Write a program to convert days into years, weeks and days."
   ]
  },
  {
   "cell_type": "code",
   "execution_count": null,
   "metadata": {},
   "outputs": [],
   "source": [
    "#n = int(input())\n",
    "#y = int(n/365)\n",
    "#m = int((n%365)/30)\n",
    "#d = int((n%365)%30)\n",
    "##print(str(y) + \" Year \" + str(m) + \" Month \" + str(d) + \" Days\") #####\n",
    "\n",
    "\n",
    "n = int(input())\n",
    "y = int(n/365)\n",
    "w = int((n%365)/7)\n",
    "d = int((n%365)%7)\n",
    "print(str(y) + \" Year \" + str(w) + \" Week \" + str(d) + \" Days\") \n",
    "\n",
    "\n"
   ]
  },
  {
   "cell_type": "markdown",
   "metadata": {},
   "source": [
    "Write a program to read temperature in Celsius and convert it into Fahrenheit."
   ]
  },
  {
   "cell_type": "code",
   "execution_count": 9,
   "metadata": {},
   "outputs": [
    {
     "name": "stdout",
     "output_type": "stream",
     "text": [
      "131.0\n"
     ]
    }
   ],
   "source": [
    "c = int((55))\n",
    "f = (c * 1.8) + 32 \n",
    "print(str(f)) #### no other solution just static equation \n"
   ]
  },
  {
   "cell_type": "markdown",
   "metadata": {},
   "source": [
    "Write a program that reads two oat number and stores their values in variable x and y. the\n",
    "program then computes the value (x2 −y2) = (x−y) , stores the result in stores the result in a\n",
    "float named z and print the value of z. if the computation division by zero, the program must\n",
    "avoid that by printing an error message and exiting before computing the formula."
   ]
  },
  {
   "cell_type": "code",
   "execution_count": 6,
   "metadata": {},
   "outputs": [
    {
     "name": "stdout",
     "output_type": "stream",
     "text": [
      "8\n",
      "9\n",
      "17.0\n"
     ]
    }
   ],
   "source": [
    "x = int(input())\n",
    "y = int(input())\n",
    "if x-y == 0:\n",
    "    print(\"Error\")\n",
    "else:\n",
    "    z = (x**2 - y**2)/(x-y) #### (x2 −y2) = (x−y) i just under stand it and compensation\n",
    "    print(z)"
   ]
  },
  {
   "cell_type": "markdown",
   "metadata": {},
   "source": [
    "As you know Python has no switch statements so, Write a complete Python application that\n",
    "asks the user to enter an integer Q-Range (”deviation IQ”) and output the IQ Classification\n",
    "according to the following table:\n",
    "Q Range (”deviation IQ”) -> IQ Classification\n",
    "130 and above -> Very Superior\n",
    "120 - 129 -> Superior\n",
    "110 - 119 -> High Average\n",
    "90 - 109 -> Average\n",
    "80 - 89 -> Low Average\n",
    "70 - 79 -> Borderline\n",
    "69 and below -> Extremely Low"
   ]
  },
  {
   "cell_type": "code",
   "execution_count": 9,
   "metadata": {},
   "outputs": [
    {
     "name": "stdout",
     "output_type": "stream",
     "text": [
      "140\n",
      "Very Superior\n"
     ]
    }
   ],
   "source": [
    "n = int(input())\n",
    "if n >= 130:\n",
    "    print(\"Very Superior\")\n",
    "elif n >= 120 and n <= 129:\n",
    "    print(\"Superior\")\n",
    "elif n >= 110 and n <= 119:\n",
    "    print(\"High Average\")\n",
    "elif n >= 90 and n <= 109:\n",
    "    print(\"Average\")\n",
    "elif n >= 80 and n <= 89:\n",
    "    print(\"Low Average\")\n",
    "elif n >= 70 and n <= 79:\n",
    "    print(\"Borderline\")\n",
    "else:\n",
    "    print(\"Extremely Low\") ###  compartive with if statment ,where is the copy"
   ]
  },
  {
   "cell_type": "markdown",
   "metadata": {},
   "source": [
    "12. Write a program that classifies a student marks as follows:\n",
    "[90 − 100] : A\n",
    "[80 − 90] : B\n",
    "[70 − 80] : C\n",
    "[60 − 70] : D\n",
    "[50 − 60] : E\n",
    "[0 − 50] : F"
   ]
  },
  {
   "cell_type": "code",
   "execution_count": 11,
   "metadata": {},
   "outputs": [
    {
     "name": "stdout",
     "output_type": "stream",
     "text": [
      "100\n",
      "A\n"
     ]
    }
   ],
   "source": [
    "n = int(input())\n",
    "if n >= 90 and n <= 100:\n",
    "    print(\"A\")\n",
    "elif n >= 80 and n < 90:\n",
    "    print(\"B\")\n",
    "elif n >= 70 and n < 80:\n",
    "    print(\"C\")\n",
    "elif n >= 60 and n < 70:\n",
    "    print(\"D\")\n",
    "elif n >= 50 and n < 60:\n",
    "    print(\"E\")\n",
    "else:\n",
    "    print(\"F\")"
   ]
  },
  {
   "cell_type": "code",
   "execution_count": null,
   "metadata": {},
   "outputs": [],
   "source": [
    "###14. Write a Python program to check whether an alphabet is vowel or consonant\n",
    "\n",
    "n = input()\n",
    "if n in ('a', 'e', 'i', 'o', 'u'):\n",
    "    print(True)\n",
    "else:\n",
    "    print(False) #### this is my own solve qustion where is the copy ?!!!!!!!!!!\n",
    "    \n",
    "    \n",
    "    \n",
    "    \n",
    "    \n"
   ]
  },
  {
   "cell_type": "markdown",
   "metadata": {},
   "source": [
    "13. Write a program that tests whether the formula a2 + b2 = c2 is true for three integers entered\n",
    "as input.\n"
   ]
  },
  {
   "cell_type": "code",
   "execution_count": null,
   "metadata": {},
   "outputs": [],
   "source": [
    "a = int(input())\n",
    "b = int(input())\n",
    "c = int(input())\n",
    "if a**2 + b**2 == c**2:  #### if i did not read from user just put statin value all result returen false\n",
    "    print(True)          ########a = 8\n",
    "b = int(input())\n",
    "c = int(input())\n",
    "else:\n",
    "    print(False)"
   ]
  },
  {
   "cell_type": "markdown",
   "metadata": {},
   "source": [
    "14. Write a Python program to check whether an alphabet is vowel or consonant."
   ]
  },
  {
   "cell_type": "code",
   "execution_count": 3,
   "metadata": {},
   "outputs": [
    {
     "name": "stdout",
     "output_type": "stream",
     "text": [
      "a\n",
      "vowel\n"
     ]
    }
   ],
   "source": [
    "n = input()\n",
    "if n in ('a', 'e', 'i', 'o', 'u'):\n",
    "    print('vowel')\n",
    "else:\n",
    "    print('consonat')\n"
   ]
  },
  {
   "cell_type": "markdown",
   "metadata": {},
   "source": [
    "Write a Python program to check whether a number is even or odd."
   ]
  },
  {
   "cell_type": "code",
   "execution_count": 4,
   "metadata": {},
   "outputs": [
    {
     "name": "stdout",
     "output_type": "stream",
     "text": [
      "8\n",
      "Even\n"
     ]
    }
   ],
   "source": [
    "n = int(input())\n",
    "if n%2==0:\n",
    "    print(\"Even\")\n",
    "else:\n",
    "    print(\"Odd\")   \n",
    "    \n",
    "   ##### this fact any number%2=0 is even other is odd how i can solve these fact by what if there other simple sloution please show me that\n",
    "    \n",
    "   \n"
   ]
  },
  {
   "cell_type": "markdown",
   "metadata": {},
   "source": [
    "16. Write a Python program to display the current date and time. Sample Output :\n",
    "Current date and time : 2019-07-05 21:25:48"
   ]
  },
  {
   "cell_type": "code",
   "execution_count": null,
   "metadata": {},
   "outputs": [],
   "source": [
    "\n",
    " # Write a Python program to calculate number of days between two dates; Sample dates : (2014, 7, 2), (2014, 7, 11) Expected output : 9 day\n",
    "     from datetime import date\n",
    "date1 = date(2019, 6, 8)\n",
    "date2 = date(2019, 7, 5)\n",
    "diffrence = abs(date1 - date2)\n",
    "print(\"The difference between the two given dates is : \",diffrence.days,end=\" \")\n",
    "print(\"days\")\n",
    "\n",
    "    \n",
    "    "
   ]
  },
  {
   "cell_type": "markdown",
   "metadata": {},
   "source": [
    "17. Write a Python program which accepts the radius of a circle from the user and compute the\n",
    "area; Sample Output :\n",
    "r = 1.1\n",
    "Area = 3.8013271108436504"
   ]
  },
  {
   "cell_type": "code",
   "execution_count": 7,
   "metadata": {},
   "outputs": [
    {
     "name": "stdout",
     "output_type": "stream",
     "text": [
      "r= 5\n",
      "Area= 78.5\n"
     ]
    }
   ],
   "source": [
    "17\n",
    "\n",
    "r = float(input(\"r= \"))\n",
    "print(\"Area= \" + str(3.14*r**2)) #just under stand it and compensation"
   ]
  },
  {
   "cell_type": "markdown",
   "metadata": {},
   "source": [
    "18. Write a Python program which accepts the user’s first and last name and print them in reverse\n",
    "order."
   ]
  },
  {
   "cell_type": "code",
   "execution_count": 4,
   "metadata": {},
   "outputs": [
    {
     "name": "stdout",
     "output_type": "stream",
     "text": [
      "['you fisr name', 'your last name', 'May fawaz']\n"
     ]
    }
   ],
   "source": [
    "x=['you fisr name','your last name']\n",
    "y=x\n",
    "y.append('May fawaz')\n",
    "print(y)"
   ]
  },
  {
   "cell_type": "markdown",
   "metadata": {},
   "source": [
    "19. Write a Python program to read a three numbers from the user and display them as follow.\n",
    "Sample Input = (11, 12, 2019) Sample Output : The examination will start from : 11 / 12 /\n",
    "2019"
   ]
  },
  {
   "cell_type": "code",
   "execution_count": 11,
   "metadata": {},
   "outputs": [
    {
     "name": "stdout",
     "output_type": "stream",
     "text": [
      "11,12,2019\n",
      "11/12/2019\n"
     ]
    }
   ],
   "source": [
    "19\n",
    "\n",
    "n = input()\n",
    "n = n.strip(',')\n",
    "n = n.strip(',')\n",
    "n = n.split(',')\n",
    "print(str(n[0])+'/'+str(n[1])+'/'+str(n[2]))\n"
   ]
  },
  {
   "cell_type": "markdown",
   "metadata": {},
   "source": [
    "20. Write a Python program that accepts an integer (n) and computes the value of n + nn + nnn.\n",
    "Sample value of n is 5\n",
    "Expected Result : 615"
   ]
  },
  {
   "cell_type": "code",
   "execution_count": 13,
   "metadata": {},
   "outputs": [
    {
     "name": "stdout",
     "output_type": "stream",
     "text": [
      "34\n",
      "40494\n"
     ]
    }
   ],
   "source": [
    "n = int(input())\n",
    "print(n+n**2+n**3) \n"
   ]
  },
  {
   "cell_type": "markdown",
   "metadata": {},
   "source": [
    "21. Write a Python program to print the documentation of a Python built-in function(s)."
   ]
  },
  {
   "cell_type": "code",
   "execution_count": 13,
   "metadata": {},
   "outputs": [
    {
     "name": "stdout",
     "output_type": "stream",
     "text": [
      "Return the absolute value of the argument.\n"
     ]
    }
   ],
   "source": [
    "print(abs.__doc__) ### static "
   ]
  },
  {
   "cell_type": "markdown",
   "metadata": {},
   "source": [
    "22. Write a Python program to print the following here document. Go to the editor; Sample string\n",
    ":\n",
    "”a string that you ”don’t” have to escape\n",
    "This\n",
    "is a ....... multi-line\n",
    "heredoc string ——–> example"
   ]
  },
  {
   "cell_type": "code",
   "execution_count": 14,
   "metadata": {},
   "outputs": [
    {
     "name": "stdout",
     "output_type": "stream",
     "text": [
      "\n",
      "a string that you \"don't\" have to escape\n",
      "This\n",
      "is a  ....... multi-line\n",
      "heredoc string --------> example\n",
      "\n"
     ]
    }
   ],
   "source": [
    "print(\"\"\"\n",
    "a string that you \"don't\" have to escape\n",
    "This\n",
    "is a  ....... multi-line\n",
    "heredoc string --------> example\n",
    "\"\"\")       #### in slide"
   ]
  },
  {
   "cell_type": "markdown",
   "metadata": {},
   "source": [
    "23. Write a Python program to calculate number of days between two dates; Sample dates : (2014,\n",
    "7, 2), (2014, 7, 11)\n",
    "Expected output : 9 days"
   ]
  },
  {
   "cell_type": "markdown",
   "metadata": {},
   "source": [
    "data Library standard solution like calculact age "
   ]
  },
  {
   "cell_type": "markdown",
   "metadata": {},
   "source": [
    "###### 24. Write a Python program to get the volume of a sphere with a given radius."
   ]
  },
  {
   "cell_type": "code",
   "execution_count": 15,
   "metadata": {},
   "outputs": [
    {
     "name": "stdout",
     "output_type": "stream",
     "text": [
      "1436.0266666666666\n"
     ]
    }
   ],
   "source": [
    " ##V = 4/3 × π × r3 = π × d3/6.\n",
    "r=6\n",
    "v= 4/3 * 3.14*7**3\n",
    "print(v)\n",
    "\n"
   ]
  },
  {
   "cell_type": "markdown",
   "metadata": {},
   "source": [
    "25. Write a Python program to get the difference between a given number and 17, if the number\n",
    "is greater than 17 return double the absolute difference"
   ]
  },
  {
   "cell_type": "code",
   "execution_count": 17,
   "metadata": {},
   "outputs": [
    {
     "name": "stdout",
     "output_type": "stream",
     "text": [
      "18\n",
      "18\n"
     ]
    }
   ],
   "source": [
    "n = int(input())\n",
    "if n <= 17:\n",
    "    print(n)\n",
    "else:\n",
    "    print(abs(n))\n"
   ]
  },
  {
   "cell_type": "markdown",
   "metadata": {},
   "source": [
    "26. Write a Python program to test whether a number is within (less than) 100 or 1000 or 2000\n",
    "and print the value divided by 5 and multiplied by 25."
   ]
  },
  {
   "cell_type": "code",
   "execution_count": 23,
   "metadata": {},
   "outputs": [
    {
     "name": "stdout",
     "output_type": "stream",
     "text": [
      "150\n",
      "750.0\n"
     ]
    }
   ],
   "source": [
    "n = int(input())\n",
    "if n<=100 or n<=1000 or n<=2000: ### logic to use OR from qustion\n",
    "     print((n/5) *25)\n"
   ]
  },
  {
   "cell_type": "markdown",
   "metadata": {},
   "source": [
    "27. Write a Python program to calculate the sum of three given numbers, if the values are equal\n",
    "then return three times of their sum"
   ]
  },
  {
   "cell_type": "code",
   "execution_count": 18,
   "metadata": {},
   "outputs": [
    {
     "name": "stdout",
     "output_type": "stream",
     "text": [
      "43\n"
     ]
    }
   ],
   "source": [
    "n1 = 16\n",
    "n2 = 15\n",
    "n3 = 12\n",
    "print(str(n1+n2+n3))"
   ]
  },
  {
   "cell_type": "markdown",
   "metadata": {},
   "source": [
    "28. Write a Python program to swap the values of two given numbers"
   ]
  },
  {
   "cell_type": "code",
   "execution_count": 25,
   "metadata": {},
   "outputs": [
    {
     "name": "stdout",
     "output_type": "stream",
     "text": [
      "2\n",
      "3\n",
      "n1= 3\n",
      "n2= 2\n"
     ]
    }
   ],
   "source": [
    "n1 = int(input())\n",
    "n2 = int(input())\n",
    "n3 = n1\n",
    "n1 = n2\n",
    "n2 = n3\n",
    "print(\"n1= \" + str(n1))\n",
    "print(\"n2= \" + str(n2))"
   ]
  },
  {
   "cell_type": "markdown",
   "metadata": {},
   "source": [
    "29. Write a Python program to check whether a specified value is contained in a group of values\n",
    "or if a character is given in a string; Test Data :\n",
    "3 -> [1, 5, 8, 3] : True\n",
    "-1 -> [1, 5, 8, 3] : False"
   ]
  },
  {
   "cell_type": "code",
   "execution_count": 26,
   "metadata": {},
   "outputs": [
    {
     "name": "stdout",
     "output_type": "stream",
     "text": [
      "True\n",
      "False\n"
     ]
    }
   ],
   "source": [
    "a = [1,5,8,3]\n",
    "print(3 in a)\n",
    "print(-1 in a)\n"
   ]
  },
  {
   "cell_type": "markdown",
   "metadata": {},
   "source": [
    "30. Write a Python program that will accept the base and height of a triangle and compute the\n",
    "area.\n"
   ]
  },
  {
   "cell_type": "code",
   "execution_count": 19,
   "metadata": {},
   "outputs": [
    {
     "name": "stdout",
     "output_type": "stream",
     "text": [
      "area =  96.0\n"
     ]
    }
   ],
   "source": [
    "b=12\n",
    "h=16\n",
    "\n",
    "area = b*h/2\n",
    "\n",
    "print(\"area = \", area)"
   ]
  },
  {
   "cell_type": "markdown",
   "metadata": {},
   "source": []
  },
  {
   "cell_type": "code",
   "execution_count": null,
   "metadata": {},
   "outputs": [],
   "source": []
  },
  {
   "cell_type": "markdown",
   "metadata": {},
   "source": [
    "\n",
    "33. Write a Python program that will return true if the two given integer values are equal or their\n",
    "sum or difference is 5.\n",
    "\n",
    "n1 = int(input())\n",
    "n2 = int(input())\n",
    "\n",
    "if n1 == n2 or n1-n2 == 5 or n2-n1 == 5:\n",
    "    print(True)\n",
    "\n"
   ]
  },
  {
   "cell_type": "code",
   "execution_count": 29,
   "metadata": {},
   "outputs": [
    {
     "name": "stdout",
     "output_type": "stream",
     "text": [
      "15\n",
      "12\n"
     ]
    }
   ],
   "source": [
    "n1 = int(input()\n",
    "n2 = int(input())\n",
    "\n",
    "if n1+n2 >= 15 and n1+n2<=20:\n",
    "    print(20)\n",
    "elif n1+n2 >= 30 and n1+n2<=40:\n",
    "    print(50)\n",
    "elif n1+n2 >= 150 and n1+n2<=167:\n",
    "    print(210)\n",
    "    \n",
    "    \n",
    "    ''' Write a Python program to sum of two given integers. However, if the sum is between\n",
    "15 to 20 it will return 20. 30 to 40 it will return 50. 150 to 167 it will return 210.'''\n"
   ]
  },
  {
   "cell_type": "markdown",
   "metadata": {},
   "source": [
    "34. Write a Python program to solve (x + y) ∗ (x + y), x and y are an inputs; Expected Output :\n",
    "((4 + 3)2) = 49\n"
   ]
  },
  {
   "cell_type": "code",
   "execution_count": 20,
   "metadata": {},
   "outputs": [
    {
     "name": "stdout",
     "output_type": "stream",
     "text": [
      "12722.79\n"
     ]
    }
   ],
   "source": [
    "amt = 10000\n",
    "int = 3.5\n",
    "years = 7\n",
    "\n",
    "future_value  = amt*((1+(0.01*int)) ** years)\n",
    "print(round(future_value,2))\n"
   ]
  },
  {
   "cell_type": "markdown",
   "metadata": {},
   "source": [
    "34. Write a Python program to solve (x + y) ∗ (x + y), x and y are an inputs; Expected Output :\n",
    "((4 + 3)2) = 49"
   ]
  },
  {
   "cell_type": "code",
   "execution_count": 22,
   "metadata": {},
   "outputs": [
    {
     "ename": "NameError",
     "evalue": "name 'x2' is not defined",
     "output_type": "error",
     "traceback": [
      "\u001b[1;31m---------------------------------------------------------------------------\u001b[0m",
      "\u001b[1;31mNameError\u001b[0m                                 Traceback (most recent call last)",
      "\u001b[1;32m<ipython-input-22-f9242b33b83d>\u001b[0m in \u001b[0;36m<module>\u001b[1;34m\u001b[0m\n\u001b[0;32m      1\u001b[0m \u001b[1;32mimport\u001b[0m \u001b[0mmath\u001b[0m\u001b[1;33m\u001b[0m\u001b[1;33m\u001b[0m\u001b[0m\n\u001b[1;32m----> 2\u001b[1;33m \u001b[0mout\u001b[0m \u001b[1;33m=\u001b[0m \u001b[0mmath\u001b[0m\u001b[1;33m.\u001b[0m\u001b[0msqrt\u001b[0m\u001b[1;33m(\u001b[0m\u001b[0mmath\u001b[0m\u001b[1;33m.\u001b[0m\u001b[0mpow\u001b[0m\u001b[1;33m(\u001b[0m\u001b[0mx2\u001b[0m \u001b[1;33m-\u001b[0m \u001b[0mx1\u001b[0m\u001b[1;33m,\u001b[0m \u001b[1;36m2\u001b[0m\u001b[1;33m)\u001b[0m \u001b[1;33m+\u001b[0m \u001b[0mmath\u001b[0m\u001b[1;33m.\u001b[0m\u001b[0mpow\u001b[0m\u001b[1;33m(\u001b[0m\u001b[0my2\u001b[0m \u001b[1;33m-\u001b[0m \u001b[0my1\u001b[0m\u001b[1;33m,\u001b[0m \u001b[1;36m2\u001b[0m\u001b[1;33m)\u001b[0m \u001b[1;33m*\u001b[0m \u001b[1;36m1.0\u001b[0m\u001b[1;33m)\u001b[0m  \u001b[1;31m###Sqr just imoprt form laibry\u001b[0m\u001b[1;33m\u001b[0m\u001b[1;33m\u001b[0m\u001b[0m\n\u001b[0m\u001b[0;32m      3\u001b[0m \u001b[0mprint\u001b[0m\u001b[1;33m(\u001b[0m\u001b[0mout\u001b[0m\u001b[1;33m)\u001b[0m\u001b[1;33m\u001b[0m\u001b[1;33m\u001b[0m\u001b[0m\n\u001b[0;32m      4\u001b[0m \u001b[1;31m###36. Write a Python program to compute the distance between the points (x1, y1) and (x2, y2).\u001b[0m\u001b[1;33m\u001b[0m\u001b[1;33m\u001b[0m\u001b[1;33m\u001b[0m\u001b[0m\n\u001b[0;32m      5\u001b[0m \u001b[1;31m###(the distance between two points calculated using Phythagoros theorem)\u001b[0m\u001b[1;33m\u001b[0m\u001b[1;33m\u001b[0m\u001b[1;33m\u001b[0m\u001b[0m\n",
      "\u001b[1;31mNameError\u001b[0m: name 'x2' is not defined"
     ]
    }
   ],
   "source": [
    "import math\n",
    "out = math.sqrt(math.pow(x2 - x1, 2) + math.pow(y2 - y1, 2) * 1.0) \n",
    "\n",
    "print(out)\n",
    "###36. Write a Python program to compute the distance between the points (x1, y1) and (x2, y2).\n",
    "###(the distance between two points calculated using Phythagoros theorem)###Sqr just imoprt form laibry"
   ]
  },
  {
   "cell_type": "code",
   "execution_count": 24,
   "metadata": {},
   "outputs": [
    {
     "name": "stdout",
     "output_type": "stream",
     "text": [
      "1878y898\n"
     ]
    },
    {
     "ename": "TypeError",
     "evalue": "'float' object is not callable",
     "output_type": "error",
     "traceback": [
      "\u001b[1;31m---------------------------------------------------------------------------\u001b[0m",
      "\u001b[1;31mTypeError\u001b[0m                                 Traceback (most recent call last)",
      "\u001b[1;32m<ipython-input-24-8f4a7e49c85f>\u001b[0m in \u001b[0;36m<module>\u001b[1;34m\u001b[0m\n\u001b[1;32m----> 1\u001b[1;33m \u001b[0mn\u001b[0m \u001b[1;33m=\u001b[0m \u001b[0mint\u001b[0m\u001b[1;33m(\u001b[0m\u001b[0minput\u001b[0m\u001b[1;33m(\u001b[0m \u001b[0mn\u001b[0m\u001b[1;33m)\u001b[0m\u001b[1;33m)\u001b[0m\u001b[1;33m\u001b[0m\u001b[1;33m\u001b[0m\u001b[0m\n\u001b[0m\u001b[0;32m      2\u001b[0m \u001b[0mm\u001b[0m \u001b[1;33m=\u001b[0m \u001b[0mint\u001b[0m\u001b[1;33m(\u001b[0m\u001b[0minput\u001b[0m\u001b[1;33m(\u001b[0m\u001b[0mm\u001b[0m\u001b[1;33m)\u001b[0m\u001b[1;33m)\u001b[0m\u001b[1;33m\u001b[0m\u001b[1;33m\u001b[0m\u001b[0m\n\u001b[0;32m      3\u001b[0m \u001b[1;33m\u001b[0m\u001b[0m\n\u001b[0;32m      4\u001b[0m \u001b[0mm\u001b[0m \u001b[1;33m+=\u001b[0m \u001b[0mn\u001b[0m \u001b[1;33m*\u001b[0m \u001b[1;36m12\u001b[0m\u001b[1;33m\u001b[0m\u001b[1;33m\u001b[0m\u001b[0m\n\u001b[0;32m      5\u001b[0m \u001b[0my\u001b[0m \u001b[1;33m=\u001b[0m \u001b[0mround\u001b[0m\u001b[1;33m(\u001b[0m\u001b[0mm\u001b[0m \u001b[1;33m*\u001b[0m \u001b[1;36m2.54\u001b[0m\u001b[1;33m,\u001b[0m \u001b[1;36m1\u001b[0m\u001b[1;33m)\u001b[0m\u001b[1;33m\u001b[0m\u001b[1;33m\u001b[0m\u001b[0m\n",
      "\u001b[1;31mTypeError\u001b[0m: 'float' object is not callable"
     ]
    }
   ],
   "source": [
    "n = int(input( n))\n",
    "m = int(input(m))\n",
    "\n",
    "m += n * 12\n",
    "y = round(m * 2.54, 1)\n",
    "print(y)"
   ]
  },
  {
   "cell_type": "code",
   "execution_count": null,
   "metadata": {},
   "outputs": [],
   "source": [
    "#q39\n",
    "from math import sqrt\n",
    "a = float(input(\"a: \"))\n",
    "b = float(input(\"b: \"))\n",
    "\n",
    "c = sqrt(a**2 + b**2)\n"
   ]
  },
  {
   "cell_type": "code",
   "execution_count": 14,
   "metadata": {},
   "outputs": [
    {
     "name": "stdout",
     "output_type": "stream",
     "text": [
      "45\n"
     ]
    }
   ],
   "source": [
    "#40. Write a Python program to convert the distance (in feet) to inches, yards, and miles.\n",
    "f = input(\"Insert the distance in feets : \")\n",
    "f=float(f)\n",
    "inc = f * 12\n",
    "y = f / 3.0\n",
    "m = f / 5280.0\n",
    "print(\"In inches =\",inc)\n",
    "print(\"In yards =\", y)\n",
    "print(\"In miles = \",m)\n"
   ]
  },
  {
   "cell_type": "code",
   "execution_count": null,
   "metadata": {},
   "outputs": [],
   "source": [
    "##41. Write a Python program to convert the distance (in Minuets) to days, months, and years.\n",
    "min = int(input())\n",
    "day = min/60\n",
    "month = day/30\n",
    "year = month/12\n"
   ]
  },
  {
   "cell_type": "markdown",
   "metadata": {},
   "source": [
    "###36. Write a Python program to compute the distance between the points (x1, y1) and (x2, y2)."
   ]
  },
  {
   "cell_type": "code",
   "execution_count": null,
   "metadata": {},
   "outputs": [],
   "source": [
    "####43. Write a Python program to calculate body mass index for a give height and Weight.\n",
    "h =input(\" Your height in meters : \")\n",
    "h=float(h)\n",
    "w = input(\"Your weight in kilograms : \")\n",
    "w=float(w)\n",
    "bmi=w / (h **2)\n",
    "bmi=round(bmi,2)\n",
    "print(\"BMI = \",bmi)\n"
   ]
  },
  {
   "cell_type": "code",
   "execution_count": null,
   "metadata": {},
   "outputs": [],
   "source": [
    "a = [2,1,3,5,4]\n",
    "a.sort()\n",
    "print(a)\n",
    "#Write a Python program to sort five given integers and print them"
   ]
  },
  {
   "cell_type": "code",
   "execution_count": null,
   "metadata": {},
   "outputs": [],
   "source": [
    "\n",
    "##45. Write a Python program to get the details (documentation) of the math module. it stander sloution if i solve it mebe you thank i was copy "
   ]
  },
  {
   "cell_type": "code",
   "execution_count": null,
   "metadata": {},
   "outputs": [],
   "source": [
    "###46. Write a Python program to get the ASCII code of a given character\n",
    "n = input()\n",
    "print(ord(n))\n",
    "##from slid"
   ]
  },
  {
   "cell_type": "code",
   "execution_count": 1,
   "metadata": {},
   "outputs": [
    {
     "name": "stdout",
     "output_type": "stream",
     "text": [
      "8635\n"
     ]
    }
   ],
   "source": [
    "##49. Write a Python program to concatenate 4 given strings.\n",
    "m = '8'\n",
    "n = '6'\n",
    "k = '3'\n",
    "l ='5'\n",
    "print(m+n+k+l)\n"
   ]
  },
  {
   "cell_type": "code",
   "execution_count": 2,
   "metadata": {},
   "outputs": [
    {
     "name": "stdout",
     "output_type": "stream",
     "text": [
      "6687\n",
      "True\n"
     ]
    }
   ],
   "source": [
    "##50. Write a Python program to check if a string is numeric (all it’s values are numeric).\n",
    "n = input()\n",
    "print(n.isnumeric())\n"
   ]
  },
  {
   "cell_type": "code",
   "execution_count": 4,
   "metadata": {},
   "outputs": [],
   "source": [
    "###51. Write a Python program to clear the screen or terminal\n",
    "##import os\n",
    "##import os\n",
    "###os.system('clear')\n",
    "\n",
    "##it is static "
   ]
  },
  {
   "cell_type": "code",
   "execution_count": 5,
   "metadata": {},
   "outputs": [
    {
     "ename": "SyntaxError",
     "evalue": "invalid syntax (<ipython-input-5-b350e74a1188>, line 3)",
     "output_type": "error",
     "traceback": [
      "\u001b[1;36m  File \u001b[1;32m\"<ipython-input-5-b350e74a1188>\"\u001b[1;36m, line \u001b[1;32m3\u001b[0m\n\u001b[1;33m    if x > 0:\u001b[0m\n\u001b[1;37m            ^\u001b[0m\n\u001b[1;31mSyntaxError\u001b[0m\u001b[1;31m:\u001b[0m invalid syntax\n"
     ]
    }
   ],
   "source": [
    "##52. Write a Python program to check if a number is positive, negative or zero.\n",
    "x= (int(input())\n",
    "  if x > 0:\n",
    "print(\"Positive number\")\n",
    "elif x == 0:\n",
    "print(\"Zero\")\n",
    "else:\n",
    "print(\"Negative number\")"
   ]
  },
  {
   "cell_type": "code",
   "execution_count": 21,
   "metadata": {},
   "outputs": [
    {
     "name": "stdout",
     "output_type": "stream",
     "text": [
      "hvhv\n",
      "Only numerical values are allowed, so this wrong\n"
     ]
    }
   ],
   "source": [
    "###53. Write a Python program to input a number, if it is not a number generate an error message\n",
    "n = input()\n",
    "check= n.isnumeric()\n",
    "if check:\n",
    "    print(\"It is numberical\")\n",
    "else:\n",
    "    print(\"Only numerical values are allowed, so this wrong\")\n",
    "\n"
   ]
  },
  {
   "cell_type": "code",
   "execution_count": 17,
   "metadata": {},
   "outputs": [
    {
     "name": "stdout",
     "output_type": "stream",
     "text": [
      "The first string : may\n",
      "The second string : may\n"
     ]
    },
    {
     "ename": "NameError",
     "evalue": "name 'str_input1' is not defined",
     "output_type": "error",
     "traceback": [
      "\u001b[1;31m---------------------------------------------------------------------------\u001b[0m",
      "\u001b[1;31mNameError\u001b[0m                                 Traceback (most recent call last)",
      "\u001b[1;32m<ipython-input-17-68375ba03144>\u001b[0m in \u001b[0;36m<module>\u001b[1;34m\u001b[0m\n\u001b[0;32m     11\u001b[0m \u001b[0mstr1\u001b[0m \u001b[1;33m=\u001b[0m \u001b[0minput\u001b[0m\u001b[1;33m(\u001b[0m\u001b[1;34m\"The first string : \"\u001b[0m\u001b[1;33m)\u001b[0m\u001b[1;33m\u001b[0m\u001b[1;33m\u001b[0m\u001b[0m\n\u001b[0;32m     12\u001b[0m \u001b[0mstr2\u001b[0m\u001b[1;33m=\u001b[0m \u001b[0minput\u001b[0m\u001b[1;33m(\u001b[0m\u001b[1;34m\"The second string : \"\u001b[0m\u001b[1;33m)\u001b[0m\u001b[1;33m\u001b[0m\u001b[1;33m\u001b[0m\u001b[0m\n\u001b[1;32m---> 13\u001b[1;33m \u001b[1;32mif\u001b[0m \u001b[0mstr_input1\u001b[0m \u001b[1;33m!=\u001b[0m \u001b[0mstr_input2\u001b[0m\u001b[1;33m:\u001b[0m\u001b[1;33m\u001b[0m\u001b[1;33m\u001b[0m\u001b[0m\n\u001b[0m\u001b[0;32m     14\u001b[0m     \u001b[0mprint\u001b[0m \u001b[1;33m(\u001b[0m\u001b[1;34m\"The two strings are different.\"\u001b[0m\u001b[1;33m)\u001b[0m\u001b[1;33m\u001b[0m\u001b[1;33m\u001b[0m\u001b[0m\n\u001b[0;32m     15\u001b[0m \u001b[1;32melse\u001b[0m\u001b[1;33m:\u001b[0m\u001b[1;33m\u001b[0m\u001b[1;33m\u001b[0m\u001b[0m\n",
      "\u001b[1;31mNameError\u001b[0m: name 'str_input1' is not defined"
     ]
    }
   ],
   "source": [
    "#55. Write a Python program to prove that two string variables are equals.\n",
    "#n ='hello'\n",
    "#m ='heloo'\n",
    "#if m == n:\n",
    "   # print(\"Equal\")\n",
    "#else:\n",
    "   # print(\"not equal\")\n",
    "    \n",
    "    \n",
    "    \n",
    "str1 = input(\"The first string : \")\n",
    "str2= input(\"The second string : \")\n",
    "if str_input1 != str_input2:\n",
    "    print (\"The two strings are different.\")\n",
    "else:\n",
    "    print (\"The two strings are the same.\")\n",
    "\n"
   ]
  },
  {
   "cell_type": "markdown",
   "metadata": {},
   "source": [
    "57. Write a Python program to check if lowercase letters exist in a string.\n",
    "s = 'XYaB'\n"
   ]
  },
  {
   "cell_type": "code",
   "execution_count": 18,
   "metadata": {},
   "outputs": [
    {
     "name": "stdout",
     "output_type": "stream",
     "text": [
      " There is lower case letter\n"
     ]
    }
   ],
   "source": [
    "s = 'XYaB'\n",
    "result=any(x.islower() for x in s)\n",
    "if result:\n",
    "    print(\" There is lower case letter\")\n",
    "else :\n",
    "    print(\" No lowercase letters\")\n"
   ]
  },
  {
   "cell_type": "markdown",
   "metadata": {},
   "source": [
    "63. Write a Python function to find the maximum and minimum numbers from a sequence of\n",
    "numbers\n"
   ]
  },
  {
   "cell_type": "code",
   "execution_count": 19,
   "metadata": {},
   "outputs": [
    {
     "name": "stdout",
     "output_type": "stream",
     "text": [
      " There is lower case letter\n"
     ]
    }
   ],
   "source": [
    "s = 'XYaB'\n",
    "result=any(x.islower() for x in s)\n",
    "if result:\n",
    "    print(\" There is lower case letter\")\n",
    "else :\n",
    "    print(\" No lowercase letters\")\n"
   ]
  },
  {
   "cell_type": "code",
   "execution_count": 20,
   "metadata": {},
   "outputs": [
    {
     "name": "stdout",
     "output_type": "stream",
     "text": [
      " max  50\n",
      " min  5\n"
     ]
    }
   ],
   "source": [
    "##63. Write a Python function to find the maximum and minimum numbers from a sequence of\n",
    "#numbers.\n",
    "\n",
    "\n",
    "\n",
    "x=[9,5,7,9,12,50,11,6,7]\n",
    "max=x[0]\n",
    "min=x[0]\n",
    "for xi in x:\n",
    "    if xi>max:\n",
    "     max=xi\n",
    "    if xi<min:\n",
    "     min=xi\n",
    "    \n",
    "print(\" max \",max)\n",
    "print(\" min \",min)\n"
   ]
  },
  {
   "cell_type": "markdown",
   "metadata": {},
   "source": [
    "36. Write a Python program to compute the distance between the points (x1, y1) and (x2, y2)."
   ]
  },
  {
   "cell_type": "code",
   "execution_count": null,
   "metadata": {},
   "outputs": [],
   "source": []
  }
 ],
 "metadata": {
  "kernelspec": {
   "display_name": "Python 3",
   "language": "python",
   "name": "python3"
  },
  "language_info": {
   "codemirror_mode": {
    "name": "ipython",
    "version": 3
   },
   "file_extension": ".py",
   "mimetype": "text/x-python",
   "name": "python",
   "nbconvert_exporter": "python",
   "pygments_lexer": "ipython3",
   "version": "3.7.4"
  }
 },
 "nbformat": 4,
 "nbformat_minor": 2
}
