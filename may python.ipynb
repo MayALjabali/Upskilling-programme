{
 "cells": [
  {
   "cell_type": "markdown",
   "metadata": {},
   "source": [
    "4. Write a program that reads three integers (a, b, and c), computes the following formulas and\n",
    "stores the results in the variables x1, x2 and prints the results of the program"
   ]
  },
  {
   "cell_type": "code",
   "execution_count": 5,
   "metadata": {},
   "outputs": [
    {
     "ename": "IndentationError",
     "evalue": "unexpected indent (<ipython-input-5-ec8167898fd3>, line 4)",
     "output_type": "error",
     "traceback": [
      "\u001b[1;36m  File \u001b[1;32m\"<ipython-input-5-ec8167898fd3>\"\u001b[1;36m, line \u001b[1;32m4\u001b[0m\n\u001b[1;33m    print(x=(a+c^4)/2*a - 3*(a+b^2)/c)\u001b[0m\n\u001b[1;37m    ^\u001b[0m\n\u001b[1;31mIndentationError\u001b[0m\u001b[1;31m:\u001b[0m unexpected indent\n"
     ]
    }
   ],
   "source": [
    "a=2\n",
    "b=4\n",
    "c=1\n",
    "  print(x=(a+c^4)/2*a - 3*(a+b^2)/c) \n",
    "\n"
   ]
  },
  {
   "cell_type": "markdown",
   "metadata": {},
   "source": [
    "Write a program that reads two numbers a and b. Print the maximum value of the two numbers."
   ]
  },
  {
   "cell_type": "code",
   "execution_count": 8,
   "metadata": {},
   "outputs": [
    {
     "name": "stdout",
     "output_type": "stream",
     "text": [
      "14\n"
     ]
    }
   ],
   "source": [
    "def maximum(a, b, c): \n",
    "    list = [a, b, c] \n",
    "    return max(list) \n",
    "  \n",
    "# Driven code  \n",
    "a = 10\n",
    "b = 14\n",
    "c = 12\n",
    "print(maximum(a, b, c))  "
   ]
  },
  {
   "cell_type": "markdown",
   "metadata": {},
   "source": [
    ". Write a program to convert days into years, weeks and days."
   ]
  },
  {
   "cell_type": "code",
   "execution_count": 10,
   "metadata": {},
   "outputs": [
    {
     "name": "stdout",
     "output_type": "stream",
     "text": [
      "years =  0 \n",
      "weeks =  28 \n",
      "days =  4\n"
     ]
    }
   ],
   "source": [
    "DAYS_IN_WEEK = 7\n",
    "  \n",
    "# Function to find  \n",
    "# year, week, days  \n",
    "def find( number_of_days ): \n",
    "  \n",
    "    # Assume that years is \n",
    "    # of 365 days \n",
    "    year = int(number_of_days / 365) \n",
    "    week = int((number_of_days % 365) / \n",
    "                DAYS_IN_WEEK) \n",
    "    days = (number_of_days % 365) % DAYS_IN_WEEK \n",
    "      \n",
    "    print(\"years = \",year, \n",
    "          \"\\nweeks = \",week, \n",
    "          \"\\ndays = \",days) \n",
    "      \n",
    "# Driver Code \n",
    "number_of_days = 200\n",
    "find(number_of_days) "
   ]
  },
  {
   "cell_type": "markdown",
   "metadata": {},
   "source": [
    "Write a program to read temperature in Celsius and convert it into Fahrenheit."
   ]
  },
  {
   "cell_type": "code",
   "execution_count": 11,
   "metadata": {},
   "outputs": [
    {
     "name": "stdout",
     "output_type": "stream",
     "text": [
      "37.5 degree Celsius is equal to 99.5 degree Fahrenheit\n"
     ]
    }
   ],
   "source": [
    "# Python Program to convert temperature in celsius to fahrenheit\n",
    "\n",
    "# change this value for a different result\n",
    "celsius = 37.5\n",
    "\n",
    "# calculate fahrenheit\n",
    "fahrenheit = (celsius * 1.8) + 32\n",
    "print('%0.1f degree Celsius is equal to %0.1f degree Fahrenheit' %(celsius,fahrenheit))"
   ]
  },
  {
   "cell_type": "markdown",
   "metadata": {},
   "source": [
    "Write a program that reads two oat number and stores their values in variable x and y. the"
   ]
  },
  {
   "cell_type": "markdown",
   "metadata": {},
   "source": [
    "# Python program to swap two variables\n",
    "\n",
    "# To take input from the user\n",
    "# x = input('Enter value of x: ')\n",
    "# y = input('Enter value of y: ')\n",
    "\n",
    "x = 5\n",
    "y = 10\n",
    "\n",
    "# create a temporary variable and swap the values\n",
    "temp = x\n",
    "x = y\n",
    "y = temp\n",
    "\n",
    "print('The value of x after swapping: {}'.format(x))\n",
    "print('The value of y after swapping: {}'.format(y))"
   ]
  },
  {
   "cell_type": "markdown",
   "metadata": {},
   "source": [
    "Write a program that classifies a student marks as follows:\n",
    "[90 − 100] : A\n",
    "[80 − 90] : B\n",
    "[70 − 80] : C\n",
    "[60 − 70] : D\n",
    "[50 − 60] : E\n",
    "[0 − 50] : F\n"
   ]
  },
  {
   "cell_type": "code",
   "execution_count": null,
   "metadata": {},
   "outputs": [],
   "source": []
  }
 ],
 "metadata": {
  "kernelspec": {
   "display_name": "Python 3",
   "language": "python",
   "name": "python3"
  },
  "language_info": {
   "codemirror_mode": {
    "name": "ipython",
    "version": 3
   },
   "file_extension": ".py",
   "mimetype": "text/x-python",
   "name": "python",
   "nbconvert_exporter": "python",
   "pygments_lexer": "ipython3",
   "version": "3.7.4"
  }
 },
 "nbformat": 4,
 "nbformat_minor": 2
}
