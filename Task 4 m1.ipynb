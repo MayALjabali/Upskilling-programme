{
 "cells": [
  {
   "cell_type": "code",
   "execution_count": 1,
   "metadata": {},
   "outputs": [
    {
     "name": "stdout",
     "output_type": "stream",
     "text": [
      "Number of elements in the file:  4106\n"
     ]
    }
   ],
   "source": [
    "f = open('RE3.txt', encoding=\"utf8\")\n",
    "def count_elements():\n",
    " s=0\n",
    " f = open('RE3.txt', encoding=\"utf8\")   #1. The number of elements in the file.\n",
    " for i in f:\n",
    "  for number in i.split(): \n",
    "   s+=1\n",
    "   \n",
    " return s\n",
    " \n",
    "print(\"Number of elements in the file: \",count_elements())\n",
    "\n",
    "\n"
   ]
  },
  {
   "cell_type": "code",
   "execution_count": 2,
   "metadata": {},
   "outputs": [
    {
     "name": "stdout",
     "output_type": "stream",
     "text": [
      "\n",
      "\n"
     ]
    }
   ],
   "source": [
    "dic = dict() \n",
    "  \n",
    "\n",
    "for li in f: \n",
    "    \n",
    "    li = li.strip() \n",
    "  \n",
    "    li = li.lower() \n",
    "  \n",
    "    w = li.split(\" \") \n",
    "  \n",
    "    for k in w: \n",
    "        \n",
    "        if k in dic: \n",
    "            dic[k] = dic[k] + 1\n",
    "        else: \n",
    "            dic[k] = 1\n",
    "print('\\n')\n",
    "found=False \n"
   ]
  },
  {
   "cell_type": "code",
   "execution_count": 3,
   "metadata": {},
   "outputs": [
    {
     "name": "stdout",
     "output_type": "stream",
     "text": [
      "No empty tags in the file\n",
      "\n",
      "\n"
     ]
    }
   ],
   "source": [
    "for key in list(dic.keys()):\n",
    " if key=='</>':\n",
    "  print(key, \":\", dic[key])#2. The number of empty tags in the file.\n",
    "  found=True\n",
    "if found==False:\n",
    " print(\"No empty tags in the file\")\n",
    "print('\\n')\n"
   ]
  },
  {
   "cell_type": "code",
   "execution_count": 4,
   "metadata": {},
   "outputs": [
    {
     "name": "stdout",
     "output_type": "stream",
     "text": [
      "poem : 17\n"
     ]
    }
   ],
   "source": [
    "for key in list(dic.keys()):\n",
    " if key=='poem':\n",
    "  print(key, \":\", dic[key])### 4. How many time the word (poem) appeared in the file..\n"
   ]
  },
  {
   "cell_type": "code",
   "execution_count": 5,
   "metadata": {},
   "outputs": [
    {
     "name": "stdout",
     "output_type": "stream",
     "text": [
      "\n",
      "\n",
      "The title of the documents is :  English is tough stuff! Tricky English poem read aloud with IPA indications, and with funny images - Fluent in 3 months - Language Hacking and Travel Tips\n"
     ]
    }
   ],
   "source": [
    "import re\n",
    "\n",
    "with open('RE3.txt', encoding=\"utf8\") as myfile:\n",
    "  data = myfile.read()\n",
    "\n",
    "print('\\n') \n",
    "m = re.search('<title>(.*?)</title>',data) ##6. The content of the title (without the tags).\n",
    "title = m.group(1)\n",
    "print('The title of the documents is : ',title)\n"
   ]
  },
  {
   "cell_type": "code",
   "execution_count": 6,
   "metadata": {},
   "outputs": [
    {
     "name": "stdout",
     "output_type": "stream",
     "text": [
      "\n",
      "\n",
      "URLS :  https://www.fluentin3months.com/\n"
     ]
    }
   ],
   "source": [
    "import re\n",
    " \n",
    "with open('RE3.txt', encoding=\"utf8\") as myfile:\n",
    "  fh = myfile.read()\n",
    "for h in fh:\n",
    " match = re.search('<a +href=\"(.+?)\" *>',fh)\n",
    "print('\\n')  \n",
    "print(\"URLS : \",match.group(1))\n"
   ]
  },
  {
   "cell_type": "code",
   "execution_count": 7,
   "metadata": {},
   "outputs": [
    {
     "name": "stdout",
     "output_type": "stream",
     "text": [
      "\n",
      "\n",
      "\n",
      "['=\"https://www.fluentin3months.com/wp-content/uploads/2013/06/tough.jpg\"', '=\"https://www.fluentin3months.com/wp-content/uploads/2013/06/tough.jpg\"', '=\"https://www.fluentin3months.com/wp-content/uploads/2013/06/tough.jpg\"', '=\"https://www.fluentin3months.com/wp-content/themes/fi3m-theme/favicon.png\"', '=\"/apple-touch-icon-180x180.png\"', '=\"/apple-touch-icon-152x152.png\"', '=\"/apple-touch-icon-144x144.png\"', '=\"/apple-touch-icon-120x120.png\"', '=\"/apple-touch-icon-114x114.png\"', '=\"/apple-touch-icon-76x76.png\"', '=\"/apple-touch-icon-72x72.png\"', '=\"/apple-touch-icon-60x60.png\"', '=\"/apple-touch-icon-57x57.png\"', '=\"/apple-touch-icon-180x180-precomposed.png\"', '=\"/apple-touch-icon-152x152-precomposed.png\"', '=\"/apple-touch-icon-144x144-precomposed.png\"', '=\"/apple-touch-icon-120x120-precomposed.png\"', '=\"/apple-touch-icon-114x114-precomposed.png\"', '=\"/apple-touch-icon-76x76-precomposed.png\"', '=\"/apple-touch-icon-72x72-precomposed.png\"', '=\"/apple-touch-icon-60x60-precomposed.png\"', '=\"/apple-touch-icon-57x57-precomposed.png\"', '=\"/apple-touch-icon.png\"', '=\"/apple-touch-icon-precomposed.png\"', '=\"https://www.fluentin3months.com/wp-content/uploads/2013/06/tough.jpg\"', '=\"https://www.fluentin3months.com/wp-content/uploads/2013/06/trick-english-poem.jpg\"', '=\"https://www.fluentin3months.com/wp-content/uploads/2013/06/trick-english-poem-2.jpg\"', '=\"https://www.fluentin3months.com/wp-content/uploads/2013/06/english-is-tough.jpg\"', \"='https://www.fluentin3months.com/wp-content/uploads/2015/11/avatar_user_2_1446890667-120x120.jpg'\", '=\"https://www.fluentin3months.com/wp-content/themes/fi3m-theme/images/join_spot.png\"', '=\"https://www.fluentin3months.com/wp-content/themes/fi3m-theme/images/converted_banner_2.jpg\"', \"='https://www.fluentin3months.com/wp-content/uploads/2016/11/fear-of-speaking-1024x560.jpg'\", \"='https://www.fluentin3months.com/wp-content/uploads/2018/03/short-videos-1024x560.jpg'\", \"='https://www.fluentin3months.com/wp-content/uploads/2017/12/spanish-numbers-1024x560.jpg'\", '=\"https://www.fluentin3months.com/wp-content/themes/fi3m-theme/images/times.png\"', '=\"https://www.fluentin3months.com/wp-content/themes/fi3m-theme/images/ng.png\"', '=\"https://www.fluentin3months.com/wp-content/themes/fi3m-theme/images/4ww.png\"', '=\"https://www.fluentin3months.com/wp-content/themes/fi3m-theme/images/bbc.png\"', '=\"https://www.fluentin3months.com/wp-content/themes/fi3m-theme/images/bins.png\"', '=\"https://www.fluentin3months.com/wp-content/themes/fi3m-theme/images/forbes.png\"', '=\"https://www.fluentin3months.com/wp-content/themes/fi3m-theme/images/lifehacker.png\"', '=\"https://www.fluentin3months.com/wp-content/themes/fi3m-theme/images/msn.png\"']\n",
      "\n",
      "\n",
      "\n"
     ]
    }
   ],
   "source": [
    "with open('RE3.txt', encoding=\"utf8\") as myfile:  ### 9. List of all URLs in the file.\n",
    "  fh = myfile.read()\n",
    "  \n",
    "anyofimages = \"[\\=,\\(][\\\"|\\'].[^\\=\\\"]+\\.(?i:png|bmp|jpg|gif)[\\\"|\\']\"\n",
    "\n",
    "images = re.findall(anyofimages ,fh)\n",
    "print('\\n\\n')\n",
    "print(images)\n",
    "print('\\n\\n')\n"
   ]
  },
  {
   "cell_type": "code",
   "execution_count": 8,
   "metadata": {},
   "outputs": [
    {
     "name": "stdout",
     "output_type": "stream",
     "text": [
      "This txt has no file inside :  []\n",
      "\n",
      "\n",
      "\n",
      "The number of HTML tables is :  48\n"
     ]
    }
   ],
   "source": [
    "anyoffiles = \"[\\=,\\(][\\\"|\\'].[^\\=\\\"]+\\.(?i:txt|csv|xlxs|pdf)[\\\"|\\']\"\n",
    "files = re.findall(anyoffiles ,fh)\n",
    "print('This txt has no file inside : ',files)\n",
    "tables = \"[\\=,\\(][\\\"|\\'].[^\\=\\\"]+\\.(?i:txt|div|xlxs|pdf)[\\\"|\\']\"  ###### 11. List of all files (.txt, .csv, .., etc) in the file.\n",
    "12. List of all files (.txt, .csv, .., etc) in the file.\n",
    "11. List of all files (.txt, .csv, .., etc) in the file.\n",
    "12. List of all files (.txt, .csv, .., etc) in the file\n",
    "files = re.findall(tables ,fh)\n",
    "print('\\n\\n')\n",
    "print(\"The number of HTML tables is : \", len(tables))\n"
   ]
  },
  {
   "cell_type": "code",
   "execution_count": null,
   "metadata": {},
   "outputs": [],
   "source": []
  }
 ],
 "metadata": {
  "kernelspec": {
   "display_name": "Python 3",
   "language": "python",
   "name": "python3"
  },
  "language_info": {
   "codemirror_mode": {
    "name": "ipython",
    "version": 3
   },
   "file_extension": ".py",
   "mimetype": "text/x-python",
   "name": "python",
   "nbconvert_exporter": "python",
   "pygments_lexer": "ipython3",
   "version": "3.7.4"
  }
 },
 "nbformat": 4,
 "nbformat_minor": 2
}
